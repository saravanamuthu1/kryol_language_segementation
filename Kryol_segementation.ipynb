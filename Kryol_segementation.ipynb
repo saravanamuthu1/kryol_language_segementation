{
  "nbformat": 4,
  "nbformat_minor": 0,
  "metadata": {
    "colab": {
      "provenance": [],
      "authorship_tag": "ABX9TyPRZ+J1O/Qzgkj4q6g1Dk9v",
      "include_colab_link": true
    },
    "kernelspec": {
      "name": "python3",
      "display_name": "Python 3"
    },
    "language_info": {
      "name": "python"
    }
  },
  "cells": [
    {
      "cell_type": "markdown",
      "metadata": {
        "id": "view-in-github",
        "colab_type": "text"
      },
      "source": [
        "<a href=\"https://colab.research.google.com/github/saravanamuthu1/kryol_language_segementation/blob/main/Kryol_segementation.ipynb\" target=\"_parent\"><img src=\"https://colab.research.google.com/assets/colab-badge.svg\" alt=\"Open In Colab\"/></a>"
      ]
    },
    {
      "cell_type": "markdown",
      "source": [
        "We use bidirectional LSTM from the previous task"
      ],
      "metadata": {
        "id": "scAlffHNjqOu"
      }
    },
    {
      "cell_type": "code",
      "execution_count": 60,
      "metadata": {
        "id": "gr2yjC3fKQB7"
      },
      "outputs": [],
      "source": [
        "import numpy as np\n",
        "import pandas as pd\n",
        "from tensorflow.keras.preprocessing.sequence import pad_sequences\n",
        "from tensorflow.keras.models import Sequential\n",
        "from tensorflow.keras.layers import LSTM, Embedding, Dense, TimeDistributed, Dropout, Bidirectional \n",
        "from tensorflow.keras.metrics import CategoricalAccuracy\n",
        "from tqdm import tqdm\n",
        "import csv"
      ]
    },
    {
      "cell_type": "markdown",
      "source": [
        "getting the training data from the train.tsv\n"
      ],
      "metadata": {
        "id": "Z1216TK6jyew"
      }
    },
    {
      "cell_type": "code",
      "source": [
        "data = open('train.tsv', 'r')\n",
        "all_words = []\n",
        "all_segemented_words = []\n",
        "for line in data:\n",
        "    pieces = line.rstrip(\"\\n\").split(\"\\t\")\n",
        "    all_words.append(pieces[0])\n",
        "    all_segemented_words.append(pieces[1])\n",
        "    "
      ],
      "metadata": {
        "id": "rGur6FCGKlSO"
      },
      "execution_count": 61,
      "outputs": []
    },
    {
      "cell_type": "markdown",
      "source": [
        "test data from the test.txt\n"
      ],
      "metadata": {
        "id": "DQ9IYBIekLPz"
      }
    },
    {
      "cell_type": "code",
      "source": [
        "with open('test.txt') as f: \n",
        "  test_data=[]\n",
        "  for line in f: \n",
        "    value= line.rstrip(\"\\n\")\n",
        "    test_data.append(value)"
      ],
      "metadata": {
        "id": "uzjv3C4BzdWt"
      },
      "execution_count": 62,
      "outputs": []
    },
    {
      "cell_type": "code",
      "source": [
        "validation_data=[]"
      ],
      "metadata": {
        "id": "WndO0Huv_XFw"
      },
      "execution_count": 63,
      "outputs": []
    },
    {
      "cell_type": "code",
      "source": [
        "with open('test.txt') as f: \n",
        "  for line in f: \n",
        "    line=line.rstrip('\\n')\n",
        "    validation_data.append(line)"
      ],
      "metadata": {
        "id": "yz32H7i-_VK9"
      },
      "execution_count": 64,
      "outputs": []
    },
    {
      "cell_type": "markdown",
      "source": [
        "labelling the train data as B and I\n"
      ],
      "metadata": {
        "id": "p6bjIypPks9V"
      }
    },
    {
      "cell_type": "code",
      "source": [
        "complete_list=[]\n",
        "all_label = []\n",
        "for i in all_segemented_words:\n",
        "  value=i.split(\"-\")\n",
        "  cur_word = []\n",
        "  word_label=[]\n",
        "  for i in range(0, len(value)):\n",
        "        for j in range(0, len(value[i])):\n",
        "            if j == 0:\n",
        "                cur_word.append(value[i][j])\n",
        "                word_label.append(\"B\")\n",
        "            else:\n",
        "                cur_word.append(value[i][j])\n",
        "                word_label.append(\"I\")\n",
        "  complete_list.append(cur_word)\n",
        "  all_label.append(word_label)\n"
      ],
      "metadata": {
        "id": "cPWbJzZEKbb4"
      },
      "execution_count": 65,
      "outputs": []
    },
    {
      "cell_type": "markdown",
      "source": [
        "Finding the longest string\n"
      ],
      "metadata": {
        "id": "V2eYnLIZk0t8"
      }
    },
    {
      "cell_type": "code",
      "source": [
        "longest_string = max(complete_list, key=len)\n",
        "print(len(longest_string))"
      ],
      "metadata": {
        "colab": {
          "base_uri": "https://localhost:8080/"
        },
        "id": "JLbhnIbQNtwG",
        "outputId": "20083c18-3cea-4400-8384-88071ee4285d"
      },
      "execution_count": 66,
      "outputs": [
        {
          "output_type": "stream",
          "name": "stdout",
          "text": [
            "18\n"
          ]
        }
      ]
    },
    {
      "cell_type": "markdown",
      "source": [
        "padding length"
      ],
      "metadata": {
        "id": "ihjFH8W2k6Hh"
      }
    },
    {
      "cell_type": "code",
      "source": [
        "max_len = 20"
      ],
      "metadata": {
        "id": "eSybqIi3PXso"
      },
      "execution_count": 67,
      "outputs": []
    },
    {
      "cell_type": "code",
      "source": [
        "len_letters= len(set(letter for word in complete_list for letter in word ))"
      ],
      "metadata": {
        "id": "cfffgJNTPe-W"
      },
      "execution_count": 68,
      "outputs": []
    },
    {
      "cell_type": "markdown",
      "source": [
        "enoding  the test set and training set"
      ],
      "metadata": {
        "id": "JMoxoQ0VlR14"
      }
    },
    {
      "cell_type": "code",
      "source": [
        "letters= list(set(letter for word in complete_list for letter in word ))\n",
        "letters.append('<PAD>')"
      ],
      "metadata": {
        "id": "ngl2ZLsGV_T7"
      },
      "execution_count": 69,
      "outputs": []
    },
    {
      "cell_type": "code",
      "source": [
        "test_letters= list(set(letter for word in test_data for letter in word ))\n",
        "test_letters.append('<PAD>')"
      ],
      "metadata": {
        "id": "yQOoCZdt0kwJ"
      },
      "execution_count": 70,
      "outputs": []
    },
    {
      "cell_type": "code",
      "source": [
        "len(test_letters)"
      ],
      "metadata": {
        "id": "QNzw00pD0tbs",
        "outputId": "7667ff0c-7ebd-4ebd-a279-f25659238a52",
        "colab": {
          "base_uri": "https://localhost:8080/"
        }
      },
      "execution_count": 71,
      "outputs": [
        {
          "output_type": "execute_result",
          "data": {
            "text/plain": [
              "51"
            ]
          },
          "metadata": {},
          "execution_count": 71
        }
      ]
    },
    {
      "cell_type": "code",
      "source": [
        "tags_value= len(set(tag for tag_list in all_label for tag in tag_list))"
      ],
      "metadata": {
        "id": "99GGbKnQX5aw"
      },
      "execution_count": 72,
      "outputs": []
    },
    {
      "cell_type": "code",
      "source": [
        "tags_value= list(set(tag for tag_list in all_label for tag in tag_list))"
      ],
      "metadata": {
        "id": "kxoZAByNV_1I"
      },
      "execution_count": 73,
      "outputs": []
    },
    {
      "cell_type": "code",
      "source": [
        "tags_value.append('<PAD>')"
      ],
      "metadata": {
        "id": "2mm6EhiYWNL6"
      },
      "execution_count": 74,
      "outputs": []
    },
    {
      "cell_type": "code",
      "source": [
        "word2index = {w: i for i, w in enumerate(letters)}"
      ],
      "metadata": {
        "id": "xNuP7LoFYY8-"
      },
      "execution_count": 75,
      "outputs": []
    },
    {
      "cell_type": "code",
      "source": [
        "onehot = [[word2index[w] for w in s] for s in complete_list]"
      ],
      "metadata": {
        "id": "vDa1z9Vyay8J"
      },
      "execution_count": 76,
      "outputs": []
    },
    {
      "cell_type": "code",
      "source": [
        "onehot_test= [[word2index[w] for w in s] for s in test_data]"
      ],
      "metadata": {
        "id": "3jhdD7BQL8ip"
      },
      "execution_count": 77,
      "outputs": []
    },
    {
      "cell_type": "code",
      "source": [
        "X = pad_sequences(maxlen=max_len, sequences=onehot, padding=\"post\", value=len(letters)-1)"
      ],
      "metadata": {
        "id": "wPoLcktEa0Yh"
      },
      "execution_count": 78,
      "outputs": []
    },
    {
      "cell_type": "code",
      "source": [
        "X_test= pad_sequences(maxlen=max_len, sequences=onehot_test, padding=\"post\", value=len(letters)-1)"
      ],
      "metadata": {
        "id": "6v_W8Fkv2nJA"
      },
      "execution_count": 79,
      "outputs": []
    },
    {
      "cell_type": "code",
      "source": [
        "from tensorflow.keras.utils import to_categorical"
      ],
      "metadata": {
        "id": "vTQUywm-dDdS"
      },
      "execution_count": 80,
      "outputs": []
    },
    {
      "cell_type": "code",
      "source": [
        "tag2index = {t: i for i, t in enumerate(tags_value)}"
      ],
      "metadata": {
        "id": "x3Irv8xidgWJ"
      },
      "execution_count": 81,
      "outputs": []
    },
    {
      "cell_type": "code",
      "source": [
        "onehot_y = [[tag2index[w] for w in s] for s in all_label]\n",
        "y = pad_sequences(maxlen=max_len, sequences=onehot_y, padding=\"post\", value=tag2index[\"<PAD>\"])\n",
        "y = to_categorical(y, num_classes=len(tags_value))"
      ],
      "metadata": {
        "id": "0tp-lsoGdDgG"
      },
      "execution_count": 82,
      "outputs": []
    },
    {
      "cell_type": "markdown",
      "source": [
        "Bidirectional LSTM"
      ],
      "metadata": {
        "id": "TELd11-0ly59"
      }
    },
    {
      "cell_type": "code",
      "source": [
        "model = Sequential()\n",
        "model.add(Embedding(input_dim=len(letters), output_dim=50, input_length=max_len))\n",
        "model.add(Bidirectional(LSTM(units=100, return_sequences=True, recurrent_dropout=0.1)))\n",
        "model.add(TimeDistributed(Dense(len(tags_value), activation=\"softmax\")))\n",
        "model.compile(optimizer=\"adam\", loss=\"categorical_crossentropy\", metrics=[\"accuracy\"])\n",
        "print(model.summary())"
      ],
      "metadata": {
        "colab": {
          "base_uri": "https://localhost:8080/"
        },
        "id": "_Y4S7ubYdxXQ",
        "outputId": "dd46df1d-96f8-4241-e253-bd7aa6951eb0"
      },
      "execution_count": 83,
      "outputs": [
        {
          "output_type": "stream",
          "name": "stdout",
          "text": [
            "Model: \"sequential_1\"\n",
            "_________________________________________________________________\n",
            " Layer (type)                Output Shape              Param #   \n",
            "=================================================================\n",
            " embedding_1 (Embedding)     (None, 20, 50)            2600      \n",
            "                                                                 \n",
            " bidirectional_1 (Bidirectio  (None, 20, 200)          120800    \n",
            " nal)                                                            \n",
            "                                                                 \n",
            " time_distributed_1 (TimeDis  (None, 20, 3)            603       \n",
            " tributed)                                                       \n",
            "                                                                 \n",
            "=================================================================\n",
            "Total params: 124,003\n",
            "Trainable params: 124,003\n",
            "Non-trainable params: 0\n",
            "_________________________________________________________________\n",
            "None\n"
          ]
        }
      ]
    },
    {
      "cell_type": "code",
      "source": [
        "# run fit on Colab or hopper\n",
        "history = model.fit(X, y, batch_size=10, epochs=1, validation_split=0.2, verbose=1)"
      ],
      "metadata": {
        "colab": {
          "base_uri": "https://localhost:8080/"
        },
        "id": "C69zSH3ZeZSG",
        "outputId": "86b4577f-cab2-4f10-c030-c08a0ba1caa4"
      },
      "execution_count": 84,
      "outputs": [
        {
          "output_type": "stream",
          "name": "stdout",
          "text": [
            "1025/1025 [==============================] - 75s 68ms/step - loss: 0.0511 - accuracy: 0.9832 - val_loss: 0.0034 - val_accuracy: 0.9996\n"
          ]
        }
      ]
    },
    {
      "cell_type": "markdown",
      "source": [
        "Test data predictions"
      ],
      "metadata": {
        "id": "fadAsR5yl3LL"
      }
    },
    {
      "cell_type": "code",
      "source": [
        "predicted_test=[]\n",
        "end_testoutput=[]\n",
        "for test_sent in range(len(X_test)):\n",
        "  temp=[]\n",
        "  pred = model.predict(np.array([X_test[test_sent]]))\n",
        "  p = np.argmax(pred, axis=-1)\n",
        "  for i,ix in enumerate(X_test[test_sent]):\n",
        "    if ix==len(letters)-1:\n",
        "        break\n",
        "    temp.append(tags_value[p[0][i]])\n",
        "    predicted_test.append(tags_value[p[0][i]])\n",
        "  end_testoutput.append(temp)"
      ],
      "metadata": {
        "id": "Mm2ttjilei27"
      },
      "execution_count": 85,
      "outputs": []
    },
    {
      "cell_type": "markdown",
      "source": [
        "Training data prediction"
      ],
      "metadata": {
        "id": "xVoK-uUcl8Na"
      }
    },
    {
      "cell_type": "code",
      "source": [
        "predicted=[]\n",
        "actual=[]\n",
        "for test_sent in range(len(X)):\n",
        "  pred = model.predict(np.array([X[test_sent]]))\n",
        "  p = np.argmax(pred, axis=-1)\n",
        "  p_actual = np.argmax(y[test_sent],axis=-1)\n",
        "  for i,ix in enumerate(X[test_sent]):\n",
        "    if ix==len(letters)-1:\n",
        "        break\n",
        "    predicted.append(tags_value[p[0][i]])\n",
        "    actual.append(tags_value[p_actual[i]])\n"
      ],
      "metadata": {
        "id": "82cgbxIEeeuK"
      },
      "execution_count": 86,
      "outputs": []
    },
    {
      "cell_type": "markdown",
      "source": [],
      "metadata": {
        "id": "mqgb_16bmCMq"
      }
    },
    {
      "cell_type": "markdown",
      "source": [
        "Converting the predcitions to its graphemes"
      ],
      "metadata": {
        "id": "rlIJDItImCQN"
      }
    },
    {
      "cell_type": "code",
      "source": [
        "string_output=[]\n",
        "count=0\n",
        "for i,j in zip(test_data,end_testoutput):\n",
        "  count=count+1\n",
        "  empyt_string=[]\n",
        "  for index in range(0,len(i)):\n",
        "    if index <len(i)-1:\n",
        "      if j[index]== \"B\" and j[index+1] == \"B\":\n",
        "        empyt_string.append(i[index])\n",
        "      elif j[index]== \"B\" and j[index+1] == \"I\"and index<len(i)-1:\n",
        "        value=i[index]+i[index+1]\n",
        "        empyt_string.append(value)\n",
        "    elif j[index] == \"B\":\n",
        "      empyt_string.append(i[index])\n",
        "  string_output.append(empyt_string)\n",
        "\n"
      ],
      "metadata": {
        "id": "kjxlG1xw4PId"
      },
      "execution_count": 87,
      "outputs": []
    },
    {
      "cell_type": "code",
      "source": [
        "string_output1=[]\n",
        "for i in string_output:\n",
        "  string_value=\"\"\n",
        "  for j in range(len(i)):\n",
        "    if j!=len(i)-1:\n",
        "      string_value=string_value+i[j]+\"-\"\n",
        "    else:\n",
        "      string_value=string_value+i[j]\n",
        "  string_output1.append(string_value)\n",
        "\n"
      ],
      "metadata": {
        "id": "ndHcpGUcb_wH"
      },
      "execution_count": 88,
      "outputs": []
    },
    {
      "cell_type": "code",
      "source": [
        "df=pd.DataFrame(predicted_test)"
      ],
      "metadata": {
        "id": "bPld6geqlw47"
      },
      "execution_count": 89,
      "outputs": []
    },
    {
      "cell_type": "code",
      "source": [
        "len(string_output)"
      ],
      "metadata": {
        "id": "POIIrq597I0i",
        "outputId": "ff3cfd9d-b6c2-4557-f147-ab0f02cf99f2",
        "colab": {
          "base_uri": "https://localhost:8080/"
        }
      },
      "execution_count": 90,
      "outputs": [
        {
          "output_type": "execute_result",
          "data": {
            "text/plain": [
              "1427"
            ]
          },
          "metadata": {},
          "execution_count": 90
        }
      ]
    },
    {
      "cell_type": "code",
      "source": [
        "df.value_counts()"
      ],
      "metadata": {
        "id": "Ra1tZUUVl6T_",
        "outputId": "853e39b6-10c6-4495-d89f-fc30cb77c9c3",
        "colab": {
          "base_uri": "https://localhost:8080/"
        }
      },
      "execution_count": 91,
      "outputs": [
        {
          "output_type": "execute_result",
          "data": {
            "text/plain": [
              "B    8742\n",
              "I     857\n",
              "dtype: int64"
            ]
          },
          "metadata": {},
          "execution_count": 91
        }
      ]
    },
    {
      "cell_type": "code",
      "source": [
        "df1=pd.DataFrame(actual)"
      ],
      "metadata": {
        "id": "aCZGKS1VmBfu"
      },
      "execution_count": 92,
      "outputs": []
    },
    {
      "cell_type": "code",
      "source": [
        "df1.value_counts()"
      ],
      "metadata": {
        "id": "JMg63hLUmHhP",
        "outputId": "77a1a9a3-16bb-484f-d3d5-5b338a4649c5",
        "colab": {
          "base_uri": "https://localhost:8080/"
        }
      },
      "execution_count": 93,
      "outputs": [
        {
          "output_type": "execute_result",
          "data": {
            "text/plain": [
              "B    79696\n",
              "I     7608\n",
              "dtype: int64"
            ]
          },
          "metadata": {},
          "execution_count": 93
        }
      ]
    },
    {
      "cell_type": "code",
      "source": [
        "count=0"
      ],
      "metadata": {
        "id": "5MjNPl__lfpZ"
      },
      "execution_count": 94,
      "outputs": []
    },
    {
      "cell_type": "code",
      "source": [
        "total_value=list(zip(predicted,actual))"
      ],
      "metadata": {
        "id": "0rAkIbE-mqbu"
      },
      "execution_count": 95,
      "outputs": []
    },
    {
      "cell_type": "markdown",
      "source": [
        "accuracy for training set"
      ],
      "metadata": {
        "id": "AuG7WRsfmjBU"
      }
    },
    {
      "cell_type": "code",
      "source": [
        "from sklearn.metrics import accuracy_score\n"
      ],
      "metadata": {
        "id": "N5Keq9gDgIgX"
      },
      "execution_count": 96,
      "outputs": []
    },
    {
      "cell_type": "code",
      "source": [
        "accuracy_score(predicted,actual)"
      ],
      "metadata": {
        "id": "iNBqNI_ljyaj",
        "outputId": "3ea5b3a2-2cf5-46f3-dca6-578bd141f4c4",
        "colab": {
          "base_uri": "https://localhost:8080/"
        }
      },
      "execution_count": 97,
      "outputs": [
        {
          "output_type": "execute_result",
          "data": {
            "text/plain": [
              "0.9980298726289746"
            ]
          },
          "metadata": {},
          "execution_count": 97
        }
      ]
    },
    {
      "cell_type": "markdown",
      "source": [
        "Recall Score\n"
      ],
      "metadata": {
        "id": "hDjlWb_bmubT"
      }
    },
    {
      "cell_type": "code",
      "source": [
        "true_pos=0\n",
        "false_neg=0\n",
        "for i,j in zip(predicted,actual):\n",
        "   if i == 'I' and j == 'I':\n",
        "     true_pos += 1\n",
        "   if i == 'B' and j == 'I':\n",
        "      false_neg += 1\n"
      ],
      "metadata": {
        "id": "AkPa6H7tgexJ"
      },
      "execution_count": 98,
      "outputs": []
    },
    {
      "cell_type": "code",
      "source": [
        "recall = 100 * (true_pos / (true_pos + false_neg))"
      ],
      "metadata": {
        "id": "zD4vGA8b5rV3"
      },
      "execution_count": 99,
      "outputs": []
    },
    {
      "cell_type": "markdown",
      "source": [
        "Precision Score\n"
      ],
      "metadata": {
        "id": "n69QARAWmxkY"
      }
    },
    {
      "cell_type": "code",
      "source": [
        "true_pos1 = 0\n",
        "false_pos1 = 0\n",
        "for i,j in zip(predicted,actual):\n",
        "   if i == 'I' and j == 'I':\n",
        "     true_pos1 += 1\n",
        "   if i == 'I' and j == 'B':\n",
        "      false_pos1 += 1"
      ],
      "metadata": {
        "id": "iGPX4qSy5yc_"
      },
      "execution_count": 100,
      "outputs": []
    },
    {
      "cell_type": "code",
      "source": [
        "precision = 100 * (true_pos1 / (true_pos1 + false_pos1))"
      ],
      "metadata": {
        "id": "kjB9rHL6mer0"
      },
      "execution_count": 101,
      "outputs": []
    },
    {
      "cell_type": "code",
      "source": [
        "precision"
      ],
      "metadata": {
        "id": "p6ctoHoC5zbW",
        "outputId": "da2ba504-fd87-43af-91be-010fd94c78d9",
        "colab": {
          "base_uri": "https://localhost:8080/"
        }
      },
      "execution_count": 102,
      "outputs": [
        {
          "output_type": "execute_result",
          "data": {
            "text/plain": [
              "99.08898864536573"
            ]
          },
          "metadata": {},
          "execution_count": 102
        }
      ]
    },
    {
      "cell_type": "markdown",
      "source": [
        "Fscore"
      ],
      "metadata": {
        "id": "IPzVS4e_m1Nv"
      }
    },
    {
      "cell_type": "code",
      "source": [
        "fscore = (2 * (precision * recall)) / (precision + recall)\n",
        "print(\"Fscore: \", fscore)"
      ],
      "metadata": {
        "id": "K85Xgg7M6QoI",
        "outputId": "d15c4361-ec6c-46c9-9798-0a94fc5213e9",
        "colab": {
          "base_uri": "https://localhost:8080/"
        }
      },
      "execution_count": 103,
      "outputs": [
        {
          "output_type": "stream",
          "name": "stdout",
          "text": [
            "Fscore:  98.86707943617442\n"
          ]
        }
      ]
    },
    {
      "cell_type": "markdown",
      "source": [
        "Final Graphemes"
      ],
      "metadata": {
        "id": "bzfFLoRdm317"
      }
    },
    {
      "cell_type": "code",
      "source": [
        "f = open(\"output.txt\", \"a\")\n",
        "for i,j in zip(validation_data,string_output1):\n",
        "  f.write(i)\n",
        "  f.write(\"\\t\")\n",
        "  f.write(j)\n",
        "  f.write('\\n')\n",
        "f.close()"
      ],
      "metadata": {
        "id": "lZJ_VoM0G2SO"
      },
      "execution_count": 104,
      "outputs": []
    }
  ]
}