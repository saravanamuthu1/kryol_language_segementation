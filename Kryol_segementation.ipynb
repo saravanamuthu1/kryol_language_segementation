{
  "nbformat": 4,
  "nbformat_minor": 0,
  "metadata": {
    "colab": {
      "provenance": [],
      "authorship_tag": "ABX9TyMsmCSyFoIycJ7ii0Z9oWfw",
      "include_colab_link": true
    },
    "kernelspec": {
      "name": "python3",
      "display_name": "Python 3"
    },
    "language_info": {
      "name": "python"
    }
  },
  "cells": [
    {
      "cell_type": "markdown",
      "metadata": {
        "id": "view-in-github",
        "colab_type": "text"
      },
      "source": [
        "<a href=\"https://colab.research.google.com/github/saravanamuthu1/kryol_language_segementation/blob/main/Kryol_segementation.ipynb\" target=\"_parent\"><img src=\"https://colab.research.google.com/assets/colab-badge.svg\" alt=\"Open In Colab\"/></a>"
      ]
    },
    {
      "cell_type": "code",
      "execution_count": 63,
      "metadata": {
        "id": "gr2yjC3fKQB7"
      },
      "outputs": [],
      "source": [
        "import numpy as np\n",
        "import pandas as pd\n",
        "from tensorflow.keras.preprocessing.sequence import pad_sequences\n",
        "from tensorflow.keras.models import Sequential\n",
        "from tensorflow.keras.layers import LSTM, Embedding, Dense, TimeDistributed, Dropout, Bidirectional \n",
        "from tensorflow.keras.metrics import CategoricalAccuracy\n",
        "from tqdm import tqdm\n",
        "import csv"
      ]
    },
    {
      "cell_type": "code",
      "source": [
        "data = open('train.tsv', 'r')\n",
        "all_words = []\n",
        "all_segemented_words = []\n",
        "for line in data:\n",
        "    pieces = line.rstrip(\"\\n\").split(\"\\t\")\n",
        "    all_words.append(pieces[0])\n",
        "    all_segemented_words.append(pieces[1])\n",
        "    "
      ],
      "metadata": {
        "id": "rGur6FCGKlSO"
      },
      "execution_count": 64,
      "outputs": []
    },
    {
      "cell_type": "code",
      "source": [
        "complete_list=[]\n",
        "all_label = []\n",
        "for i in all_segemented_words:\n",
        "  value=i.split(\"-\")\n",
        "  cur_word = []\n",
        "  word_label=[]\n",
        "  for i in range(0, len(value)):\n",
        "        for j in range(0, len(value[i])):\n",
        "            if j == 0:\n",
        "                cur_word.append(value[i][j])\n",
        "                word_label.append(\"B\")\n",
        "            else:\n",
        "                cur_word.append(value[i][j])\n",
        "                word_label.append(\"I\")\n",
        "  complete_list.append(cur_word)\n",
        "  all_label.append(word_label)\n"
      ],
      "metadata": {
        "id": "cPWbJzZEKbb4"
      },
      "execution_count": 65,
      "outputs": []
    },
    {
      "cell_type": "code",
      "source": [
        "complete_list[3]"
      ],
      "metadata": {
        "id": "232lWCwBFnJL",
        "outputId": "cb3b1587-d8bb-4c37-ba95-514d2a1441c4",
        "colab": {
          "base_uri": "https://localhost:8080/"
        }
      },
      "execution_count": 102,
      "outputs": [
        {
          "output_type": "execute_result",
          "data": {
            "text/plain": [
              "['v', 'e', 'j', 'e', 't', 'a', 'l']"
            ]
          },
          "metadata": {},
          "execution_count": 102
        }
      ]
    },
    {
      "cell_type": "code",
      "source": [
        "len(complete_list)"
      ],
      "metadata": {
        "id": "Xcg653Pg9dBN",
        "outputId": "ec0de0e7-a127-4231-d93d-2ace12b4d846",
        "colab": {
          "base_uri": "https://localhost:8080/"
        }
      },
      "execution_count": 99,
      "outputs": [
        {
          "output_type": "execute_result",
          "data": {
            "text/plain": [
              "12812"
            ]
          },
          "metadata": {},
          "execution_count": 99
        }
      ]
    },
    {
      "cell_type": "code",
      "source": [
        "longest_string = max(complete_list, key=len)\n",
        "print(len(longest_string))"
      ],
      "metadata": {
        "colab": {
          "base_uri": "https://localhost:8080/"
        },
        "id": "JLbhnIbQNtwG",
        "outputId": "6690bc3a-1edb-494b-829a-2bb581cd06c5"
      },
      "execution_count": 66,
      "outputs": [
        {
          "output_type": "stream",
          "name": "stdout",
          "text": [
            "18\n"
          ]
        }
      ]
    },
    {
      "cell_type": "code",
      "source": [
        "len(all_label)"
      ],
      "metadata": {
        "id": "td1xkeuFESew",
        "outputId": "6b2132b6-97cb-4a41-a26c-139a2e4f7d73",
        "colab": {
          "base_uri": "https://localhost:8080/"
        }
      },
      "execution_count": 100,
      "outputs": [
        {
          "output_type": "execute_result",
          "data": {
            "text/plain": [
              "12812"
            ]
          },
          "metadata": {},
          "execution_count": 100
        }
      ]
    },
    {
      "cell_type": "code",
      "source": [
        "max_len = 20"
      ],
      "metadata": {
        "id": "eSybqIi3PXso"
      },
      "execution_count": 67,
      "outputs": []
    },
    {
      "cell_type": "code",
      "source": [
        "len_letters= len(set(letter for word in complete_list for letter in word ))"
      ],
      "metadata": {
        "id": "cfffgJNTPe-W"
      },
      "execution_count": 68,
      "outputs": []
    },
    {
      "cell_type": "code",
      "source": [
        "letters= list(set(letter for word in complete_list for letter in word ))\n",
        "letters.append('<PAD>')"
      ],
      "metadata": {
        "id": "ngl2ZLsGV_T7"
      },
      "execution_count": 69,
      "outputs": []
    },
    {
      "cell_type": "code",
      "source": [
        "letters"
      ],
      "metadata": {
        "colab": {
          "base_uri": "https://localhost:8080/"
        },
        "id": "347OxjOMbp4q",
        "outputId": "b16ca5d6-b6a1-4bac-923c-b488ae934624"
      },
      "execution_count": 70,
      "outputs": [
        {
          "output_type": "execute_result",
          "data": {
            "text/plain": [
              "['I',\n",
              " 'f',\n",
              " 'b',\n",
              " 'R',\n",
              " 'h',\n",
              " 'P',\n",
              " 'Y',\n",
              " 'l',\n",
              " 'i',\n",
              " 'è',\n",
              " 'T',\n",
              " 'm',\n",
              " 'C',\n",
              " 's',\n",
              " 'e',\n",
              " 'Z',\n",
              " 'v',\n",
              " 'o',\n",
              " 'ò',\n",
              " 'A',\n",
              " 'S',\n",
              " 'c',\n",
              " 'J',\n",
              " 'N',\n",
              " 'E',\n",
              " 'O',\n",
              " 'V',\n",
              " 'à',\n",
              " 'Ò',\n",
              " 'W',\n",
              " 'K',\n",
              " 'g',\n",
              " 'B',\n",
              " 'L',\n",
              " 'F',\n",
              " 'j',\n",
              " 'u',\n",
              " 't',\n",
              " 'D',\n",
              " 'È',\n",
              " 'M',\n",
              " 'G',\n",
              " 'r',\n",
              " 'd',\n",
              " 'k',\n",
              " 'w',\n",
              " 'p',\n",
              " 'a',\n",
              " 'y',\n",
              " 'z',\n",
              " 'n',\n",
              " '<PAD>']"
            ]
          },
          "metadata": {},
          "execution_count": 70
        }
      ]
    },
    {
      "cell_type": "code",
      "source": [
        "tags_value= len(set(tag for tag_list in all_label for tag in tag_list))"
      ],
      "metadata": {
        "id": "99GGbKnQX5aw"
      },
      "execution_count": 71,
      "outputs": []
    },
    {
      "cell_type": "code",
      "source": [
        "tags_value= list(set(tag for tag_list in all_label for tag in tag_list))"
      ],
      "metadata": {
        "id": "kxoZAByNV_1I"
      },
      "execution_count": 72,
      "outputs": []
    },
    {
      "cell_type": "code",
      "source": [
        "tags_value.append('<PAD>')"
      ],
      "metadata": {
        "id": "2mm6EhiYWNL6"
      },
      "execution_count": 73,
      "outputs": []
    },
    {
      "cell_type": "code",
      "source": [
        "word2index = {w: i for i, w in enumerate(letters)}"
      ],
      "metadata": {
        "id": "xNuP7LoFYY8-"
      },
      "execution_count": 74,
      "outputs": []
    },
    {
      "cell_type": "code",
      "source": [
        "onehot = [[word2index[w] for w in s] for s in complete_list]"
      ],
      "metadata": {
        "id": "vDa1z9Vyay8J"
      },
      "execution_count": 75,
      "outputs": []
    },
    {
      "cell_type": "code",
      "source": [
        "X = pad_sequences(maxlen=max_len, sequences=onehot, padding=\"post\", value=len(letters)-1)"
      ],
      "metadata": {
        "id": "wPoLcktEa0Yh"
      },
      "execution_count": 76,
      "outputs": []
    },
    {
      "cell_type": "code",
      "source": [
        "from tensorflow.keras.utils import to_categorical"
      ],
      "metadata": {
        "id": "vTQUywm-dDdS"
      },
      "execution_count": 77,
      "outputs": []
    },
    {
      "cell_type": "code",
      "source": [
        "tag2index = {t: i for i, t in enumerate(tags_value)}"
      ],
      "metadata": {
        "id": "x3Irv8xidgWJ"
      },
      "execution_count": 78,
      "outputs": []
    },
    {
      "cell_type": "code",
      "source": [
        "onehot_y = [[tag2index[w] for w in s] for s in all_label]\n",
        "y = pad_sequences(maxlen=max_len, sequences=onehot_y, padding=\"post\", value=tag2index[\"<PAD>\"])\n",
        "y = to_categorical(y, num_classes=len(tags_value))"
      ],
      "metadata": {
        "id": "0tp-lsoGdDgG"
      },
      "execution_count": 79,
      "outputs": []
    },
    {
      "cell_type": "code",
      "source": [
        "from sklearn.model_selection import train_test_split\n",
        "X_train, X_test, y_train, y_test = train_test_split(X, y, test_size=0.3)"
      ],
      "metadata": {
        "id": "INpPmE8gdrRC"
      },
      "execution_count": 80,
      "outputs": []
    },
    {
      "cell_type": "code",
      "source": [
        "model = Sequential()\n",
        "model.add(Embedding(input_dim=len(letters), output_dim=50, input_length=max_len))\n",
        "model.add(Bidirectional(LSTM(units=100, return_sequences=True, recurrent_dropout=0.1)))\n",
        "model.add(TimeDistributed(Dense(len(tags_value), activation=\"softmax\")))\n",
        "model.compile(optimizer=\"adam\", loss=\"categorical_crossentropy\", metrics=[\"accuracy\"])\n",
        "print(model.summary())"
      ],
      "metadata": {
        "colab": {
          "base_uri": "https://localhost:8080/"
        },
        "id": "_Y4S7ubYdxXQ",
        "outputId": "203db437-030f-4d26-8472-e25d49fe435d"
      },
      "execution_count": 81,
      "outputs": [
        {
          "output_type": "stream",
          "name": "stdout",
          "text": [
            "Model: \"sequential_2\"\n",
            "_________________________________________________________________\n",
            " Layer (type)                Output Shape              Param #   \n",
            "=================================================================\n",
            " embedding_2 (Embedding)     (None, 20, 50)            2600      \n",
            "                                                                 \n",
            " bidirectional_2 (Bidirectio  (None, 20, 200)          120800    \n",
            " nal)                                                            \n",
            "                                                                 \n",
            " time_distributed_1 (TimeDis  (None, 20, 3)            603       \n",
            " tributed)                                                       \n",
            "                                                                 \n",
            "=================================================================\n",
            "Total params: 124,003\n",
            "Trainable params: 124,003\n",
            "Non-trainable params: 0\n",
            "_________________________________________________________________\n",
            "None\n"
          ]
        }
      ]
    },
    {
      "cell_type": "code",
      "source": [
        "# run fit on Colab or hopper\n",
        "history = model.fit(X_train, y_train, batch_size=5, epochs=1, validation_split=0.2, verbose=1)"
      ],
      "metadata": {
        "colab": {
          "base_uri": "https://localhost:8080/"
        },
        "id": "C69zSH3ZeZSG",
        "outputId": "27a27787-06dc-40de-9612-1288a93dfcd2"
      },
      "execution_count": 82,
      "outputs": [
        {
          "output_type": "stream",
          "name": "stdout",
          "text": [
            "1435/1435 [==============================] - 94s 62ms/step - loss: 0.0442 - accuracy: 0.9855 - val_loss: 0.0047 - val_accuracy: 0.9992\n"
          ]
        }
      ]
    },
    {
      "cell_type": "code",
      "source": [
        "predicted=[]\n",
        "acutal=[]"
      ],
      "metadata": {
        "id": "ZBjD9o_kiesa"
      },
      "execution_count": 83,
      "outputs": []
    },
    {
      "cell_type": "code",
      "source": [
        "for test_sent in range(len(X_test)):\n",
        "  pred = model.predict(np.array([X_test[test_sent]]))\n",
        "  p = np.argmax(pred, axis=-1)\n",
        "  p_actual = np.argmax(y_test[test_sent],axis=-1)\n",
        "  for i,ix in enumerate(X_test[test_sent]):\n",
        "    if ix==len(letters)-1:\n",
        "        break\n",
        "    predicted.append(tags_value[p[0][i]])\n",
        "    acutal.append(tags_value[p_actual[i]])"
      ],
      "metadata": {
        "id": "Mm2ttjilei27"
      },
      "execution_count": 84,
      "outputs": []
    },
    {
      "cell_type": "code",
      "source": [
        "df=pd.DataFrame(predicted)"
      ],
      "metadata": {
        "id": "bPld6geqlw47"
      },
      "execution_count": 85,
      "outputs": []
    },
    {
      "cell_type": "code",
      "source": [
        "df.value_counts()"
      ],
      "metadata": {
        "colab": {
          "base_uri": "https://localhost:8080/"
        },
        "id": "Ra1tZUUVl6T_",
        "outputId": "61d99980-7fee-4fdd-f64e-330fdfd4e469"
      },
      "execution_count": 86,
      "outputs": [
        {
          "output_type": "execute_result",
          "data": {
            "text/plain": [
              "B    23971\n",
              "I     2324\n",
              "dtype: int64"
            ]
          },
          "metadata": {},
          "execution_count": 86
        }
      ]
    },
    {
      "cell_type": "code",
      "source": [
        "df1=pd.DataFrame(acutal)"
      ],
      "metadata": {
        "id": "aCZGKS1VmBfu"
      },
      "execution_count": 87,
      "outputs": []
    },
    {
      "cell_type": "code",
      "source": [
        "df1.value_counts()"
      ],
      "metadata": {
        "colab": {
          "base_uri": "https://localhost:8080/"
        },
        "id": "JMg63hLUmHhP",
        "outputId": "2a490a0a-45bd-4f89-fdcd-5026b327de83"
      },
      "execution_count": 88,
      "outputs": [
        {
          "output_type": "execute_result",
          "data": {
            "text/plain": [
              "B    23965\n",
              "I     2330\n",
              "dtype: int64"
            ]
          },
          "metadata": {},
          "execution_count": 88
        }
      ]
    },
    {
      "cell_type": "code",
      "source": [
        "count=0"
      ],
      "metadata": {
        "id": "5MjNPl__lfpZ"
      },
      "execution_count": 89,
      "outputs": []
    },
    {
      "cell_type": "code",
      "source": [
        "total_value=list(zip(predicted,acutal))"
      ],
      "metadata": {
        "id": "0rAkIbE-mqbu"
      },
      "execution_count": 90,
      "outputs": []
    },
    {
      "cell_type": "code",
      "source": [
        "from sklearn.metrics import accuracy_score\n"
      ],
      "metadata": {
        "id": "N5Keq9gDgIgX"
      },
      "execution_count": 91,
      "outputs": []
    },
    {
      "cell_type": "code",
      "source": [
        "accuracy_score(predicted,acutal)"
      ],
      "metadata": {
        "colab": {
          "base_uri": "https://localhost:8080/"
        },
        "id": "iNBqNI_ljyaj",
        "outputId": "cd607303-7795-4f81-f159-bcce3c9bdb01"
      },
      "execution_count": 92,
      "outputs": [
        {
          "output_type": "execute_result",
          "data": {
            "text/plain": [
              "0.9978703175508652"
            ]
          },
          "metadata": {},
          "execution_count": 92
        }
      ]
    },
    {
      "cell_type": "code",
      "source": [
        "true_pos=0\n",
        "false_neg=0"
      ],
      "metadata": {
        "id": "8POpgNpM5crY"
      },
      "execution_count": 93,
      "outputs": []
    },
    {
      "cell_type": "code",
      "source": [
        "for i,j in zip(predicted,acutal):\n",
        "   if i == 'I' and j == 'I':\n",
        "     true_pos += 1\n",
        "   if i == 'B' and j == 'I':\n",
        "      false_neg += 1\n"
      ],
      "metadata": {
        "id": "AkPa6H7tgexJ"
      },
      "execution_count": 94,
      "outputs": []
    },
    {
      "cell_type": "code",
      "source": [
        "recall = 100 * (true_pos / (true_pos + false_neg))"
      ],
      "metadata": {
        "id": "zD4vGA8b5rV3"
      },
      "execution_count": 95,
      "outputs": []
    },
    {
      "cell_type": "code",
      "source": [
        "true_pos1 = 0\n",
        "false_pos1 = 0\n",
        "for i,j in zip(predicted,acutal):\n",
        "   if i == 'I' and j == 'I':\n",
        "     true_pos1 += 1\n",
        "   if i == 'I' and j == 'B':\n",
        "      false_pos1 += 1\n",
        "precision = 100 * (true_pos1 / (true_pos1 + false_pos1))"
      ],
      "metadata": {
        "id": "iGPX4qSy5yc_"
      },
      "execution_count": 96,
      "outputs": []
    },
    {
      "cell_type": "code",
      "source": [
        "precision"
      ],
      "metadata": {
        "colab": {
          "base_uri": "https://localhost:8080/"
        },
        "id": "p6ctoHoC5zbW",
        "outputId": "3fee966a-2400-45c9-f0cf-9c539613fd41"
      },
      "execution_count": 97,
      "outputs": [
        {
          "output_type": "execute_result",
          "data": {
            "text/plain": [
              "98.92426850258175"
            ]
          },
          "metadata": {},
          "execution_count": 97
        }
      ]
    },
    {
      "cell_type": "code",
      "source": [
        "fscore = (2 * (precision * recall)) / (precision + recall)\n",
        "print(\"Fscore: \", fscore)"
      ],
      "metadata": {
        "colab": {
          "base_uri": "https://localhost:8080/"
        },
        "id": "K85Xgg7M6QoI",
        "outputId": "ac735bd8-e14f-40d2-ff2c-c4e58f536d92"
      },
      "execution_count": 98,
      "outputs": [
        {
          "output_type": "stream",
          "name": "stdout",
          "text": [
            "Fscore:  98.79673399226473\n"
          ]
        }
      ]
    },
    {
      "cell_type": "code",
      "source": [],
      "metadata": {
        "id": "lZJ_VoM0G2SO"
      },
      "execution_count": null,
      "outputs": []
    }
  ]
}