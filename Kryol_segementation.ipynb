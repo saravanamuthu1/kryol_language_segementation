{
  "nbformat": 4,
  "nbformat_minor": 0,
  "metadata": {
    "colab": {
      "provenance": [],
      "authorship_tag": "ABX9TyPcBEm3buhr3js9HErRDKhD",
      "include_colab_link": true
    },
    "kernelspec": {
      "name": "python3",
      "display_name": "Python 3"
    },
    "language_info": {
      "name": "python"
    }
  },
  "cells": [
    {
      "cell_type": "markdown",
      "metadata": {
        "id": "view-in-github",
        "colab_type": "text"
      },
      "source": [
        "<a href=\"https://colab.research.google.com/github/saravanamuthu1/kryol_language_segementation/blob/main/Kryol_segementation.ipynb\" target=\"_parent\"><img src=\"https://colab.research.google.com/assets/colab-badge.svg\" alt=\"Open In Colab\"/></a>"
      ]
    },
    {
      "cell_type": "markdown",
      "source": [
        "We use bidirectional LSTM from the previous task"
      ],
      "metadata": {
        "id": "scAlffHNjqOu"
      }
    },
    {
      "cell_type": "code",
      "execution_count": 1,
      "metadata": {
        "id": "gr2yjC3fKQB7"
      },
      "outputs": [],
      "source": [
        "import numpy as np\n",
        "import pandas as pd\n",
        "from tensorflow.keras.preprocessing.sequence import pad_sequences\n",
        "from tensorflow.keras.models import Sequential\n",
        "from tensorflow.keras.layers import LSTM, Embedding, Dense, TimeDistributed, Dropout, Bidirectional \n",
        "from tensorflow.keras.metrics import CategoricalAccuracy\n",
        "from tqdm import tqdm\n",
        "import csv"
      ]
    },
    {
      "cell_type": "markdown",
      "source": [
        "getting the training data from the train.tsv\n"
      ],
      "metadata": {
        "id": "Z1216TK6jyew"
      }
    },
    {
      "cell_type": "code",
      "source": [
        "data = open('train.tsv', 'r')\n",
        "all_words = []\n",
        "all_segemented_words = []\n",
        "for line in data:\n",
        "    pieces = line.rstrip(\"\\n\").split(\"\\t\")\n",
        "    all_words.append(pieces[0])\n",
        "    all_segemented_words.append(pieces[1])\n",
        "    "
      ],
      "metadata": {
        "id": "rGur6FCGKlSO"
      },
      "execution_count": 2,
      "outputs": []
    },
    {
      "cell_type": "markdown",
      "source": [
        "test data from the test.txt\n"
      ],
      "metadata": {
        "id": "DQ9IYBIekLPz"
      }
    },
    {
      "cell_type": "code",
      "source": [
        "with open('test.txt') as f: \n",
        "  test_data=[]\n",
        "  for line in f: \n",
        "    value= line.rstrip(\"\\n\")\n",
        "    test_data.append(value)"
      ],
      "metadata": {
        "id": "uzjv3C4BzdWt"
      },
      "execution_count": 3,
      "outputs": []
    },
    {
      "cell_type": "code",
      "source": [
        "validation_data=[]"
      ],
      "metadata": {
        "id": "WndO0Huv_XFw"
      },
      "execution_count": 4,
      "outputs": []
    },
    {
      "cell_type": "code",
      "source": [
        "with open('test.txt') as f: \n",
        "  for line in f: \n",
        "    line=line.rstrip('\\n')\n",
        "    validation_data.append(line)"
      ],
      "metadata": {
        "id": "yz32H7i-_VK9"
      },
      "execution_count": 5,
      "outputs": []
    },
    {
      "cell_type": "markdown",
      "source": [
        "labelling the train data as B and I\n"
      ],
      "metadata": {
        "id": "p6bjIypPks9V"
      }
    },
    {
      "cell_type": "code",
      "source": [
        "complete_list=[]\n",
        "all_label = []\n",
        "for i in all_segemented_words:\n",
        "  value=i.split(\"-\")\n",
        "  cur_word = []\n",
        "  word_label=[]\n",
        "  for i in range(0, len(value)):\n",
        "        for j in range(0, len(value[i])):\n",
        "            if j == 0:\n",
        "                cur_word.append(value[i][j])\n",
        "                word_label.append(\"B\")\n",
        "            else:\n",
        "                cur_word.append(value[i][j])\n",
        "                word_label.append(\"I\")\n",
        "  complete_list.append(cur_word)\n",
        "  all_label.append(word_label)\n"
      ],
      "metadata": {
        "id": "cPWbJzZEKbb4"
      },
      "execution_count": 6,
      "outputs": []
    },
    {
      "cell_type": "markdown",
      "source": [
        "Finding the longest string\n"
      ],
      "metadata": {
        "id": "V2eYnLIZk0t8"
      }
    },
    {
      "cell_type": "code",
      "source": [
        "longest_string = max(complete_list, key=len)\n",
        "print(len(longest_string))"
      ],
      "metadata": {
        "colab": {
          "base_uri": "https://localhost:8080/"
        },
        "id": "JLbhnIbQNtwG",
        "outputId": "64aa613b-f11a-483b-f44b-6e38088c5666"
      },
      "execution_count": 7,
      "outputs": [
        {
          "output_type": "stream",
          "name": "stdout",
          "text": [
            "18\n"
          ]
        }
      ]
    },
    {
      "cell_type": "markdown",
      "source": [
        "padding length"
      ],
      "metadata": {
        "id": "ihjFH8W2k6Hh"
      }
    },
    {
      "cell_type": "code",
      "source": [
        "max_len = 20"
      ],
      "metadata": {
        "id": "eSybqIi3PXso"
      },
      "execution_count": 8,
      "outputs": []
    },
    {
      "cell_type": "code",
      "source": [
        "len_letters= len(set(letter for word in complete_list for letter in word ))"
      ],
      "metadata": {
        "id": "cfffgJNTPe-W"
      },
      "execution_count": 9,
      "outputs": []
    },
    {
      "cell_type": "markdown",
      "source": [
        "enoding  the test set and training set"
      ],
      "metadata": {
        "id": "JMoxoQ0VlR14"
      }
    },
    {
      "cell_type": "code",
      "source": [
        "letters= list(set(letter for word in complete_list for letter in word ))\n",
        "letters.append('<PAD>')"
      ],
      "metadata": {
        "id": "ngl2ZLsGV_T7"
      },
      "execution_count": 10,
      "outputs": []
    },
    {
      "cell_type": "code",
      "source": [
        "test_letters= list(set(letter for word in test_data for letter in word ))\n",
        "test_letters.append('<PAD>')"
      ],
      "metadata": {
        "id": "yQOoCZdt0kwJ"
      },
      "execution_count": 11,
      "outputs": []
    },
    {
      "cell_type": "code",
      "source": [
        "len(test_letters)"
      ],
      "metadata": {
        "id": "QNzw00pD0tbs",
        "outputId": "297f3d6a-6b5e-43d4-a565-b0470fe16693",
        "colab": {
          "base_uri": "https://localhost:8080/"
        }
      },
      "execution_count": 12,
      "outputs": [
        {
          "output_type": "execute_result",
          "data": {
            "text/plain": [
              "51"
            ]
          },
          "metadata": {},
          "execution_count": 12
        }
      ]
    },
    {
      "cell_type": "code",
      "source": [
        "tags_value= len(set(tag for tag_list in all_label for tag in tag_list))"
      ],
      "metadata": {
        "id": "99GGbKnQX5aw"
      },
      "execution_count": 13,
      "outputs": []
    },
    {
      "cell_type": "code",
      "source": [
        "tags_value= list(set(tag for tag_list in all_label for tag in tag_list))"
      ],
      "metadata": {
        "id": "kxoZAByNV_1I"
      },
      "execution_count": 14,
      "outputs": []
    },
    {
      "cell_type": "code",
      "source": [
        "tags_value.append('<PAD>')"
      ],
      "metadata": {
        "id": "2mm6EhiYWNL6"
      },
      "execution_count": 15,
      "outputs": []
    },
    {
      "cell_type": "code",
      "source": [
        "word2index = {w: i for i, w in enumerate(letters)}"
      ],
      "metadata": {
        "id": "xNuP7LoFYY8-"
      },
      "execution_count": 16,
      "outputs": []
    },
    {
      "cell_type": "code",
      "source": [
        "onehot = [[word2index[w] for w in s] for s in complete_list]"
      ],
      "metadata": {
        "id": "vDa1z9Vyay8J"
      },
      "execution_count": 17,
      "outputs": []
    },
    {
      "cell_type": "code",
      "source": [
        "onehot_test= [[word2index[w] for w in s] for s in test_data]"
      ],
      "metadata": {
        "id": "3jhdD7BQL8ip"
      },
      "execution_count": 18,
      "outputs": []
    },
    {
      "cell_type": "code",
      "source": [
        "X = pad_sequences(maxlen=max_len, sequences=onehot, padding=\"post\", value=len(letters)-1)"
      ],
      "metadata": {
        "id": "wPoLcktEa0Yh"
      },
      "execution_count": 19,
      "outputs": []
    },
    {
      "cell_type": "code",
      "source": [
        "X_test= pad_sequences(maxlen=max_len, sequences=onehot_test, padding=\"post\", value=len(letters)-1)"
      ],
      "metadata": {
        "id": "6v_W8Fkv2nJA"
      },
      "execution_count": 20,
      "outputs": []
    },
    {
      "cell_type": "code",
      "source": [
        "from tensorflow.keras.utils import to_categorical"
      ],
      "metadata": {
        "id": "vTQUywm-dDdS"
      },
      "execution_count": 21,
      "outputs": []
    },
    {
      "cell_type": "code",
      "source": [
        "tag2index = {t: i for i, t in enumerate(tags_value)}"
      ],
      "metadata": {
        "id": "x3Irv8xidgWJ"
      },
      "execution_count": 22,
      "outputs": []
    },
    {
      "cell_type": "code",
      "source": [
        "onehot_y = [[tag2index[w] for w in s] for s in all_label]\n",
        "y = pad_sequences(maxlen=max_len, sequences=onehot_y, padding=\"post\", value=tag2index[\"<PAD>\"])\n",
        "y = to_categorical(y, num_classes=len(tags_value))"
      ],
      "metadata": {
        "id": "0tp-lsoGdDgG"
      },
      "execution_count": 23,
      "outputs": []
    },
    {
      "cell_type": "markdown",
      "source": [
        "Bidirectional LSTM"
      ],
      "metadata": {
        "id": "TELd11-0ly59"
      }
    },
    {
      "cell_type": "code",
      "source": [
        "model = Sequential()\n",
        "model.add(Embedding(input_dim=len(letters), output_dim=50, input_length=max_len))\n",
        "model.add(Bidirectional(LSTM(units=100, return_sequences=True, recurrent_dropout=0.1)))\n",
        "model.add(TimeDistributed(Dense(len(tags_value), activation=\"softmax\")))\n",
        "model.compile(optimizer=\"adam\", loss=\"categorical_crossentropy\", metrics=[\"accuracy\"])\n",
        "print(model.summary())"
      ],
      "metadata": {
        "colab": {
          "base_uri": "https://localhost:8080/"
        },
        "id": "_Y4S7ubYdxXQ",
        "outputId": "19df2aaf-7d10-4e25-e80a-08500e7cba3e"
      },
      "execution_count": 24,
      "outputs": [
        {
          "output_type": "stream",
          "name": "stdout",
          "text": [
            "Model: \"sequential\"\n",
            "_________________________________________________________________\n",
            " Layer (type)                Output Shape              Param #   \n",
            "=================================================================\n",
            " embedding (Embedding)       (None, 20, 50)            2600      \n",
            "                                                                 \n",
            " bidirectional (Bidirectiona  (None, 20, 200)          120800    \n",
            " l)                                                              \n",
            "                                                                 \n",
            " time_distributed (TimeDistr  (None, 20, 3)            603       \n",
            " ibuted)                                                         \n",
            "                                                                 \n",
            "=================================================================\n",
            "Total params: 124,003\n",
            "Trainable params: 124,003\n",
            "Non-trainable params: 0\n",
            "_________________________________________________________________\n",
            "None\n"
          ]
        }
      ]
    },
    {
      "cell_type": "code",
      "source": [
        "# run fit on Colab or hopper\n",
        "history = model.fit(X, y, batch_size=10, epochs=1, validation_split=0.2, verbose=1)"
      ],
      "metadata": {
        "colab": {
          "base_uri": "https://localhost:8080/"
        },
        "id": "C69zSH3ZeZSG",
        "outputId": "e1762140-b91d-4a56-cf2d-570e2be88026"
      },
      "execution_count": 25,
      "outputs": [
        {
          "output_type": "stream",
          "name": "stdout",
          "text": [
            "1025/1025 [==============================] - 66s 59ms/step - loss: 0.0551 - accuracy: 0.9807 - val_loss: 0.0067 - val_accuracy: 0.9984\n"
          ]
        }
      ]
    },
    {
      "cell_type": "markdown",
      "source": [
        "Test data predictions"
      ],
      "metadata": {
        "id": "fadAsR5yl3LL"
      }
    },
    {
      "cell_type": "code",
      "source": [
        "predicted_test=[]\n",
        "end_testoutput=[]\n",
        "for test_sent in range(len(X_test)):\n",
        "  temp=[]\n",
        "  pred = model.predict(np.array([X_test[test_sent]]))\n",
        "  p = np.argmax(pred, axis=-1)\n",
        "  for i,ix in enumerate(X_test[test_sent]):\n",
        "    if ix==len(letters)-1:\n",
        "        break\n",
        "    temp.append(tags_value[p[0][i]])\n",
        "    predicted_test.append(tags_value[p[0][i]])\n",
        "  end_testoutput.append(temp)"
      ],
      "metadata": {
        "id": "Mm2ttjilei27"
      },
      "execution_count": 26,
      "outputs": []
    },
    {
      "cell_type": "markdown",
      "source": [
        "Training data prediction"
      ],
      "metadata": {
        "id": "xVoK-uUcl8Na"
      }
    },
    {
      "cell_type": "code",
      "source": [
        "predicted=[]\n",
        "actual=[]\n",
        "for test_sent in range(len(X)):\n",
        "  pred = model.predict(np.array([X[test_sent]]))\n",
        "  p = np.argmax(pred, axis=-1)\n",
        "  p_actual = np.argmax(y[test_sent],axis=-1)\n",
        "  for i,ix in enumerate(X[test_sent]):\n",
        "    if ix==len(letters)-1:\n",
        "        break\n",
        "    predicted.append(tags_value[p[0][i]])\n",
        "    actual.append(tags_value[p_actual[i]])\n"
      ],
      "metadata": {
        "id": "82cgbxIEeeuK"
      },
      "execution_count": 27,
      "outputs": []
    },
    {
      "cell_type": "markdown",
      "source": [],
      "metadata": {
        "id": "mqgb_16bmCMq"
      }
    },
    {
      "cell_type": "markdown",
      "source": [
        "Converting the predcitions to its graphemes"
      ],
      "metadata": {
        "id": "rlIJDItImCQN"
      }
    },
    {
      "cell_type": "code",
      "source": [
        "string_output=[]\n",
        "count=0\n",
        "for i,j in zip(test_data,end_testoutput):\n",
        "  count=count+1\n",
        "  empyt_string=[]\n",
        "  for index in range(0,len(i)):\n",
        "    if index <len(i)-1:\n",
        "      if j[index]== \"B\" and j[index+1] == \"B\":\n",
        "        empyt_string.append(i[index])\n",
        "      elif j[index]== \"B\" and j[index+1] == \"I\"and index<len(i)-1:\n",
        "        value=i[index]+i[index+1]\n",
        "        empyt_string.append(value)\n",
        "    elif j[index] == \"B\":\n",
        "      empyt_string.append(i[index])\n",
        "  string_output.append(empyt_string)\n",
        "\n"
      ],
      "metadata": {
        "id": "kjxlG1xw4PId"
      },
      "execution_count": 28,
      "outputs": []
    },
    {
      "cell_type": "code",
      "source": [
        "string_output1=[]\n",
        "for i in string_output:\n",
        "  string_value=\"\"\n",
        "  for j in range(len(i)):\n",
        "    if j!=len(i)-1:\n",
        "      string_value=string_value+i[j]+\"-\"\n",
        "    else:\n",
        "      string_value=string_value+i[j]\n",
        "  string_output1.append(string_value)\n",
        "\n"
      ],
      "metadata": {
        "id": "ndHcpGUcb_wH"
      },
      "execution_count": 29,
      "outputs": []
    },
    {
      "cell_type": "code",
      "source": [
        "df=pd.DataFrame(predicted_test)"
      ],
      "metadata": {
        "id": "bPld6geqlw47"
      },
      "execution_count": 30,
      "outputs": []
    },
    {
      "cell_type": "code",
      "source": [
        "len(string_output)"
      ],
      "metadata": {
        "id": "POIIrq597I0i",
        "outputId": "f3eb7e97-1c8d-45be-88b8-ed160661aff8",
        "colab": {
          "base_uri": "https://localhost:8080/"
        }
      },
      "execution_count": 31,
      "outputs": [
        {
          "output_type": "execute_result",
          "data": {
            "text/plain": [
              "1427"
            ]
          },
          "metadata": {},
          "execution_count": 31
        }
      ]
    },
    {
      "cell_type": "code",
      "source": [
        "df.value_counts()"
      ],
      "metadata": {
        "id": "Ra1tZUUVl6T_",
        "outputId": "08c53767-42c8-4623-86a5-5977748b44ac",
        "colab": {
          "base_uri": "https://localhost:8080/"
        }
      },
      "execution_count": 32,
      "outputs": [
        {
          "output_type": "execute_result",
          "data": {
            "text/plain": [
              "B    8705\n",
              "I     894\n",
              "dtype: int64"
            ]
          },
          "metadata": {},
          "execution_count": 32
        }
      ]
    },
    {
      "cell_type": "code",
      "source": [
        "df1=pd.DataFrame(actual)"
      ],
      "metadata": {
        "id": "aCZGKS1VmBfu"
      },
      "execution_count": 33,
      "outputs": []
    },
    {
      "cell_type": "code",
      "source": [
        "df1.value_counts()"
      ],
      "metadata": {
        "id": "JMg63hLUmHhP",
        "outputId": "d1e60363-fb56-4bb0-e333-d97fbd0671dd",
        "colab": {
          "base_uri": "https://localhost:8080/"
        }
      },
      "execution_count": 34,
      "outputs": [
        {
          "output_type": "execute_result",
          "data": {
            "text/plain": [
              "B    79696\n",
              "I     7608\n",
              "dtype: int64"
            ]
          },
          "metadata": {},
          "execution_count": 34
        }
      ]
    },
    {
      "cell_type": "code",
      "source": [
        "count=0"
      ],
      "metadata": {
        "id": "5MjNPl__lfpZ"
      },
      "execution_count": 35,
      "outputs": []
    },
    {
      "cell_type": "code",
      "source": [
        "total_value=list(zip(predicted,actual))"
      ],
      "metadata": {
        "id": "0rAkIbE-mqbu"
      },
      "execution_count": 36,
      "outputs": []
    },
    {
      "cell_type": "markdown",
      "source": [
        "accuracy for training set"
      ],
      "metadata": {
        "id": "AuG7WRsfmjBU"
      }
    },
    {
      "cell_type": "code",
      "source": [
        "from sklearn.metrics import accuracy_score\n"
      ],
      "metadata": {
        "id": "N5Keq9gDgIgX"
      },
      "execution_count": 37,
      "outputs": []
    },
    {
      "cell_type": "code",
      "source": [
        "accuracy_score(predicted,actual)"
      ],
      "metadata": {
        "id": "iNBqNI_ljyaj",
        "outputId": "2e3a2c47-0cf1-41ef-bbf9-94e4c39809d9",
        "colab": {
          "base_uri": "https://localhost:8080/"
        }
      },
      "execution_count": 38,
      "outputs": [
        {
          "output_type": "execute_result",
          "data": {
            "text/plain": [
              "0.9942957940071474"
            ]
          },
          "metadata": {},
          "execution_count": 38
        }
      ]
    },
    {
      "cell_type": "markdown",
      "source": [
        "Recall Score\n"
      ],
      "metadata": {
        "id": "hDjlWb_bmubT"
      }
    },
    {
      "cell_type": "code",
      "source": [
        "true_pos=0\n",
        "false_neg=0\n",
        "for i,j in zip(predicted,actual):\n",
        "   if i == 'I' and j == 'I':\n",
        "     true_pos += 1\n",
        "   if i == 'B' and j == 'I':\n",
        "      false_neg += 1\n"
      ],
      "metadata": {
        "id": "AkPa6H7tgexJ"
      },
      "execution_count": 39,
      "outputs": []
    },
    {
      "cell_type": "code",
      "source": [
        "recall = 100 * (true_pos / (true_pos + false_neg))"
      ],
      "metadata": {
        "id": "zD4vGA8b5rV3"
      },
      "execution_count": 40,
      "outputs": []
    },
    {
      "cell_type": "markdown",
      "source": [
        "Precision Score\n"
      ],
      "metadata": {
        "id": "n69QARAWmxkY"
      }
    },
    {
      "cell_type": "code",
      "source": [
        "true_pos1 = 0\n",
        "false_pos1 = 0\n",
        "for i,j in zip(predicted,actual):\n",
        "   if i == 'I' and j == 'I':\n",
        "     true_pos1 += 1\n",
        "   if i == 'I' and j == 'B':\n",
        "      false_pos1 += 1"
      ],
      "metadata": {
        "id": "iGPX4qSy5yc_"
      },
      "execution_count": 41,
      "outputs": []
    },
    {
      "cell_type": "code",
      "source": [
        "precision = 100 * (true_pos1 / (true_pos1 + false_pos1))"
      ],
      "metadata": {
        "id": "kjB9rHL6mer0"
      },
      "execution_count": 42,
      "outputs": []
    },
    {
      "cell_type": "code",
      "source": [
        "precision"
      ],
      "metadata": {
        "id": "p6ctoHoC5zbW",
        "outputId": "66c7f6d2-b85c-4609-d054-2a968e4d1065",
        "colab": {
          "base_uri": "https://localhost:8080/"
        }
      },
      "execution_count": 43,
      "outputs": [
        {
          "output_type": "execute_result",
          "data": {
            "text/plain": [
              "95.53022540983606"
            ]
          },
          "metadata": {},
          "execution_count": 43
        }
      ]
    },
    {
      "cell_type": "markdown",
      "source": [
        "Fscore"
      ],
      "metadata": {
        "id": "IPzVS4e_m1Nv"
      }
    },
    {
      "cell_type": "code",
      "source": [
        "fscore = (2 * (precision * recall)) / (precision + recall)\n",
        "print(\"Fscore: \", fscore)"
      ],
      "metadata": {
        "id": "K85Xgg7M6QoI",
        "outputId": "e2643c8d-94ae-4079-f910-3e02210c2c22",
        "colab": {
          "base_uri": "https://localhost:8080/"
        }
      },
      "execution_count": 44,
      "outputs": [
        {
          "output_type": "stream",
          "name": "stdout",
          "text": [
            "Fscore:  96.7695900363259\n"
          ]
        }
      ]
    },
    {
      "cell_type": "markdown",
      "source": [
        "Final Graphemes"
      ],
      "metadata": {
        "id": "bzfFLoRdm317"
      }
    },
    {
      "cell_type": "code",
      "source": [
        "f = open(\"output.txt\", \"a\",encoding='utf8')\n",
        "for i,j in zip(validation_data,string_output1):\n",
        "  f.write(i)\n",
        "  f.write(\"\\t\")\n",
        "  f.write(j)\n",
        "  f.write('\\n')\n",
        "f.close()"
      ],
      "metadata": {
        "id": "lZJ_VoM0G2SO"
      },
      "execution_count": 45,
      "outputs": []
    }
  ]
}