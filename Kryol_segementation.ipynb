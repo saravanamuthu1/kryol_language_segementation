{
  "nbformat": 4,
  "nbformat_minor": 0,
  "metadata": {
    "colab": {
      "provenance": [],
      "authorship_tag": "ABX9TyNjMLi/pol/kiHaEcL0oGL7",
      "include_colab_link": true
    },
    "kernelspec": {
      "name": "python3",
      "display_name": "Python 3"
    },
    "language_info": {
      "name": "python"
    }
  },
  "cells": [
    {
      "cell_type": "markdown",
      "metadata": {
        "id": "view-in-github",
        "colab_type": "text"
      },
      "source": [
        "<a href=\"https://colab.research.google.com/github/saravanamuthu1/kryol_language_segementation/blob/main/Kryol_segementation.ipynb\" target=\"_parent\"><img src=\"https://colab.research.google.com/assets/colab-badge.svg\" alt=\"Open In Colab\"/></a>"
      ]
    },
    {
      "cell_type": "code",
      "execution_count": 1,
      "metadata": {
        "id": "gr2yjC3fKQB7"
      },
      "outputs": [],
      "source": [
        "import numpy as np\n",
        "import pandas as pd\n",
        "from tensorflow.keras.preprocessing.sequence import pad_sequences\n",
        "from tensorflow.keras.models import Sequential\n",
        "from tensorflow.keras.layers import LSTM, Embedding, Dense, TimeDistributed, Dropout, Bidirectional \n",
        "from tensorflow.keras.metrics import CategoricalAccuracy\n",
        "from tqdm import tqdm\n",
        "import csv"
      ]
    },
    {
      "cell_type": "code",
      "source": [
        "data = open('train.tsv', 'r')\n",
        "all_words = []\n",
        "all_segemented_words = []\n",
        "for line in data:\n",
        "    pieces = line.rstrip(\"\\n\").split(\"\\t\")\n",
        "    all_words.append(pieces[0])\n",
        "    all_segemented_words.append(pieces[1])\n",
        "    "
      ],
      "metadata": {
        "id": "rGur6FCGKlSO"
      },
      "execution_count": 2,
      "outputs": []
    },
    {
      "cell_type": "code",
      "source": [
        "with open('test.txt') as f: \n",
        "  test_data=[]\n",
        "  for line in f: \n",
        "    value= line.rstrip(\"\\n\")\n",
        "    test_data.append(value)"
      ],
      "metadata": {
        "id": "uzjv3C4BzdWt"
      },
      "execution_count": 3,
      "outputs": []
    },
    {
      "cell_type": "code",
      "source": [
        "test_data[0]"
      ],
      "metadata": {
        "id": "LQSLjYazA0Bv",
        "outputId": "3b8cb88d-271e-40f8-c03b-f24918223734",
        "colab": {
          "base_uri": "https://localhost:8080/",
          "height": 35
        }
      },
      "execution_count": 4,
      "outputs": [
        {
          "output_type": "execute_result",
          "data": {
            "text/plain": [
              "'Oradye'"
            ],
            "application/vnd.google.colaboratory.intrinsic+json": {
              "type": "string"
            }
          },
          "metadata": {},
          "execution_count": 4
        }
      ]
    },
    {
      "cell_type": "code",
      "source": [
        "validation_data=[]"
      ],
      "metadata": {
        "id": "WndO0Huv_XFw"
      },
      "execution_count": 5,
      "outputs": []
    },
    {
      "cell_type": "code",
      "source": [
        "with open('test.txt') as f: \n",
        "  for line in f: \n",
        "    line=line.rstrip('\\n')\n",
        "    validation_data.append(line)"
      ],
      "metadata": {
        "id": "yz32H7i-_VK9"
      },
      "execution_count": 6,
      "outputs": []
    },
    {
      "cell_type": "code",
      "source": [
        "len(validation_data)"
      ],
      "metadata": {
        "id": "uT6e45Tg_sDY",
        "outputId": "5616a8c8-f7e4-4a6b-ab84-f5a352ebcddd",
        "colab": {
          "base_uri": "https://localhost:8080/"
        }
      },
      "execution_count": 7,
      "outputs": [
        {
          "output_type": "execute_result",
          "data": {
            "text/plain": [
              "1427"
            ]
          },
          "metadata": {},
          "execution_count": 7
        }
      ]
    },
    {
      "cell_type": "code",
      "source": [
        "validation_data[1]"
      ],
      "metadata": {
        "id": "igmPSIqW_v10",
        "outputId": "5a8c8357-7a9b-4ff7-82c1-d3ca3f8db9c3",
        "colab": {
          "base_uri": "https://localhost:8080/",
          "height": 35
        }
      },
      "execution_count": 8,
      "outputs": [
        {
          "output_type": "execute_result",
          "data": {
            "text/plain": [
              "'bous'"
            ],
            "application/vnd.google.colaboratory.intrinsic+json": {
              "type": "string"
            }
          },
          "metadata": {},
          "execution_count": 8
        }
      ]
    },
    {
      "cell_type": "code",
      "source": [
        "test_data[4]"
      ],
      "metadata": {
        "id": "jTaNyAXezxbX",
        "outputId": "dc6b3ca0-6bce-4e54-8b57-0c759d3b9c5a",
        "colab": {
          "base_uri": "https://localhost:8080/",
          "height": 35
        }
      },
      "execution_count": 9,
      "outputs": [
        {
          "output_type": "execute_result",
          "data": {
            "text/plain": [
              "'netwayè'"
            ],
            "application/vnd.google.colaboratory.intrinsic+json": {
              "type": "string"
            }
          },
          "metadata": {},
          "execution_count": 9
        }
      ]
    },
    {
      "cell_type": "code",
      "source": [
        "complete_list=[]\n",
        "all_label = []\n",
        "for i in all_segemented_words:\n",
        "  value=i.split(\"-\")\n",
        "  cur_word = []\n",
        "  word_label=[]\n",
        "  for i in range(0, len(value)):\n",
        "        for j in range(0, len(value[i])):\n",
        "            if j == 0:\n",
        "                cur_word.append(value[i][j])\n",
        "                word_label.append(\"B\")\n",
        "            else:\n",
        "                cur_word.append(value[i][j])\n",
        "                word_label.append(\"I\")\n",
        "  complete_list.append(cur_word)\n",
        "  all_label.append(word_label)\n"
      ],
      "metadata": {
        "id": "cPWbJzZEKbb4"
      },
      "execution_count": 10,
      "outputs": []
    },
    {
      "cell_type": "code",
      "source": [
        "complete_list[3]"
      ],
      "metadata": {
        "id": "232lWCwBFnJL",
        "outputId": "0e4f5d4d-e725-4ada-8a49-33206abd8386",
        "colab": {
          "base_uri": "https://localhost:8080/"
        }
      },
      "execution_count": 11,
      "outputs": [
        {
          "output_type": "execute_result",
          "data": {
            "text/plain": [
              "['v', 'e', 'j', 'e', 't', 'a', 'l']"
            ]
          },
          "metadata": {},
          "execution_count": 11
        }
      ]
    },
    {
      "cell_type": "code",
      "source": [
        "len(complete_list)"
      ],
      "metadata": {
        "id": "Xcg653Pg9dBN",
        "outputId": "ca9de48c-364c-46ef-cfaf-a571d87df461",
        "colab": {
          "base_uri": "https://localhost:8080/"
        }
      },
      "execution_count": 12,
      "outputs": [
        {
          "output_type": "execute_result",
          "data": {
            "text/plain": [
              "12812"
            ]
          },
          "metadata": {},
          "execution_count": 12
        }
      ]
    },
    {
      "cell_type": "code",
      "source": [
        "longest_string = max(complete_list, key=len)\n",
        "print(len(longest_string))"
      ],
      "metadata": {
        "colab": {
          "base_uri": "https://localhost:8080/"
        },
        "id": "JLbhnIbQNtwG",
        "outputId": "e3050539-c9ac-4c05-ec1e-8a311abf9603"
      },
      "execution_count": 13,
      "outputs": [
        {
          "output_type": "stream",
          "name": "stdout",
          "text": [
            "18\n"
          ]
        }
      ]
    },
    {
      "cell_type": "code",
      "source": [
        "len(all_label)"
      ],
      "metadata": {
        "id": "td1xkeuFESew",
        "outputId": "073d915d-6a07-4fc3-ff31-101808a97fe6",
        "colab": {
          "base_uri": "https://localhost:8080/"
        }
      },
      "execution_count": 14,
      "outputs": [
        {
          "output_type": "execute_result",
          "data": {
            "text/plain": [
              "12812"
            ]
          },
          "metadata": {},
          "execution_count": 14
        }
      ]
    },
    {
      "cell_type": "code",
      "source": [
        "max_len = 20"
      ],
      "metadata": {
        "id": "eSybqIi3PXso"
      },
      "execution_count": 15,
      "outputs": []
    },
    {
      "cell_type": "code",
      "source": [
        "len_letters= len(set(letter for word in complete_list for letter in word ))"
      ],
      "metadata": {
        "id": "cfffgJNTPe-W"
      },
      "execution_count": 16,
      "outputs": []
    },
    {
      "cell_type": "code",
      "source": [
        "letters= list(set(letter for word in complete_list for letter in word ))\n",
        "letters.append('<PAD>')"
      ],
      "metadata": {
        "id": "ngl2ZLsGV_T7"
      },
      "execution_count": 17,
      "outputs": []
    },
    {
      "cell_type": "code",
      "source": [
        "test_letters= list(set(letter for word in test_data for letter in word ))\n",
        "test_letters.append('<PAD>')"
      ],
      "metadata": {
        "id": "yQOoCZdt0kwJ"
      },
      "execution_count": 18,
      "outputs": []
    },
    {
      "cell_type": "code",
      "source": [
        "len(test_letters)"
      ],
      "metadata": {
        "id": "QNzw00pD0tbs",
        "outputId": "f739173a-6e0c-4dc8-8a74-eb4cc07a13c0",
        "colab": {
          "base_uri": "https://localhost:8080/"
        }
      },
      "execution_count": 19,
      "outputs": [
        {
          "output_type": "execute_result",
          "data": {
            "text/plain": [
              "51"
            ]
          },
          "metadata": {},
          "execution_count": 19
        }
      ]
    },
    {
      "cell_type": "code",
      "source": [
        "tags_value= len(set(tag for tag_list in all_label for tag in tag_list))"
      ],
      "metadata": {
        "id": "99GGbKnQX5aw"
      },
      "execution_count": 20,
      "outputs": []
    },
    {
      "cell_type": "code",
      "source": [
        "tags_value= list(set(tag for tag_list in all_label for tag in tag_list))"
      ],
      "metadata": {
        "id": "kxoZAByNV_1I"
      },
      "execution_count": 21,
      "outputs": []
    },
    {
      "cell_type": "code",
      "source": [
        "tags_value.append('<PAD>')"
      ],
      "metadata": {
        "id": "2mm6EhiYWNL6"
      },
      "execution_count": 22,
      "outputs": []
    },
    {
      "cell_type": "code",
      "source": [
        "word2index = {w: i for i, w in enumerate(letters)}"
      ],
      "metadata": {
        "id": "xNuP7LoFYY8-"
      },
      "execution_count": 23,
      "outputs": []
    },
    {
      "cell_type": "code",
      "source": [
        "onehot = [[word2index[w] for w in s] for s in complete_list]"
      ],
      "metadata": {
        "id": "vDa1z9Vyay8J"
      },
      "execution_count": 24,
      "outputs": []
    },
    {
      "cell_type": "code",
      "source": [
        "onehot_test= [[word2index[w] for w in s] for s in test_data]"
      ],
      "metadata": {
        "id": "3jhdD7BQL8ip"
      },
      "execution_count": 25,
      "outputs": []
    },
    {
      "cell_type": "code",
      "source": [
        "X = pad_sequences(maxlen=max_len, sequences=onehot, padding=\"post\", value=len(letters)-1)"
      ],
      "metadata": {
        "id": "wPoLcktEa0Yh"
      },
      "execution_count": 26,
      "outputs": []
    },
    {
      "cell_type": "code",
      "source": [
        "X_test= pad_sequences(maxlen=max_len, sequences=onehot_test, padding=\"post\", value=len(letters)-1)"
      ],
      "metadata": {
        "id": "6v_W8Fkv2nJA"
      },
      "execution_count": 27,
      "outputs": []
    },
    {
      "cell_type": "code",
      "source": [
        "from tensorflow.keras.utils import to_categorical"
      ],
      "metadata": {
        "id": "vTQUywm-dDdS"
      },
      "execution_count": 28,
      "outputs": []
    },
    {
      "cell_type": "code",
      "source": [
        "tag2index = {t: i for i, t in enumerate(tags_value)}"
      ],
      "metadata": {
        "id": "x3Irv8xidgWJ"
      },
      "execution_count": 29,
      "outputs": []
    },
    {
      "cell_type": "code",
      "source": [
        "onehot_y = [[tag2index[w] for w in s] for s in all_label]\n",
        "y = pad_sequences(maxlen=max_len, sequences=onehot_y, padding=\"post\", value=tag2index[\"<PAD>\"])\n",
        "y = to_categorical(y, num_classes=len(tags_value))"
      ],
      "metadata": {
        "id": "0tp-lsoGdDgG"
      },
      "execution_count": 30,
      "outputs": []
    },
    {
      "cell_type": "code",
      "source": [
        "model = Sequential()\n",
        "model.add(Embedding(input_dim=len(letters), output_dim=50, input_length=max_len))\n",
        "model.add(Bidirectional(LSTM(units=100, return_sequences=True, recurrent_dropout=0.1)))\n",
        "model.add(TimeDistributed(Dense(len(tags_value), activation=\"softmax\")))\n",
        "model.compile(optimizer=\"adam\", loss=\"categorical_crossentropy\", metrics=[\"accuracy\"])\n",
        "print(model.summary())"
      ],
      "metadata": {
        "colab": {
          "base_uri": "https://localhost:8080/"
        },
        "id": "_Y4S7ubYdxXQ",
        "outputId": "578f6cb9-4db0-475a-b247-db67ab42aee2"
      },
      "execution_count": 31,
      "outputs": [
        {
          "output_type": "stream",
          "name": "stdout",
          "text": [
            "Model: \"sequential\"\n",
            "_________________________________________________________________\n",
            " Layer (type)                Output Shape              Param #   \n",
            "=================================================================\n",
            " embedding (Embedding)       (None, 20, 50)            2600      \n",
            "                                                                 \n",
            " bidirectional (Bidirectiona  (None, 20, 200)          120800    \n",
            " l)                                                              \n",
            "                                                                 \n",
            " time_distributed (TimeDistr  (None, 20, 3)            603       \n",
            " ibuted)                                                         \n",
            "                                                                 \n",
            "=================================================================\n",
            "Total params: 124,003\n",
            "Trainable params: 124,003\n",
            "Non-trainable params: 0\n",
            "_________________________________________________________________\n",
            "None\n"
          ]
        }
      ]
    },
    {
      "cell_type": "code",
      "source": [
        "# run fit on Colab or hopper\n",
        "history = model.fit(X, y, batch_size=10, epochs=1, validation_split=0.2, verbose=1)"
      ],
      "metadata": {
        "colab": {
          "base_uri": "https://localhost:8080/"
        },
        "id": "C69zSH3ZeZSG",
        "outputId": "1efd0660-5c42-46fc-fad3-321b21e2ec00"
      },
      "execution_count": 34,
      "outputs": [
        {
          "output_type": "stream",
          "name": "stdout",
          "text": [
            "1025/1025 [==============================] - 71s 70ms/step - loss: 0.0022 - accuracy: 0.9994 - val_loss: 0.0011 - val_accuracy: 0.9997\n"
          ]
        }
      ]
    },
    {
      "cell_type": "code",
      "source": [
        "predicted=[]\n",
        "acutal=[]\n",
        "end_testoutput=[]"
      ],
      "metadata": {
        "id": "ZBjD9o_kiesa"
      },
      "execution_count": 35,
      "outputs": []
    },
    {
      "cell_type": "code",
      "source": [
        "for test_sent in range(len(X_test)):\n",
        "  temp=[]\n",
        "  pred = model.predict(np.array([X_test[test_sent]]))\n",
        "  p = np.argmax(pred, axis=-1)\n",
        "  for i,ix in enumerate(X_test[test_sent]):\n",
        "    if ix==len(letters)-1:\n",
        "        break\n",
        "    temp.append(tags_value[p[0][i]])\n",
        "    predicted.append(tags_value[p[0][i]])\n",
        "  print(ix,temp)\n",
        "  end_testoutput.append(temp)"
      ],
      "metadata": {
        "id": "Mm2ttjilei27",
        "outputId": "d1aac875-e527-4835-c019-cc9086a439ae",
        "colab": {
          "base_uri": "https://localhost:8080/"
        }
      },
      "execution_count": 36,
      "outputs": [
        {
          "output_type": "stream",
          "name": "stdout",
          "text": [
            "51 ['B', 'B', 'B', 'B', 'B', 'B']\n",
            "51 ['B', 'B', 'I', 'B']\n",
            "51 ['B', 'B', 'B', 'B', 'I']\n",
            "51 ['B', 'B', 'B', 'B']\n",
            "51 ['B', 'B', 'B', 'B', 'B', 'B', 'B']\n",
            "51 ['B', 'B', 'B', 'B', 'I', 'B', 'B']\n",
            "51 ['B', 'B', 'B', 'B', 'B']\n",
            "51 ['B', 'I', 'B', 'B']\n",
            "51 ['B', 'B', 'B', 'B', 'B', 'B', 'B', 'B', 'B', 'B']\n",
            "51 ['B', 'B', 'B', 'B', 'B', 'B', 'B', 'B', 'I']\n",
            "51 ['B', 'B', 'B', 'B', 'B']\n",
            "51 ['B', 'B', 'B', 'B', 'B', 'B', 'B', 'B', 'B', 'I']\n",
            "51 ['B', 'B', 'B', 'B', 'B', 'B', 'B', 'B']\n",
            "51 ['B', 'B', 'B', 'B', 'B', 'B', 'B']\n",
            "51 ['B', 'B', 'B', 'I', 'B', 'I', 'B', 'B', 'B', 'I']\n",
            "51 ['B', 'B', 'B']\n",
            "51 ['B', 'B', 'B', 'B', 'B', 'B', 'B', 'B', 'B']\n",
            "51 ['B', 'B', 'I', 'B', 'B', 'B', 'B', 'B']\n",
            "51 ['B', 'B', 'B', 'I', 'B', 'B']\n",
            "51 ['B', 'B', 'B', 'B', 'B', 'B', 'I']\n",
            "51 ['B', 'B', 'B', 'B', 'B']\n",
            "51 ['B', 'B', 'B', 'B', 'B', 'B', 'B']\n",
            "51 ['B', 'B', 'B', 'B', 'B']\n",
            "51 ['B', 'B', 'B', 'B', 'B', 'B', 'B', 'B', 'B', 'B']\n",
            "51 ['B', 'B', 'B', 'B', 'B', 'B']\n",
            "51 ['B', 'B', 'B', 'B', 'B', 'B', 'B']\n",
            "51 ['B', 'B', 'B', 'B', 'B', 'B', 'B', 'B']\n",
            "51 ['B', 'B', 'B', 'B', 'B', 'B', 'B', 'B']\n",
            "51 ['B', 'B', 'B']\n",
            "51 ['B', 'B', 'B', 'B', 'B', 'B', 'B']\n",
            "51 ['B', 'B', 'B', 'B', 'B']\n",
            "51 ['B', 'B', 'B', 'B', 'B', 'B', 'B', 'B']\n",
            "51 ['B', 'B', 'B', 'B', 'B', 'B', 'B', 'I']\n",
            "51 ['B', 'B', 'B', 'B', 'B', 'B', 'B', 'B', 'B', 'B']\n",
            "51 ['B', 'B', 'I', 'B', 'B']\n",
            "51 ['B', 'B', 'B', 'I', 'B', 'I', 'B', 'B']\n",
            "51 ['B', 'B', 'B', 'B', 'I', 'B', 'B', 'B']\n",
            "51 ['B', 'B', 'B', 'B', 'B', 'B']\n",
            "51 ['B', 'B', 'I', 'B', 'B', 'I', 'B', 'B', 'I', 'B']\n",
            "51 ['B', 'B', 'B', 'B']\n",
            "51 ['B', 'B', 'B', 'B', 'B', 'B', 'B', 'I']\n",
            "51 ['B', 'B', 'B', 'B', 'B', 'B', 'B', 'B']\n",
            "51 ['B', 'B', 'B', 'B', 'B', 'I', 'B', 'B', 'I']\n",
            "51 ['B', 'B', 'B', 'B', 'I', 'B']\n",
            "51 ['B', 'B', 'B', 'B', 'B', 'B', 'B', 'B']\n",
            "51 ['B', 'B', 'B', 'B', 'B', 'B', 'B', 'I']\n",
            "51 ['B', 'B', 'B', 'B', 'B', 'B', 'B', 'B']\n",
            "51 ['B', 'B', 'I', 'B', 'B']\n",
            "51 ['B', 'B', 'B', 'I', 'B', 'B', 'B']\n",
            "51 ['B', 'B', 'B', 'B', 'B']\n",
            "51 ['B', 'B', 'I', 'B', 'B', 'B', 'B', 'B', 'B', 'B', 'B', 'B', 'B', 'B']\n",
            "51 ['B', 'B']\n",
            "51 ['B', 'B', 'B', 'B', 'B', 'B', 'I']\n",
            "51 ['B', 'B', 'B', 'B', 'B', 'B', 'B']\n",
            "51 ['B', 'B', 'B', 'B', 'B', 'B', 'B', 'B', 'B', 'I']\n",
            "51 ['B', 'B', 'B', 'B', 'B']\n",
            "51 ['B', 'B', 'B', 'B', 'B', 'B']\n",
            "51 ['B', 'B', 'B', 'B', 'B', 'B']\n",
            "51 ['B', 'B', 'B', 'B', 'B', 'B', 'B', 'B']\n",
            "51 ['B', 'B', 'B', 'B', 'B', 'B', 'B']\n",
            "51 ['B', 'B', 'I', 'B', 'B', 'B']\n",
            "51 ['B', 'B', 'B']\n",
            "51 ['B', 'B', 'B', 'B', 'B']\n",
            "51 ['B', 'B', 'B', 'B', 'B', 'B', 'B', 'B']\n",
            "51 ['B', 'B', 'B', 'B', 'B', 'B']\n",
            "51 ['B', 'B', 'B', 'B', 'B', 'B', 'B', 'I']\n",
            "51 ['B', 'B', 'B', 'B']\n",
            "51 ['B', 'B', 'B', 'I', 'B', 'B']\n",
            "51 ['B', 'B', 'B', 'B', 'B', 'B', 'B']\n",
            "51 ['B', 'B', 'B', 'B', 'B', 'B']\n",
            "51 ['B', 'B', 'B', 'B', 'B']\n",
            "51 ['B', 'B', 'B', 'B', 'B', 'B', 'B', 'I']\n",
            "51 ['B', 'B', 'B', 'B', 'B', 'B']\n",
            "51 ['B', 'B', 'B', 'B', 'B', 'B', 'B', 'I', 'B', 'B']\n",
            "51 ['B', 'B', 'B', 'B', 'B']\n",
            "51 ['B', 'B', 'I', 'B', 'B']\n",
            "51 ['B', 'B', 'B', 'B', 'B', 'B', 'B']\n",
            "51 ['B', 'B', 'B', 'B', 'B', 'B', 'B']\n",
            "51 ['B', 'B', 'B', 'B', 'B', 'B']\n",
            "51 ['B', 'B', 'B']\n",
            "51 ['B', 'B', 'B', 'B', 'B', 'B', 'I', 'B']\n",
            "51 ['B', 'B', 'B', 'B']\n",
            "51 ['B', 'B', 'B', 'B', 'B', 'B']\n",
            "51 ['B', 'B', 'I', 'B', 'B', 'B']\n",
            "51 ['B', 'B', 'B', 'B', 'I']\n",
            "51 ['B', 'B', 'B', 'B', 'B', 'I', 'B', 'I', 'B']\n",
            "51 ['B', 'B', 'B', 'B', 'I']\n",
            "51 ['B', 'B', 'B']\n",
            "51 ['B', 'B', 'I', 'B', 'B']\n",
            "51 ['B', 'B', 'B', 'B', 'B', 'B', 'B', 'B', 'I']\n",
            "51 ['B', 'B', 'B', 'B', 'B', 'B']\n",
            "51 ['B', 'B', 'I', 'B', 'B', 'B', 'B', 'B', 'B', 'B', 'B']\n",
            "51 ['B', 'B', 'B', 'B', 'B']\n",
            "51 ['B', 'B', 'B', 'B', 'B']\n",
            "51 ['B', 'B', 'I', 'B', 'B']\n",
            "51 ['B', 'B', 'B', 'B', 'I']\n",
            "51 ['B', 'B', 'B', 'B', 'B', 'B']\n",
            "51 ['B', 'B', 'B', 'I']\n",
            "51 ['B', 'B', 'B', 'B', 'B', 'B', 'B', 'I']\n",
            "51 ['B', 'B', 'B', 'B', 'B']\n",
            "51 ['B', 'B', 'B', 'B', 'B', 'B', 'B', 'B', 'B', 'B']\n",
            "51 ['B', 'B', 'B', 'B', 'B', 'B', 'B']\n",
            "51 ['B', 'B', 'I', 'B']\n",
            "51 ['B', 'B', 'B', 'B', 'B', 'B', 'B']\n",
            "51 ['B', 'B', 'B', 'B', 'B']\n",
            "51 ['B', 'B', 'B', 'B', 'B']\n",
            "51 ['B', 'B', 'B', 'B', 'B', 'B', 'B', 'B', 'I', 'B']\n",
            "51 ['B', 'B', 'B', 'B', 'B', 'B', 'B', 'B', 'I', 'B']\n",
            "51 ['B', 'B', 'I', 'B', 'B', 'B']\n",
            "51 ['B', 'B', 'B', 'B', 'B']\n",
            "51 ['B', 'B', 'B', 'B', 'B', 'B', 'B', 'I']\n",
            "51 ['B', 'B', 'B', 'B', 'B', 'B', 'B']\n",
            "51 ['B', 'B', 'B', 'B', 'I', 'B', 'B', 'B', 'B', 'B']\n",
            "51 ['B', 'B', 'B', 'B', 'B']\n",
            "51 ['B', 'B', 'B', 'I', 'B', 'B', 'B', 'B', 'B', 'I']\n",
            "51 ['B', 'B', 'B', 'B']\n",
            "51 ['B', 'B', 'B']\n",
            "51 ['B', 'B', 'B', 'B', 'B', 'B', 'B', 'I', 'B']\n",
            "51 ['B', 'B']\n",
            "51 ['B', 'B', 'B', 'B']\n",
            "51 ['B', 'B', 'B', 'B', 'B', 'B', 'B']\n",
            "51 ['B', 'B', 'B', 'B', 'B']\n",
            "51 ['B', 'B', 'B', 'B']\n",
            "51 ['B', 'B', 'B', 'B', 'B']\n",
            "51 ['B', 'B', 'B', 'B', 'B', 'B', 'B']\n",
            "51 ['B', 'B', 'B']\n",
            "51 ['B', 'B', 'B', 'B', 'I']\n",
            "51 ['B', 'B', 'B', 'B', 'B', 'B', 'B', 'B', 'I']\n",
            "51 ['B', 'B', 'B', 'I', 'B', 'B', 'I', 'B', 'B', 'I']\n",
            "51 ['B', 'B', 'I', 'B', 'B', 'B', 'B', 'I']\n",
            "51 ['B', 'B', 'B', 'I', 'B']\n",
            "51 ['B', 'I', 'B', 'B', 'B']\n",
            "51 ['B', 'B', 'B', 'B', 'B', 'B', 'B', 'B', 'B', 'B', 'B', 'B', 'B']\n",
            "51 ['B', 'B', 'B', 'I', 'B', 'B', 'B']\n",
            "51 ['B', 'B', 'B', 'B']\n",
            "51 ['B', 'B', 'B', 'B']\n",
            "51 ['B', 'B', 'B', 'B', 'B', 'B']\n",
            "51 ['B', 'B', 'B', 'B', 'B', 'B', 'B', 'B', 'I']\n",
            "51 ['B', 'B', 'B', 'B', 'B', 'B', 'B']\n",
            "51 ['B', 'B', 'B', 'B', 'B']\n",
            "51 ['B', 'B', 'B', 'B', 'B', 'B', 'B']\n",
            "51 ['B', 'B', 'B', 'I', 'B', 'I']\n",
            "51 ['B', 'B', 'B', 'B', 'B']\n",
            "51 ['B', 'B', 'B', 'B', 'B']\n",
            "51 ['B', 'B', 'B', 'B', 'B', 'B', 'B', 'B', 'I']\n",
            "51 ['B', 'B', 'B', 'B']\n",
            "51 ['B', 'B', 'B', 'B', 'I', 'B', 'B', 'B', 'B', 'B', 'I']\n",
            "51 ['B', 'I', 'B', 'B', 'B', 'B', 'B', 'B', 'B', 'B', 'B', 'B', 'B']\n",
            "51 ['B', 'B', 'B', 'B', 'B', 'B', 'I']\n",
            "51 ['B', 'B', 'B', 'B', 'B', 'B', 'B']\n",
            "51 ['B', 'B', 'I', 'B', 'B', 'B', 'B', 'B', 'B', 'B', 'B']\n",
            "51 ['B', 'B', 'B', 'B', 'B', 'B', 'B', 'B', 'B']\n",
            "51 ['B', 'B', 'B', 'B', 'B', 'B']\n",
            "51 ['B', 'B', 'B', 'B', 'B', 'B', 'B', 'B', 'B', 'B', 'B', 'B', 'B', 'I']\n",
            "51 ['B', 'B', 'B', 'B', 'B']\n",
            "51 ['B', 'I', 'B', 'I', 'B', 'B', 'B', 'B', 'I']\n",
            "51 ['B', 'B', 'B', 'I', 'B', 'I']\n",
            "51 ['B', 'B', 'I', 'B']\n",
            "51 ['B', 'B', 'B', 'B', 'B']\n",
            "51 ['B', 'B', 'B', 'B', 'B', 'B', 'B', 'B', 'B', 'B', 'I']\n",
            "51 ['B', 'B', 'B', 'B', 'B']\n",
            "51 ['B', 'B', 'B', 'B', 'B', 'B']\n",
            "51 ['B', 'B', 'I', 'B', 'B', 'B', 'B', 'B', 'B', 'B', 'B']\n",
            "51 ['B', 'B', 'B', 'I']\n",
            "51 ['B', 'B', 'B', 'B', 'B']\n",
            "51 ['B', 'B', 'I', 'B', 'B', 'I', 'B', 'B', 'B']\n",
            "51 ['B', 'B', 'B', 'B', 'B', 'B', 'B', 'B']\n",
            "51 ['B', 'B', 'B', 'B', 'B']\n",
            "51 ['B', 'B', 'B']\n",
            "51 ['B', 'B', 'B', 'B', 'B']\n",
            "51 ['B', 'B', 'B', 'I', 'B', 'B', 'B', 'B', 'B', 'B']\n",
            "51 ['B', 'B', 'I', 'B', 'B', 'B', 'B']\n",
            "51 ['B', 'B', 'B', 'B', 'B', 'B', 'B']\n",
            "51 ['B', 'B', 'I', 'B', 'B', 'B', 'B', 'B', 'B', 'B', 'B']\n",
            "51 ['B', 'B', 'B', 'B']\n",
            "51 ['B', 'B', 'I', 'B', 'B', 'B', 'B', 'B', 'B']\n",
            "51 ['B', 'B', 'B', 'B', 'B', 'B', 'B', 'B']\n",
            "51 ['B', 'I', 'B', 'B', 'B', 'B', 'B', 'B', 'B', 'B', 'I']\n",
            "51 ['B', 'I', 'B', 'B', 'B', 'B', 'B', 'I', 'B']\n",
            "51 ['B', 'B', 'B', 'B', 'B', 'B', 'B']\n",
            "51 ['B', 'B', 'B', 'B']\n",
            "51 ['B', 'B', 'B', 'B', 'B']\n",
            "51 ['B', 'B', 'B', 'B', 'B', 'B', 'B']\n",
            "51 ['B', 'B', 'B', 'B', 'B', 'B', 'B']\n",
            "51 ['B', 'B']\n",
            "51 ['B', 'B', 'B', 'B', 'B']\n",
            "51 ['B', 'B', 'B', 'B', 'B', 'B', 'B', 'I', 'B', 'B', 'I']\n",
            "51 ['B', 'B', 'B', 'B', 'B']\n",
            "51 ['B', 'B', 'B', 'B', 'B']\n",
            "51 ['B', 'B', 'B', 'I', 'B', 'B', 'I', 'B', 'B', 'I']\n",
            "51 ['B', 'B', 'B', 'B', 'I']\n",
            "51 ['B', 'B', 'B', 'B', 'B', 'B']\n",
            "51 ['B', 'B', 'B', 'B', 'B', 'B', 'B']\n",
            "51 ['B', 'B', 'B', 'B']\n",
            "51 ['B', 'B', 'B']\n",
            "51 ['B', 'B', 'B', 'B', 'B', 'B']\n",
            "51 ['B', 'B', 'B', 'B', 'B', 'B', 'B', 'B', 'B', 'B']\n",
            "51 ['B', 'B', 'I', 'B', 'B', 'B', 'B']\n",
            "51 ['B', 'B', 'B', 'B', 'B']\n",
            "51 ['B', 'B', 'B', 'B', 'B', 'B', 'I', 'B']\n",
            "51 ['B', 'I', 'B', 'B', 'B', 'B', 'B', 'B', 'B', 'B', 'I']\n",
            "51 ['B', 'B', 'B', 'B', 'I']\n",
            "51 ['B', 'B', 'B', 'B', 'B', 'B', 'B', 'B', 'B', 'B', 'I']\n",
            "51 ['B', 'B', 'B', 'B', 'B', 'B', 'B', 'B', 'B', 'B', 'I']\n",
            "51 ['B', 'B', 'B', 'B', 'B', 'B', 'I', 'B']\n",
            "51 ['B', 'B', 'B', 'B', 'B', 'B', 'B']\n",
            "51 ['B', 'B', 'I', 'B', 'B', 'B', 'B', 'B', 'B']\n",
            "51 ['B', 'B', 'B', 'B', 'B', 'B']\n",
            "51 ['B', 'B', 'B', 'B', 'B', 'B']\n",
            "51 ['B', 'B', 'B', 'B', 'I', 'B', 'B', 'B', 'I']\n",
            "51 ['B', 'B', 'B', 'B', 'B', 'B', 'B']\n",
            "51 ['B', 'B', 'B', 'B', 'I', 'B']\n",
            "51 ['B', 'B', 'B', 'B', 'B', 'B']\n",
            "51 ['B', 'B', 'B', 'B', 'B', 'B', 'B', 'B']\n",
            "51 ['B', 'I', 'B', 'B', 'B', 'B', 'B', 'B']\n",
            "51 ['B', 'B', 'B', 'B', 'B']\n",
            "51 ['B', 'B', 'B', 'B', 'B', 'B', 'B', 'B', 'B']\n",
            "51 ['B', 'B', 'B', 'B', 'B']\n",
            "51 ['B', 'B', 'B', 'B', 'B', 'B']\n",
            "51 ['B', 'B', 'B', 'B', 'B', 'B', 'I']\n",
            "51 ['B', 'B', 'B']\n",
            "51 ['B', 'B', 'I', 'B', 'B', 'B', 'I', 'B']\n",
            "51 ['B', 'B', 'I', 'B', 'B', 'I', 'B', 'B', 'B']\n",
            "51 ['B', 'B', 'B', 'B', 'B']\n",
            "51 ['B', 'B', 'B', 'B', 'B', 'B', 'B', 'B', 'B', 'B', 'B']\n",
            "51 ['B', 'B', 'B', 'B', 'I', 'B', 'B', 'B', 'B', 'B', 'I']\n",
            "51 ['B', 'B', 'B', 'B', 'B', 'B', 'B']\n",
            "51 ['B', 'B', 'B', 'B', 'B', 'B', 'B']\n",
            "51 ['B', 'B', 'I', 'B', 'I', 'B']\n",
            "51 ['B', 'B', 'B', 'B', 'B', 'B']\n",
            "51 ['B', 'B', 'B', 'B', 'B', 'B', 'B']\n",
            "51 ['B', 'B', 'I', 'B', 'B', 'I']\n",
            "51 ['B', 'B', 'B', 'B', 'B', 'B', 'B']\n",
            "51 ['B', 'B', 'I', 'B']\n",
            "51 ['B', 'B', 'B', 'B', 'B', 'B', 'B', 'I']\n",
            "51 ['B', 'I', 'B', 'I', 'B', 'B']\n",
            "51 ['B', 'B', 'I', 'B', 'B', 'B', 'B', 'B']\n",
            "51 ['B', 'B', 'B', 'B', 'B']\n",
            "51 ['B', 'B', 'B', 'B', 'B', 'B', 'B', 'B']\n",
            "51 ['B', 'B', 'B', 'B', 'B', 'B', 'B', 'I', 'B', 'B', 'B']\n",
            "51 ['B', 'B', 'B', 'B', 'B', 'B', 'B', 'B', 'B', 'B', 'B', 'B']\n",
            "51 ['B', 'B', 'B', 'B', 'B']\n",
            "51 ['B', 'B', 'B', 'B', 'B', 'B', 'B', 'B']\n",
            "51 ['B', 'I', 'B', 'B', 'B', 'B', 'I', 'B', 'B', 'I']\n",
            "51 ['B', 'B']\n",
            "51 ['B', 'B', 'B', 'I', 'B', 'B', 'I']\n",
            "51 ['B', 'B', 'B', 'B', 'B', 'B', 'B', 'B', 'B', 'I']\n",
            "51 ['B', 'B', 'I', 'B', 'B', 'B']\n",
            "51 ['B', 'B', 'B', 'B', 'B']\n",
            "51 ['B', 'B', 'B', 'B', 'I', 'B', 'B']\n",
            "51 ['B', 'B', 'B', 'B']\n",
            "51 ['B', 'B', 'B', 'B', 'B']\n",
            "51 ['B', 'B', 'B', 'B', 'B', 'B', 'I']\n",
            "51 ['B', 'B', 'B', 'B', 'B', 'B', 'B', 'B']\n",
            "51 ['B', 'B', 'B', 'B', 'I', 'B', 'B', 'B', 'B']\n",
            "51 ['B', 'B', 'B', 'B', 'I', 'B', 'B', 'I']\n",
            "51 ['B', 'B', 'B', 'B', 'B', 'B', 'B', 'B', 'I']\n",
            "51 ['B', 'B', 'B', 'B', 'B', 'B', 'B', 'B', 'I']\n",
            "51 ['B', 'B', 'B', 'B']\n",
            "51 ['B', 'I', 'B', 'B', 'B', 'B', 'B', 'B', 'B']\n",
            "51 ['B', 'B', 'I', 'B']\n",
            "51 ['B', 'B', 'B', 'B', 'I', 'B']\n",
            "51 ['B', 'B', 'B', 'B', 'I']\n",
            "51 ['B', 'B', 'B', 'B', 'B']\n",
            "51 ['B', 'B', 'B', 'B', 'B', 'B', 'B']\n",
            "51 ['B', 'B', 'B', 'B', 'B', 'I']\n",
            "51 ['B', 'B', 'B', 'B']\n",
            "51 ['B', 'B', 'B', 'B']\n",
            "51 ['B', 'B', 'B', 'B', 'I']\n",
            "51 ['B', 'B', 'B', 'B', 'I']\n",
            "51 ['B', 'I', 'B', 'B', 'B']\n",
            "51 ['B', 'I', 'B', 'B', 'B']\n",
            "51 ['B', 'B', 'I', 'B', 'B', 'B']\n",
            "51 ['B', 'B', 'B', 'B', 'B', 'B']\n",
            "51 ['B', 'B', 'B', 'B', 'B', 'B', 'B']\n",
            "51 ['B', 'B', 'B', 'B', 'B', 'B', 'B', 'B', 'I']\n",
            "51 ['B', 'I', 'B', 'B', 'B', 'B']\n",
            "51 ['B', 'B', 'B', 'B', 'B', 'B', 'B', 'B']\n",
            "51 ['B', 'B', 'B', 'B', 'B', 'B', 'B', 'B', 'B', 'B', 'B']\n",
            "51 ['B', 'B', 'B', 'B', 'B']\n",
            "51 ['B', 'B', 'B', 'B', 'B', 'B', 'B', 'B', 'B']\n",
            "51 ['B', 'B', 'B', 'B', 'B', 'I', 'B']\n",
            "51 ['B', 'B', 'B', 'B']\n",
            "51 ['B', 'B', 'B', 'B', 'B', 'B', 'I']\n",
            "51 ['B', 'B', 'I', 'B', 'B']\n",
            "51 ['B', 'B', 'B', 'B', 'B']\n",
            "51 ['B', 'B', 'I', 'B', 'B', 'B', 'B', 'B', 'B', 'B', 'I']\n",
            "51 ['B', 'I', 'B', 'B', 'B']\n",
            "51 ['B', 'B', 'B', 'B', 'B']\n",
            "51 ['B', 'B', 'B', 'B', 'B', 'B', 'B']\n",
            "51 ['B', 'B', 'B', 'B', 'B']\n",
            "51 ['B', 'B', 'B', 'B', 'B', 'B', 'B']\n",
            "51 ['B', 'B', 'B', 'B']\n",
            "51 ['B', 'B', 'B', 'B', 'B', 'B', 'B', 'B']\n",
            "51 ['B', 'B', 'B', 'B', 'I', 'B', 'B']\n",
            "51 ['B', 'B', 'B', 'B']\n",
            "51 ['B', 'I', 'B', 'B', 'B', 'B']\n",
            "51 ['B', 'B', 'B', 'B', 'B', 'B']\n",
            "51 ['B', 'B', 'B', 'B', 'B', 'B', 'B', 'B', 'B', 'I']\n",
            "51 ['B', 'B', 'B', 'B', 'B', 'B', 'B']\n",
            "51 ['B', 'I', 'B', 'B', 'B', 'B']\n",
            "51 ['B', 'B', 'B', 'B', 'B', 'B']\n",
            "51 ['B', 'B', 'B', 'B', 'B', 'B', 'B', 'I', 'B', 'B', 'I', 'B', 'B', 'I']\n",
            "51 ['B', 'B', 'I', 'B', 'B', 'I', 'B']\n",
            "51 ['B', 'B', 'B', 'B', 'B']\n",
            "51 ['B', 'B', 'B', 'B', 'B', 'B', 'B', 'B']\n",
            "51 ['B', 'I', 'B', 'I', 'B', 'B', 'B', 'B']\n",
            "51 ['B', 'I', 'B', 'B', 'B', 'B', 'B', 'B', 'B', 'B', 'B', 'B', 'I']\n",
            "51 ['B', 'B', 'I', 'B', 'B', 'B', 'B', 'B', 'B', 'B', 'B']\n",
            "51 ['B', 'B', 'B', 'B', 'B']\n",
            "51 ['B', 'B', 'B', 'B', 'B', 'B', 'B']\n",
            "51 ['B', 'B', 'B', 'B', 'B']\n",
            "51 ['B', 'B', 'B', 'B']\n",
            "51 ['B', 'B', 'B', 'B', 'B', 'B']\n",
            "51 ['B', 'B', 'B', 'I']\n",
            "51 ['B', 'I', 'B', 'B', 'I', 'B', 'B', 'B', 'B', 'I', 'B']\n",
            "51 ['B', 'B', 'B', 'B', 'B']\n",
            "51 ['B', 'B', 'B', 'B', 'B', 'B']\n",
            "51 ['B', 'B', 'B', 'B', 'B', 'B']\n",
            "51 ['B', 'B', 'B', 'B', 'B', 'B', 'I', 'B', 'B', 'B', 'B', 'B', 'B', 'B']\n",
            "51 ['B', 'B', 'B', 'B', 'I', 'B', 'B']\n",
            "51 ['B', 'B', 'B', 'B', 'B', 'B']\n",
            "51 ['B', 'B', 'B', 'B', 'B', 'I']\n",
            "51 ['B', 'B', 'B', 'B', 'B', 'B', 'B', 'B']\n",
            "51 ['B', 'B', 'I', 'B', 'B', 'B', 'B']\n",
            "51 ['B', 'B', 'B', 'B', 'B', 'B', 'B']\n",
            "51 ['B', 'B', 'B', 'B', 'B', 'B', 'B', 'B', 'B', 'B', 'B', 'B']\n",
            "51 ['B', 'B', 'B', 'B', 'B']\n",
            "51 ['B', 'B', 'B', 'B', 'B', 'B', 'B', 'B']\n",
            "51 ['B', 'B', 'B', 'B', 'B', 'B']\n",
            "51 ['B', 'B', 'B', 'B', 'B', 'B', 'B']\n",
            "51 ['B', 'I', 'B', 'B', 'B', 'B', 'B']\n",
            "51 ['B', 'B', 'B', 'B', 'B', 'B']\n",
            "51 ['B', 'B', 'B', 'B', 'B', 'B']\n",
            "51 ['B', 'I', 'B', 'B', 'B', 'B']\n",
            "51 ['B', 'B', 'I', 'B', 'I', 'B', 'B']\n",
            "51 ['B', 'B', 'B', 'B', 'I', 'B', 'B']\n",
            "51 ['B', 'B', 'B', 'B', 'B', 'B', 'B', 'B', 'B', 'B']\n",
            "51 ['B', 'B', 'B', 'B', 'B', 'B', 'B', 'B', 'B', 'I']\n",
            "51 ['B', 'B', 'B', 'B', 'B', 'B', 'B', 'B', 'B']\n",
            "51 ['B', 'B', 'B', 'B', 'B', 'B']\n",
            "51 ['B', 'B', 'B', 'B', 'B', 'B']\n",
            "51 ['B', 'B', 'B', 'B', 'B', 'I', 'B', 'B']\n",
            "51 ['B', 'B', 'B', 'B', 'B', 'B', 'B', 'B']\n",
            "51 ['B', 'B', 'B', 'B', 'B', 'B', 'B', 'B', 'B', 'B']\n",
            "51 ['B', 'B', 'B', 'B', 'I', 'B', 'B', 'B', 'B', 'I']\n",
            "51 ['B', 'B', 'B', 'B', 'B', 'B', 'B']\n",
            "51 ['B', 'B', 'I', 'B', 'B', 'I']\n",
            "51 ['B', 'B', 'B', 'B', 'B', 'B']\n",
            "51 ['B', 'B', 'B', 'B', 'B', 'B']\n",
            "51 ['B', 'B', 'B', 'B', 'B', 'B', 'B']\n",
            "51 ['B', 'B', 'B', 'B', 'B', 'B']\n",
            "51 ['B', 'B', 'B', 'B', 'B', 'B', 'B', 'B']\n",
            "51 ['B', 'I', 'B', 'B', 'B', 'B', 'B', 'B', 'I']\n",
            "51 ['B', 'B', 'B', 'B', 'B', 'B', 'B', 'B']\n",
            "51 ['B', 'B', 'B', 'B', 'B']\n",
            "51 ['B', 'B', 'B', 'B', 'B', 'B', 'B', 'B', 'B', 'I']\n",
            "51 ['B', 'B', 'B', 'B']\n",
            "51 ['B', 'B', 'B', 'B', 'I']\n",
            "51 ['B', 'B', 'B', 'B', 'B', 'B', 'B']\n",
            "51 ['B', 'I', 'B', 'B', 'B', 'B', 'I']\n",
            "51 ['B', 'B', 'B', 'B', 'B']\n",
            "51 ['B', 'B', 'B', 'B', 'B', 'B', 'B']\n",
            "51 ['B', 'B', 'B', 'B', 'B', 'B', 'B']\n",
            "51 ['B', 'B', 'B', 'B', 'B', 'B', 'B']\n",
            "51 ['B', 'B', 'I', 'B', 'B', 'I']\n",
            "51 ['B', 'B', 'I', 'B', 'B', 'B', 'B']\n",
            "51 ['B', 'I', 'B', 'B', 'B', 'B']\n",
            "51 ['B', 'B', 'B', 'B', 'B']\n",
            "51 ['B', 'B', 'B', 'B', 'B', 'B', 'B']\n",
            "51 ['B', 'B', 'B', 'B', 'B']\n",
            "51 ['B', 'B', 'I', 'B', 'B']\n",
            "51 ['B', 'B']\n",
            "51 ['B', 'B', 'B']\n",
            "51 ['B', 'B', 'B', 'B', 'B', 'I']\n",
            "51 ['B', 'B', 'B', 'B', 'B', 'B', 'B']\n",
            "51 ['B', 'B', 'I']\n",
            "51 ['B', 'B', 'B', 'B', 'B', 'B']\n",
            "51 ['B', 'B', 'B', 'B', 'B']\n",
            "51 ['B', 'B', 'B', 'B', 'B', 'I', 'B']\n",
            "51 ['B', 'B', 'B', 'B', 'B']\n",
            "51 ['B', 'B', 'B', 'B', 'B', 'B', 'B']\n",
            "51 ['B', 'B', 'B', 'B', 'B', 'B', 'I']\n",
            "51 ['B', 'B', 'B', 'B', 'B']\n",
            "51 ['B', 'B', 'B', 'B', 'B']\n",
            "51 ['B', 'B', 'B', 'B', 'B']\n",
            "51 ['B', 'B', 'B', 'I', 'B', 'B', 'B']\n",
            "51 ['B', 'B', 'B', 'B']\n",
            "51 ['B', 'B', 'B', 'B']\n",
            "51 ['B', 'B', 'B']\n",
            "51 ['B', 'B', 'I', 'B', 'I']\n",
            "51 ['B', 'B', 'I', 'B', 'B', 'B', 'B', 'B', 'I']\n",
            "51 ['B', 'B', 'B', 'B']\n",
            "51 ['B', 'B', 'I', 'B']\n",
            "51 ['B', 'B', 'B', 'I', 'B', 'I']\n",
            "51 ['B', 'B', 'B', 'I', 'B', 'B', 'B', 'B']\n",
            "51 ['B', 'B', 'B', 'B']\n",
            "51 ['B', 'B', 'B', 'I', 'B', 'B']\n",
            "51 ['B', 'B', 'B', 'B', 'B', 'B']\n",
            "51 ['B', 'B', 'B', 'B', 'B']\n",
            "51 ['B', 'B', 'B', 'B', 'B', 'B']\n",
            "51 ['B', 'B', 'B', 'B']\n",
            "51 ['B', 'B', 'B', 'B', 'B', 'I', 'B', 'B']\n",
            "51 ['B', 'B', 'B', 'B', 'B']\n",
            "51 ['B', 'B', 'I', 'B', 'B']\n",
            "51 ['B', 'B', 'I', 'B', 'B', 'I', 'B', 'B']\n",
            "51 ['B', 'B', 'B', 'B', 'B']\n",
            "51 ['B', 'B', 'B', 'B', 'B', 'I', 'B', 'B']\n",
            "51 ['B', 'B', 'I', 'B', 'B', 'B']\n",
            "51 ['B', 'B', 'I', 'B', 'B', 'B']\n",
            "51 ['B', 'B', 'B', 'B', 'B', 'B']\n",
            "51 ['B', 'B', 'B', 'I', 'B', 'B', 'B', 'I', 'B']\n",
            "51 ['B', 'B', 'I', 'B', 'B', 'B', 'B']\n",
            "51 ['B', 'B', 'B', 'B', 'B']\n",
            "51 ['B', 'B', 'B', 'B', 'B', 'B']\n",
            "51 ['B', 'B', 'I', 'B', 'B']\n",
            "51 ['B', 'B', 'B', 'B']\n",
            "51 ['B', 'B', 'B', 'B', 'B', 'B', 'B']\n",
            "51 ['B', 'B', 'B', 'B']\n",
            "51 ['B', 'B', 'B', 'B', 'B', 'I']\n",
            "51 ['B', 'B', 'B', 'B', 'B', 'B', 'B', 'B', 'I']\n",
            "51 ['B', 'B', 'B', 'B', 'B', 'B', 'B']\n",
            "51 ['B', 'B', 'I', 'B', 'B', 'B', 'B']\n",
            "51 ['B', 'B', 'I', 'B', 'B', 'B', 'B']\n",
            "51 ['B', 'I', 'B', 'B', 'I', 'B', 'B', 'B', 'I']\n",
            "51 ['B', 'B', 'B', 'B', 'B', 'I']\n",
            "51 ['B', 'B', 'B', 'B', 'B']\n",
            "51 ['B', 'B', 'B', 'B']\n",
            "51 ['B', 'B', 'I', 'B', 'B', 'B', 'B', 'B']\n",
            "51 ['B', 'B', 'B', 'B', 'B', 'B', 'I', 'B', 'B']\n",
            "51 ['B', 'B', 'B', 'B', 'B', 'B']\n",
            "51 ['B', 'B', 'B', 'B', 'B']\n",
            "51 ['B', 'I', 'B', 'B', 'I', 'B']\n",
            "51 ['B', 'B', 'B', 'B']\n",
            "51 ['B', 'B', 'I', 'B', 'B', 'B']\n",
            "51 ['B', 'B', 'B', 'I', 'B']\n",
            "51 ['B', 'B', 'I']\n",
            "51 ['B', 'B', 'B', 'B', 'B', 'B', 'B', 'B', 'B', 'B', 'B', 'B', 'B', 'I']\n",
            "51 ['B', 'B', 'B']\n",
            "51 ['B', 'B', 'B', 'B', 'I', 'B', 'B']\n",
            "51 ['B', 'B', 'B', 'B', 'B', 'I']\n",
            "51 ['B', 'I', 'B', 'B', 'B', 'B', 'B', 'B', 'I', 'B']\n",
            "51 ['B', 'B', 'B', 'B']\n",
            "51 ['B', 'B', 'I', 'B', 'B', 'B', 'B']\n",
            "51 ['B', 'B', 'B', 'B']\n",
            "51 ['B', 'B', 'B', 'B', 'B', 'B', 'B']\n",
            "51 ['B', 'B', 'B', 'B', 'B']\n",
            "51 ['B', 'B', 'B', 'B', 'B', 'B', 'B', 'I']\n",
            "51 ['B', 'B', 'B', 'B', 'B', 'B', 'B', 'B']\n",
            "51 ['B', 'B', 'B', 'B']\n",
            "51 ['B', 'B', 'B', 'B', 'B', 'B', 'B', 'B', 'B', 'I']\n",
            "51 ['B', 'B']\n",
            "51 ['B', 'B', 'B', 'B', 'B', 'B', 'B', 'B', 'I']\n",
            "51 ['B', 'B', 'B', 'B', 'B', 'B', 'B', 'B']\n",
            "51 ['B', 'B', 'B', 'B', 'B', 'B', 'B']\n",
            "51 ['B', 'B', 'B', 'B', 'B']\n",
            "51 ['B', 'B', 'B', 'B', 'B']\n",
            "51 ['B', 'B', 'B', 'B', 'B', 'I', 'B']\n",
            "51 ['B', 'B', 'I', 'B', 'B', 'B', 'I']\n",
            "51 ['B', 'B', 'B', 'B', 'B', 'B', 'B', 'B', 'B']\n",
            "51 ['B', 'B', 'B', 'B', 'B', 'B', 'B']\n",
            "51 ['B', 'B', 'I', 'B', 'B']\n",
            "51 ['B', 'B', 'B']\n",
            "51 ['B', 'B', 'I', 'B', 'B', 'B']\n",
            "51 ['B', 'B', 'B', 'B', 'B', 'B']\n",
            "51 ['B', 'B', 'B', 'B', 'B', 'B', 'B', 'B', 'B', 'I']\n",
            "51 ['B', 'B', 'B', 'B', 'B', 'B', 'B', 'B', 'B', 'B', 'B', 'B', 'B', 'B', 'I']\n",
            "51 ['B', 'B', 'B', 'B', 'B', 'B']\n",
            "51 ['B', 'B', 'B', 'B', 'B']\n",
            "51 ['B', 'B', 'B', 'B', 'B', 'B']\n",
            "51 ['B', 'B', 'I', 'B', 'B', 'B', 'B']\n",
            "51 ['B', 'B', 'B', 'B', 'B', 'B', 'B']\n",
            "51 ['B', 'B', 'B', 'B']\n",
            "51 ['B', 'B', 'B', 'I']\n",
            "51 ['B', 'B', 'B', 'I', 'B', 'B']\n",
            "51 ['B', 'B', 'I', 'B', 'B', 'B', 'I', 'B', 'B', 'B', 'B']\n",
            "51 ['B', 'B', 'I', 'B', 'B', 'I', 'B']\n",
            "51 ['B', 'B', 'B', 'B', 'B', 'B', 'B', 'I']\n",
            "51 ['B', 'B', 'B', 'B', 'B', 'B', 'B', 'B']\n",
            "51 ['B', 'B', 'I', 'B', 'B', 'B', 'I', 'B']\n",
            "51 ['B', 'B', 'B', 'B', 'I', 'B']\n",
            "51 ['B', 'B', 'B', 'B', 'B', 'B', 'B', 'B']\n",
            "51 ['B', 'B', 'B', 'B', 'B', 'B', 'B', 'I']\n",
            "51 ['B', 'B', 'I', 'B', 'B', 'B', 'B', 'I']\n",
            "51 ['B', 'B', 'B', 'B', 'B', 'B', 'B']\n",
            "51 ['B', 'B', 'B', 'B', 'B', 'B', 'B', 'B', 'B', 'B', 'B']\n",
            "51 ['B', 'B', 'B', 'B', 'B', 'B']\n",
            "51 ['B', 'B', 'B', 'B']\n",
            "51 ['B', 'B', 'B', 'B', 'B']\n",
            "51 ['B', 'B', 'B', 'B']\n",
            "51 ['B', 'B', 'B', 'B', 'B', 'B', 'B', 'B']\n",
            "51 ['B', 'B', 'B', 'B', 'B', 'B']\n",
            "51 ['B', 'B', 'B', 'B', 'B', 'B', 'B']\n",
            "51 ['B', 'B', 'I', 'B', 'B', 'B', 'B', 'B', 'B', 'B', 'I']\n",
            "51 ['B', 'B', 'I', 'B', 'B', 'B', 'B', 'B', 'B']\n",
            "51 ['B', 'I', 'B', 'B', 'B', 'B', 'B', 'B', 'B', 'B', 'I']\n",
            "51 ['B', 'B', 'B', 'B']\n",
            "51 ['B', 'B', 'B', 'B', 'I']\n",
            "51 ['B', 'B', 'B', 'B', 'B']\n",
            "51 ['B', 'B', 'B', 'B', 'B', 'B', 'B', 'B', 'B']\n",
            "51 ['B', 'B', 'B', 'B', 'I']\n",
            "51 ['B', 'B', 'B', 'B', 'B']\n",
            "51 ['B', 'B', 'B', 'B', 'B']\n",
            "51 ['B', 'B', 'B', 'B', 'B', 'B', 'B', 'B', 'B']\n",
            "51 ['B', 'B', 'B', 'B']\n",
            "51 ['B', 'B', 'B']\n",
            "51 ['B', 'B', 'B', 'B', 'B', 'B', 'B', 'B', 'B', 'B', 'B']\n",
            "51 ['B', 'B', 'B', 'B', 'B', 'B', 'B', 'B', 'B', 'B']\n",
            "51 ['B', 'B', 'B', 'B', 'B', 'B', 'B']\n",
            "51 ['B', 'B', 'B', 'B', 'B', 'B']\n",
            "51 ['B', 'I', 'B', 'B', 'B', 'B', 'B', 'B', 'B', 'I']\n",
            "51 ['B', 'B', 'B', 'I', 'B', 'I', 'B']\n",
            "51 ['B', 'I', 'B', 'B']\n",
            "51 ['B', 'I', 'B', 'B', 'I', 'B']\n",
            "51 ['B', 'B', 'I', 'B', 'B', 'B']\n",
            "51 ['B', 'B', 'B', 'B', 'B']\n",
            "51 ['B', 'B', 'B', 'B']\n",
            "51 ['B', 'B', 'B', 'B', 'I']\n",
            "51 ['B', 'I', 'B', 'B', 'B']\n",
            "51 ['B', 'B', 'B', 'B', 'B']\n",
            "51 ['B', 'B', 'I', 'B', 'B']\n",
            "51 ['B', 'I', 'B', 'B', 'B', 'B', 'B', 'B', 'B']\n",
            "51 ['B', 'B', 'B', 'B', 'B', 'B', 'I', 'B']\n",
            "51 ['B', 'B', 'B', 'B', 'B', 'B', 'B']\n",
            "51 ['B', 'B', 'I', 'B', 'B', 'B', 'B', 'B', 'B', 'B', 'B', 'B', 'B']\n",
            "51 ['B', 'B', 'I', 'B', 'B']\n",
            "51 ['B', 'B', 'B', 'I', 'B', 'B', 'B', 'B']\n",
            "51 ['B', 'B', 'I', 'B', 'B', 'I']\n",
            "51 ['B', 'B', 'B', 'B', 'B', 'B']\n",
            "51 ['B', 'B', 'B', 'B', 'B', 'B', 'B', 'B']\n",
            "51 ['B', 'B', 'B', 'B', 'B', 'B', 'B', 'B']\n",
            "51 ['B', 'B', 'B', 'B', 'B', 'I', 'B', 'B', 'B']\n",
            "51 ['B', 'B', 'B', 'B', 'B', 'B', 'I', 'B', 'B', 'B', 'B', 'B', 'I']\n",
            "51 ['B', 'B', 'I', 'B', 'B', 'B', 'B', 'B']\n",
            "51 ['B', 'B', 'B', 'B', 'B', 'B']\n",
            "51 ['B', 'B', 'B', 'B']\n",
            "51 ['B', 'B', 'I', 'B']\n",
            "51 ['B', 'I', 'B', 'B', 'B', 'I']\n",
            "51 ['B', 'B', 'B', 'B', 'B', 'B', 'B', 'B', 'B', 'B']\n",
            "51 ['B', 'B', 'B', 'B', 'B', 'B', 'B']\n",
            "51 ['B', 'B', 'B', 'B', 'B', 'B', 'I']\n",
            "51 ['B', 'B', 'B', 'B', 'B', 'B', 'B']\n",
            "51 ['B', 'B', 'B', 'I', 'B', 'B', 'B', 'B', 'I']\n",
            "51 ['B', 'B', 'I', 'B', 'B', 'B']\n",
            "51 ['B', 'B', 'B', 'B', 'B', 'B', 'B']\n",
            "51 ['B', 'B', 'B', 'B', 'B']\n",
            "51 ['B', 'B', 'B', 'B', 'B', 'B', 'B', 'B', 'B', 'B', 'I']\n",
            "51 ['B', 'B', 'B', 'B', 'I']\n",
            "51 ['B', 'B', 'B', 'B', 'B', 'B']\n",
            "51 ['B', 'B', 'B', 'B', 'B', 'B']\n",
            "51 ['B', 'B', 'B', 'B', 'B', 'B', 'B']\n",
            "51 ['B', 'B', 'B', 'B', 'I']\n",
            "51 ['B', 'B', 'B', 'B', 'I', 'B', 'B', 'B', 'B', 'B']\n",
            "51 ['B', 'B', 'B', 'B', 'B']\n",
            "51 ['B', 'B', 'B', 'B', 'B', 'B']\n",
            "51 ['B', 'B', 'I', 'B']\n",
            "51 ['B', 'B', 'B', 'B', 'B', 'I', 'B', 'B', 'B']\n",
            "51 ['B', 'B', 'B', 'B', 'B', 'B']\n",
            "51 ['B', 'B', 'B', 'B', 'B', 'B']\n",
            "51 ['B', 'B', 'B', 'B', 'B', 'B', 'B', 'B']\n",
            "51 ['B', 'B', 'I', 'B', 'B', 'B', 'I', 'B', 'B']\n",
            "51 ['B', 'B', 'B', 'I', 'B', 'I']\n",
            "51 ['B', 'B', 'B', 'B']\n",
            "51 ['B', 'B', 'B', 'I', 'B', 'B', 'B']\n",
            "51 ['B', 'B', 'B', 'B', 'B']\n",
            "51 ['B', 'B', 'I']\n",
            "51 ['B', 'B', 'B', 'B', 'B', 'I', 'B', 'B', 'I', 'B', 'B']\n",
            "51 ['B', 'B', 'B', 'B', 'B', 'B', 'B', 'B', 'B', 'B', 'B']\n",
            "51 ['B', 'B', 'B', 'B', 'I', 'B', 'B', 'B', 'B', 'B', 'B']\n",
            "51 ['B', 'B', 'I', 'B', 'B', 'B', 'B', 'I']\n",
            "51 ['B', 'B', 'B', 'B']\n",
            "51 ['B', 'B', 'B', 'B', 'B', 'B', 'B', 'B', 'B']\n",
            "51 ['B', 'B', 'B', 'B', 'B', 'B']\n",
            "51 ['B', 'B', 'B', 'B', 'B', 'B', 'B', 'B', 'B', 'B', 'B', 'B', 'I']\n",
            "51 ['B', 'B', 'B', 'B', 'I', 'B', 'B', 'I']\n",
            "51 ['B', 'B', 'B']\n",
            "51 ['B', 'B', 'B', 'B', 'B', 'B', 'B', 'B', 'B']\n",
            "51 ['B', 'B', 'B', 'B', 'B', 'B', 'B', 'B', 'B', 'B', 'B']\n",
            "51 ['B', 'B', 'B', 'B', 'B', 'B', 'B', 'B']\n",
            "51 ['B', 'B', 'B', 'B']\n",
            "51 ['B', 'B', 'I', 'B', 'B', 'B', 'B']\n",
            "51 ['B', 'I', 'B', 'B', 'B', 'B']\n",
            "51 ['B', 'B', 'B', 'B', 'B']\n",
            "51 ['B', 'I', 'B', 'B', 'B', 'B', 'B']\n",
            "51 ['B', 'B', 'B', 'B', 'B']\n",
            "51 ['B', 'B', 'I', 'B', 'B', 'B', 'B']\n",
            "51 ['B', 'B', 'B']\n",
            "51 ['B', 'B', 'B', 'B', 'B', 'B', 'B', 'I']\n",
            "51 ['B', 'B', 'I']\n",
            "51 ['B', 'B', 'I', 'B', 'B', 'B', 'B', 'B', 'B', 'B', 'B', 'I']\n",
            "51 ['B', 'B', 'B', 'B', 'B', 'B', 'B', 'I', 'B', 'B', 'I']\n",
            "51 ['B', 'B', 'I', 'B', 'B', 'B', 'B']\n",
            "51 ['B', 'B', 'I', 'B', 'B', 'B', 'B']\n",
            "51 ['B', 'B', 'I', 'B', 'B']\n",
            "51 ['B', 'B', 'B', 'B', 'B', 'B', 'B', 'B']\n",
            "51 ['B', 'B', 'B']\n",
            "51 ['B', 'B', 'B', 'B', 'B', 'B', 'B', 'B', 'B', 'B', 'B', 'I']\n",
            "51 ['B', 'B', 'B', 'B', 'B']\n",
            "51 ['B', 'B', 'B', 'B', 'I', 'B', 'B', 'B', 'B', 'B', 'I']\n",
            "51 ['B', 'B', 'B', 'B', 'B', 'B', 'B', 'B', 'B']\n",
            "51 ['B', 'B', 'I', 'B', 'B', 'I', 'B']\n",
            "51 ['B', 'B', 'B', 'B', 'B', 'B', 'I', 'B']\n",
            "51 ['B', 'B', 'I', 'B', 'B', 'B', 'B', 'B']\n",
            "51 ['B', 'B', 'B', 'B', 'B', 'B', 'B']\n",
            "51 ['B', 'B', 'B', 'B', 'B']\n",
            "51 ['B', 'B', 'B', 'B', 'B', 'B', 'I']\n",
            "51 ['B', 'B', 'B', 'B', 'B', 'B', 'B', 'B', 'B', 'I']\n",
            "51 ['B', 'B', 'I', 'B', 'B', 'B', 'B', 'B']\n",
            "51 ['B', 'B', 'I', 'B', 'B', 'B', 'B']\n",
            "51 ['B', 'B', 'I', 'B', 'B', 'B', 'B']\n",
            "51 ['B', 'B', 'B', 'B']\n",
            "51 ['B', 'B', 'B', 'B', 'B', 'B', 'B', 'B', 'B', 'B', 'B', 'B', 'B']\n",
            "51 ['B', 'B', 'B', 'B', 'B', 'B']\n",
            "51 ['B', 'B', 'B', 'B', 'B']\n",
            "51 ['B', 'I', 'B', 'B', 'B', 'B', 'I', 'B', 'B', 'I', 'B']\n",
            "51 ['B', 'B', 'B', 'B', 'B']\n",
            "51 ['B', 'B', 'B', 'B', 'B', 'B']\n",
            "51 ['B', 'B', 'I', 'B', 'B', 'B', 'B', 'B', 'B', 'B', 'I']\n",
            "51 ['B', 'B', 'I', 'B', 'B', 'I', 'B', 'B']\n",
            "51 ['B', 'B', 'B', 'B', 'B', 'B']\n",
            "51 ['B', 'B', 'I', 'B', 'B']\n",
            "51 ['B', 'B', 'B', 'B', 'B', 'B']\n",
            "51 ['B', 'B', 'B', 'B', 'B', 'B', 'B', 'B', 'B', 'B', 'B']\n",
            "51 ['B', 'B', 'B', 'B']\n",
            "51 ['B', 'B', 'B', 'B', 'B']\n",
            "51 ['B', 'B', 'B', 'B', 'B', 'B']\n",
            "51 ['B', 'B', 'B', 'B', 'B']\n",
            "51 ['B', 'B', 'B', 'I', 'B', 'B', 'B']\n",
            "51 ['B', 'B', 'B', 'B', 'B']\n",
            "51 ['B', 'B', 'B', 'B', 'B']\n",
            "51 ['B', 'B', 'B', 'B', 'B', 'B', 'B']\n",
            "51 ['B', 'B', 'B', 'I', 'B', 'B', 'B', 'B']\n",
            "51 ['B', 'B', 'B', 'B', 'I', 'B']\n",
            "51 ['B', 'B', 'B']\n",
            "51 ['B', 'B', 'B', 'B', 'B', 'B', 'I']\n",
            "51 ['B', 'B', 'B', 'B', 'B']\n",
            "51 ['B', 'B', 'B', 'B', 'B', 'I']\n",
            "51 ['B', 'B', 'B', 'B', 'B', 'B']\n",
            "51 ['B', 'B', 'I', 'B', 'B', 'B', 'B', 'B']\n",
            "51 ['B', 'B', 'B', 'B', 'B', 'B', 'B', 'B']\n",
            "51 ['B', 'B', 'B', 'B']\n",
            "51 ['B', 'B', 'B', 'B', 'B', 'B']\n",
            "51 ['B', 'I', 'B', 'B', 'B', 'B', 'B', 'B']\n",
            "51 ['B', 'B', 'B', 'B', 'B', 'B', 'B', 'B', 'B', 'B', 'B']\n",
            "51 ['B', 'B', 'B', 'B', 'B', 'I', 'B', 'B']\n",
            "51 ['B', 'B', 'B', 'B', 'B', 'I']\n",
            "51 ['B', 'B', 'I', 'B', 'B', 'B', 'I', 'B', 'B', 'B', 'B', 'B', 'I']\n",
            "51 ['B', 'B', 'B', 'B', 'B', 'B', 'B', 'B']\n",
            "51 ['B', 'B', 'B', 'B']\n",
            "51 ['B', 'B', 'B', 'B', 'B', 'B', 'B', 'B', 'B']\n",
            "51 ['B', 'B', 'I', 'B', 'I', 'B']\n",
            "51 ['B', 'B', 'B', 'B', 'B', 'B']\n",
            "51 ['B', 'B', 'B', 'B', 'B']\n",
            "51 ['B', 'B', 'B', 'B', 'B', 'B', 'B']\n",
            "51 ['B', 'B', 'B', 'B', 'B', 'B', 'B', 'B', 'B', 'B']\n",
            "51 ['B', 'B', 'B', 'B', 'I', 'B']\n",
            "51 ['B', 'B', 'B']\n",
            "51 ['B', 'B', 'B', 'B', 'B']\n",
            "51 ['B', 'B', 'B', 'B', 'B', 'I', 'B', 'B']\n",
            "51 ['B', 'B', 'B', 'B', 'B', 'B', 'I']\n",
            "51 ['B', 'B', 'B', 'I', 'B']\n",
            "51 ['B', 'B', 'B', 'B', 'I', 'B', 'B', 'I']\n",
            "51 ['B', 'B', 'B', 'B', 'B', 'B', 'B', 'B', 'I']\n",
            "51 ['B', 'B', 'B', 'B', 'B']\n",
            "51 ['B', 'B', 'B', 'B', 'B', 'B', 'B', 'B', 'B']\n",
            "51 ['B', 'B', 'B', 'B', 'B']\n",
            "51 ['B', 'B', 'I', 'B', 'B', 'B', 'B', 'B', 'B']\n",
            "51 ['B', 'B', 'B', 'B', 'B', 'B']\n",
            "51 ['B', 'B', 'I', 'B', 'B']\n",
            "51 ['B', 'I', 'B', 'B', 'B', 'B']\n",
            "51 ['B', 'B', 'B', 'B']\n",
            "51 ['B', 'B', 'B', 'B', 'B', 'B', 'B', 'B']\n",
            "51 ['B', 'B', 'B', 'B', 'B', 'B', 'B', 'I']\n",
            "51 ['B', 'B', 'I', 'B', 'B', 'B', 'B', 'B', 'B']\n",
            "51 ['B', 'B', 'B', 'I']\n",
            "51 ['B', 'B', 'B', 'B', 'B']\n",
            "51 ['B', 'B', 'B', 'B', 'B', 'B', 'B', 'B', 'B', 'B', 'B']\n",
            "51 ['B', 'B', 'I', 'B']\n",
            "51 ['B', 'B', 'B', 'B']\n",
            "51 ['B', 'I', 'B', 'B', 'B', 'B', 'B']\n",
            "51 ['B', 'B', 'B', 'B', 'B']\n",
            "51 ['B', 'B', 'B', 'B', 'B', 'B']\n",
            "51 ['B', 'B', 'I', 'B', 'B', 'B', 'I', 'B']\n",
            "51 ['B', 'B', 'B', 'I', 'B', 'B']\n",
            "51 ['B', 'B', 'B', 'B', 'B', 'B']\n",
            "51 ['B', 'B', 'B', 'I', 'B']\n",
            "51 ['B', 'B', 'B', 'B', 'B', 'B', 'B']\n",
            "51 ['B', 'B', 'B', 'B', 'B', 'B', 'B']\n",
            "51 ['B', 'B', 'B', 'B', 'B', 'B', 'B', 'I']\n",
            "51 ['B', 'B', 'B', 'B', 'B']\n",
            "51 ['B', 'B', 'I', 'B', 'B', 'B', 'B']\n",
            "51 ['B', 'B', 'B']\n",
            "51 ['B', 'B', 'B', 'B', 'B']\n",
            "51 ['B', 'B', 'B', 'B', 'B', 'B', 'B', 'B', 'B', 'I']\n",
            "51 ['B', 'B', 'B', 'B', 'B', 'B']\n",
            "51 ['B', 'B', 'I', 'B']\n",
            "51 ['B', 'B', 'B', 'B', 'B', 'B', 'B', 'B', 'B', 'I']\n",
            "51 ['B', 'B', 'B', 'B', 'I', 'B']\n",
            "51 ['B', 'B', 'I', 'B', 'B', 'B', 'I', 'B', 'B', 'B', 'B', 'B', 'B', 'B', 'I']\n",
            "51 ['B', 'B', 'B']\n",
            "51 ['B', 'B', 'B', 'B', 'B', 'B', 'B', 'I']\n",
            "51 ['B', 'B', 'B', 'B']\n",
            "51 ['B', 'B', 'B', 'B', 'B', 'B']\n",
            "51 ['B', 'B', 'B', 'B', 'B']\n",
            "51 ['B', 'B', 'B', 'B', 'B', 'B', 'B', 'B']\n",
            "51 ['B', 'I', 'B', 'B', 'B', 'B', 'B', 'B']\n",
            "51 ['B', 'I', 'B', 'B', 'B', 'B']\n",
            "51 ['B', 'B', 'B', 'B', 'I', 'B', 'B', 'B']\n",
            "51 ['B', 'B', 'I', 'B', 'B', 'B', 'B']\n",
            "51 ['B', 'B', 'B', 'B', 'B', 'B', 'B', 'B', 'B', 'B', 'I']\n",
            "51 ['B', 'B', 'B', 'I', 'B', 'B']\n",
            "51 ['B', 'B', 'B', 'B', 'I']\n",
            "51 ['B', 'B', 'I', 'B', 'B', 'B', 'B']\n",
            "51 ['B', 'B', 'B', 'B', 'B', 'B']\n",
            "51 ['B', 'B', 'I', 'B']\n",
            "51 ['B', 'B', 'I', 'B', 'I']\n",
            "51 ['B', 'B', 'B', 'B', 'B', 'B', 'B', 'B', 'I']\n",
            "51 ['B', 'B', 'B', 'B', 'B', 'B', 'I']\n",
            "51 ['B', 'B', 'B', 'B', 'B']\n",
            "51 ['B', 'B', 'B', 'B', 'B', 'B', 'B']\n",
            "51 ['B', 'B', 'B', 'B', 'B', 'I']\n",
            "51 ['B', 'I', 'B', 'B', 'B']\n",
            "51 ['B', 'B', 'B', 'B', 'B']\n",
            "51 ['B', 'B', 'B', 'B', 'B']\n",
            "51 ['B', 'B', 'I', 'B', 'B', 'I']\n",
            "51 ['B', 'B', 'B', 'B', 'B', 'B', 'B']\n",
            "51 ['B', 'I', 'B', 'B', 'B', 'B', 'I', 'B', 'B', 'B', 'B', 'B', 'B']\n",
            "51 ['B', 'B', 'B', 'B', 'B', 'B', 'B']\n",
            "51 ['B', 'B', 'B', 'B', 'B', 'B', 'B', 'B', 'B', 'B', 'I']\n",
            "51 ['B', 'B', 'B']\n",
            "51 ['B', 'B', 'B', 'B']\n",
            "51 ['B', 'B', 'B', 'B', 'B', 'B']\n",
            "51 ['B', 'I', 'B', 'B', 'B', 'B']\n",
            "51 ['B', 'B', 'B', 'B', 'B']\n",
            "51 ['B', 'B', 'I', 'B', 'B', 'B', 'B', 'B', 'I']\n",
            "51 ['B', 'B', 'B', 'B', 'B', 'B', 'B', 'B', 'B', 'B', 'B']\n",
            "51 ['B', 'B', 'B', 'I', 'B', 'B']\n",
            "51 ['B', 'B', 'I', 'B', 'B', 'B', 'B']\n",
            "51 ['B', 'B', 'B']\n",
            "51 ['B', 'B', 'B', 'B', 'B', 'I', 'B', 'B']\n",
            "51 ['B', 'B', 'B', 'B', 'B', 'B', 'B']\n",
            "51 ['B', 'I', 'B', 'I', 'B', 'B']\n",
            "51 ['B', 'B', 'I', 'B']\n",
            "51 ['B', 'B', 'B', 'B']\n",
            "51 ['B', 'B', 'B', 'B']\n",
            "51 ['B', 'B', 'B', 'B', 'B', 'B', 'B']\n",
            "51 ['B', 'B', 'B', 'I', 'B', 'B', 'B', 'B', 'B']\n",
            "51 ['B', 'B', 'B', 'B', 'B']\n",
            "51 ['B', 'B', 'B', 'B', 'B', 'B', 'B', 'B', 'B', 'I']\n",
            "51 ['B', 'I', 'B', 'B', 'B', 'B', 'B', 'B']\n",
            "51 ['B', 'B', 'B', 'B', 'B', 'B', 'I']\n",
            "51 ['B', 'B', 'I', 'B', 'B', 'B']\n",
            "51 ['B', 'B', 'I', 'B', 'B', 'B']\n",
            "51 ['B', 'B', 'B']\n",
            "51 ['B', 'B', 'B', 'B', 'B']\n",
            "51 ['B', 'B', 'B', 'B', 'B', 'B', 'B', 'B', 'B', 'B', 'I']\n",
            "51 ['B', 'B', 'I', 'B', 'B', 'B']\n",
            "51 ['B', 'B', 'B', 'B', 'B']\n",
            "51 ['B', 'B', 'B', 'B', 'B', 'B', 'B']\n",
            "51 ['B', 'B', 'B', 'B']\n",
            "51 ['B', 'B', 'B', 'B', 'B', 'B', 'B', 'I']\n",
            "51 ['B', 'B', 'B', 'B', 'B']\n",
            "51 ['B', 'B', 'I', 'B', 'B', 'B', 'B', 'B', 'B', 'B', 'B', 'B', 'B']\n",
            "51 ['B', 'B', 'I', 'B']\n",
            "51 ['B', 'B', 'B', 'B']\n",
            "51 ['B', 'B', 'B', 'B', 'B']\n",
            "51 ['B', 'B', 'B', 'B', 'B', 'B', 'B']\n",
            "51 ['B', 'B', 'I', 'B', 'B', 'B', 'B', 'B', 'B', 'B']\n",
            "51 ['B', 'B', 'B', 'B', 'B', 'B', 'B', 'B', 'I']\n",
            "51 ['B', 'B', 'B', 'B', 'B', 'I']\n",
            "51 ['B', 'B', 'B', 'B', 'I']\n",
            "51 ['B', 'B', 'B', 'B', 'I', 'B']\n",
            "51 ['B', 'B', 'B', 'B', 'B', 'B', 'B', 'B', 'B']\n",
            "51 ['B', 'B', 'B', 'B', 'B', 'B', 'B', 'B', 'B', 'B', 'B', 'B', 'B', 'B', 'I']\n",
            "51 ['B', 'B', 'B']\n",
            "51 ['B', 'B', 'B', 'B', 'B', 'B']\n",
            "51 ['B', 'B', 'B', 'B', 'B']\n",
            "51 ['B', 'B', 'B', 'I', 'B', 'B', 'B', 'I']\n",
            "51 ['B', 'B', 'I', 'B', 'B', 'B']\n",
            "51 ['B', 'B', 'I', 'B', 'B', 'B', 'B']\n",
            "51 ['B', 'B', 'B', 'B', 'B']\n",
            "51 ['B', 'B', 'I', 'B', 'B', 'B']\n",
            "51 ['B', 'I', 'B', 'B', 'B', 'I']\n",
            "51 ['B', 'B', 'B', 'B', 'B', 'B']\n",
            "51 ['B', 'B', 'B', 'B', 'B', 'B', 'I']\n",
            "51 ['B', 'B', 'B', 'B', 'I', 'B']\n",
            "51 ['B', 'B', 'B', 'B', 'I', 'B']\n",
            "51 ['B', 'B', 'B', 'B', 'B', 'B', 'B', 'B', 'B', 'B', 'B', 'B', 'B', 'I']\n",
            "51 ['B', 'B', 'I', 'B', 'B', 'B', 'B', 'I']\n",
            "51 ['B', 'B', 'B', 'B']\n",
            "51 ['B', 'B', 'I', 'B', 'B']\n",
            "51 ['B', 'B', 'B', 'B', 'B']\n",
            "51 ['B', 'I', 'B', 'B', 'B', 'I']\n",
            "51 ['B', 'B', 'B', 'B']\n",
            "51 ['B', 'B', 'B', 'B', 'B', 'B']\n",
            "51 ['B', 'B', 'B', 'B', 'B']\n",
            "51 ['B', 'B', 'I', 'B', 'B', 'B']\n",
            "51 ['B', 'B', 'B', 'B', 'B']\n",
            "51 ['B', 'B', 'B', 'B', 'I', 'B', 'B']\n",
            "51 ['B', 'B', 'B', 'B', 'B']\n",
            "51 ['B', 'B', 'B', 'B', 'I']\n",
            "51 ['B', 'B', 'B', 'B', 'B', 'B', 'B']\n",
            "51 ['B', 'B', 'B', 'B', 'B', 'B', 'B', 'B', 'B', 'B', 'B', 'B', 'B', 'I']\n",
            "51 ['B', 'B', 'B']\n",
            "51 ['B', 'B', 'B', 'B', 'B', 'B', 'B', 'B', 'B']\n",
            "51 ['B', 'B', 'B', 'B', 'B', 'B']\n",
            "51 ['B', 'B', 'B', 'B']\n",
            "51 ['B', 'B', 'B', 'B', 'B', 'I']\n",
            "51 ['B', 'B', 'B', 'B']\n",
            "51 ['B', 'B', 'B', 'B', 'B', 'I']\n",
            "51 ['B', 'B', 'B', 'B', 'I', 'B', 'B', 'B', 'B', 'B', 'B']\n",
            "51 ['B', 'B', 'B', 'B', 'I', 'B', 'B', 'B', 'B', 'B', 'B', 'I']\n",
            "51 ['B', 'B', 'I', 'B', 'B', 'I', 'B', 'B', 'I']\n",
            "51 ['B', 'B', 'B', 'B', 'B', 'B', 'B']\n",
            "51 ['B', 'B', 'B', 'B', 'B', 'B', 'B', 'B', 'B', 'B', 'B', 'B', 'B', 'I']\n",
            "51 ['B', 'B', 'B', 'B', 'B', 'B', 'B']\n",
            "51 ['B', 'B', 'I', 'B', 'B', 'B', 'B', 'B', 'I']\n",
            "51 ['B', 'B', 'B', 'B', 'B', 'I', 'B', 'B', 'B']\n",
            "51 ['B', 'B', 'B', 'B', 'B', 'B', 'B', 'B']\n",
            "51 ['B', 'B', 'B', 'I', 'B', 'I']\n",
            "51 ['B', 'B', 'B', 'B', 'B']\n",
            "51 ['B', 'B', 'B', 'I']\n",
            "51 ['B', 'B', 'B', 'I', 'B']\n",
            "51 ['B', 'B', 'B', 'B', 'B', 'B', 'B', 'B']\n",
            "51 ['B', 'B', 'B', 'B', 'B', 'B', 'B', 'B', 'B', 'B', 'I']\n",
            "51 ['B', 'B', 'B', 'B', 'B', 'B']\n",
            "51 ['B', 'B', 'I', 'B', 'B', 'B', 'B', 'B']\n",
            "51 ['B', 'B', 'B', 'B', 'B', 'B', 'B', 'B', 'B']\n",
            "51 ['B', 'B', 'B', 'B', 'B', 'B', 'B']\n",
            "51 ['B', 'B', 'B', 'B', 'B', 'B']\n",
            "51 ['B', 'B', 'I', 'B', 'B', 'B', 'B', 'B', 'I']\n",
            "51 ['B', 'I', 'B', 'B', 'I', 'B', 'B', 'B', 'B', 'B', 'B']\n",
            "51 ['B', 'B', 'B', 'B', 'B']\n",
            "51 ['B', 'B', 'I', 'B']\n",
            "51 ['B', 'B', 'B', 'B', 'I', 'B', 'B', 'B', 'I']\n",
            "51 ['B', 'I', 'B', 'B', 'B']\n",
            "51 ['B', 'B', 'B', 'B', 'B', 'B']\n",
            "51 ['B', 'B', 'B', 'B', 'B']\n",
            "51 ['B', 'B', 'I', 'B']\n",
            "51 ['B', 'B', 'I', 'B', 'B', 'I', 'B']\n",
            "51 ['B', 'B']\n",
            "51 ['B', 'B', 'B', 'B', 'B', 'B']\n",
            "51 ['B', 'B', 'B', 'B', 'B', 'B', 'B']\n",
            "51 ['B', 'B', 'B', 'B', 'B', 'B']\n",
            "51 ['B', 'B', 'B', 'B', 'B', 'B', 'B', 'B', 'I']\n",
            "51 ['B', 'B', 'B']\n",
            "51 ['B', 'B', 'B', 'B', 'B']\n",
            "51 ['B', 'B', 'I', 'B', 'B', 'B', 'B']\n",
            "51 ['B', 'B', 'B', 'B', 'I']\n",
            "51 ['B', 'B', 'I', 'B', 'B', 'I']\n",
            "51 ['B', 'B', 'B', 'B', 'B']\n",
            "51 ['B', 'B', 'B', 'B', 'B', 'B', 'B', 'B']\n",
            "51 ['B', 'B', 'B', 'B', 'B', 'B', 'B', 'B', 'I', 'B', 'B', 'B']\n",
            "51 ['B', 'B', 'B', 'B', 'B', 'I', 'B', 'B', 'B', 'B']\n",
            "51 ['B', 'B', 'B', 'I', 'B', 'B', 'B', 'B', 'B']\n",
            "51 ['B', 'B', 'B', 'B', 'I']\n",
            "51 ['B', 'B', 'B', 'B', 'B']\n",
            "51 ['B', 'B', 'I', 'B', 'B']\n",
            "51 ['B', 'B', 'B', 'I', 'B', 'B', 'B', 'B', 'B', 'B', 'B', 'B', 'I']\n",
            "51 ['B', 'B', 'B', 'B', 'B', 'B', 'B']\n",
            "51 ['B', 'B', 'B', 'B', 'I']\n",
            "51 ['B', 'I', 'B', 'B', 'B', 'B', 'B', 'B', 'B']\n",
            "51 ['B', 'B', 'B', 'B']\n",
            "51 ['B', 'B', 'B']\n",
            "51 ['B', 'I', 'B', 'B', 'I', 'B', 'B', 'B', 'B', 'B']\n",
            "51 ['B', 'B', 'B', 'B', 'B', 'B', 'B', 'I']\n",
            "51 ['B', 'B', 'I', 'B', 'B', 'B', 'B', 'B', 'B', 'I']\n",
            "51 ['B', 'B', 'B', 'B', 'B', 'B', 'I', 'B', 'B']\n",
            "51 ['B', 'B', 'B', 'B']\n",
            "51 ['B', 'B', 'B', 'B', 'B', 'I']\n",
            "51 ['B', 'B', 'B', 'B']\n",
            "51 ['B', 'B', 'B', 'B', 'B']\n",
            "51 ['B', 'B', 'B', 'B', 'B', 'B', 'B', 'B', 'B', 'I']\n",
            "51 ['B', 'B', 'I', 'B', 'B', 'B', 'I']\n",
            "51 ['B', 'I', 'B', 'B', 'B', 'B', 'B']\n",
            "51 ['B', 'B', 'B', 'B', 'B', 'B']\n",
            "51 ['B', 'B', 'I', 'B', 'B', 'B', 'B', 'B', 'I', 'B', 'B', 'B', 'B']\n",
            "51 ['B', 'B', 'B', 'B', 'B', 'B']\n",
            "51 ['B', 'B', 'B', 'B', 'B', 'B', 'B', 'B', 'B']\n",
            "51 ['B', 'B', 'I', 'B', 'B', 'B', 'B', 'B']\n",
            "51 ['B', 'B', 'B', 'B']\n",
            "51 ['B', 'B', 'B', 'B', 'B', 'B', 'B', 'B', 'B']\n",
            "51 ['B', 'B', 'B', 'B', 'B', 'B', 'B', 'B', 'B']\n",
            "51 ['B', 'B', 'B', 'B', 'B', 'B']\n",
            "51 ['B', 'B', 'B', 'I', 'B']\n",
            "51 ['B', 'B', 'B', 'B', 'B', 'B', 'B', 'I']\n",
            "51 ['B', 'B']\n",
            "51 ['B', 'B', 'B', 'B']\n",
            "51 ['B', 'B', 'B', 'B', 'B', 'B', 'B']\n",
            "51 ['B', 'B', 'B', 'B', 'I']\n",
            "51 ['B', 'B', 'B', 'B', 'B', 'B']\n",
            "51 ['B', 'B', 'B', 'B', 'B', 'B', 'B', 'B', 'B', 'B', 'I']\n",
            "51 ['B', 'B', 'B']\n",
            "51 ['B', 'I', 'B', 'B', 'B', 'B', 'B', 'I']\n",
            "51 ['B', 'B', 'I', 'B', 'B', 'B', 'B', 'B', 'B']\n",
            "51 ['B', 'B', 'B', 'B', 'B']\n",
            "51 ['B', 'B', 'B', 'B', 'B', 'B', 'B', 'B']\n",
            "51 ['B', 'B', 'B', 'B']\n",
            "51 ['B', 'B', 'B', 'B', 'B']\n",
            "51 ['B', 'B', 'I', 'B', 'I', 'B']\n",
            "51 ['B', 'B', 'B', 'B', 'B', 'B']\n",
            "51 ['B', 'B', 'B', 'B', 'B']\n",
            "51 ['B', 'B', 'B', 'B', 'B']\n",
            "51 ['B', 'B', 'B', 'B', 'B', 'I']\n",
            "51 ['B', 'B', 'I', 'B', 'B', 'B', 'B', 'B', 'B', 'B', 'B', 'B', 'I']\n",
            "51 ['B', 'B', 'B', 'B', 'B', 'B']\n",
            "51 ['B', 'B', 'B', 'B', 'B', 'B', 'B']\n",
            "51 ['B', 'B', 'B', 'B', 'B']\n",
            "51 ['B', 'B', 'B', 'B', 'B']\n",
            "51 ['B', 'B', 'B', 'B', 'B', 'B']\n",
            "51 ['B', 'B', 'B', 'B', 'I']\n",
            "51 ['B', 'B']\n",
            "51 ['B', 'B', 'B', 'B', 'B', 'B', 'B', 'B', 'B']\n",
            "51 ['B', 'B', 'B', 'B', 'B', 'B', 'B']\n",
            "51 ['B', 'B', 'B', 'B', 'I']\n",
            "51 ['B', 'B', 'B', 'B', 'I', 'B', 'B', 'B', 'B']\n",
            "51 ['B', 'B', 'B', 'B', 'B']\n",
            "51 ['B', 'B', 'B', 'B']\n",
            "51 ['B', 'B', 'B', 'B', 'B', 'B', 'B', 'B']\n",
            "51 ['B', 'B', 'I', 'B', 'B', 'B', 'B', 'B']\n",
            "51 ['B', 'B', 'B', 'B', 'B', 'B', 'B', 'B', 'B', 'I']\n",
            "51 ['B', 'B', 'B', 'B', 'B']\n",
            "51 ['B', 'B', 'I', 'B', 'B', 'I']\n",
            "51 ['B', 'B', 'I', 'B', 'B']\n",
            "51 ['B', 'B', 'B', 'B', 'B', 'B']\n",
            "51 ['B', 'B', 'B', 'B', 'B', 'B', 'B']\n",
            "51 ['B', 'B', 'B', 'B', 'B', 'B', 'B']\n",
            "51 ['B', 'B', 'B', 'B', 'B']\n",
            "51 ['B', 'B', 'B', 'B', 'B']\n",
            "51 ['B', 'B', 'I', 'B', 'B', 'B', 'B', 'B', 'I']\n",
            "51 ['B', 'B', 'B', 'B', 'I', 'B', 'B', 'I']\n",
            "51 ['B', 'B', 'B', 'I', 'B', 'B', 'B', 'B']\n",
            "51 ['B', 'B', 'B', 'B', 'B', 'B', 'I', 'B']\n",
            "51 ['B', 'B', 'I', 'B', 'B', 'B']\n",
            "51 ['B', 'B', 'B', 'B']\n",
            "51 ['B', 'B', 'I', 'B', 'B', 'B']\n",
            "51 ['B', 'B', 'I', 'B']\n",
            "51 ['B', 'B', 'I', 'B', 'B']\n",
            "51 ['B', 'B', 'B', 'B', 'B', 'B', 'I']\n",
            "51 ['B', 'I', 'B', 'B', 'B', 'B', 'B']\n",
            "51 ['B', 'B', 'B', 'B', 'B', 'B', 'B', 'B', 'B']\n",
            "51 ['B', 'B', 'B', 'B', 'B']\n",
            "51 ['B', 'B', 'B', 'B']\n",
            "51 ['B', 'B', 'B', 'B', 'B', 'B']\n",
            "51 ['B', 'I', 'B', 'B', 'I', 'B', 'B']\n",
            "51 ['B', 'B', 'B', 'B', 'B', 'B', 'B', 'I']\n",
            "51 ['B', 'B', 'I', 'B', 'B', 'I', 'B', 'B', 'B']\n",
            "51 ['B', 'B', 'B', 'B', 'I']\n",
            "51 ['B', 'B', 'B', 'I', 'B', 'B', 'B', 'B']\n",
            "51 ['B', 'B', 'I', 'B', 'B', 'B']\n",
            "51 ['B', 'I', 'B', 'B', 'B', 'B', 'B']\n",
            "51 ['B', 'B', 'I', 'B', 'B']\n",
            "51 ['B', 'B', 'B', 'B', 'B', 'B', 'B']\n",
            "51 ['B', 'B', 'B', 'B', 'B']\n",
            "51 ['B', 'B', 'B', 'B', 'I']\n",
            "51 ['B', 'B', 'B', 'B', 'B', 'B', 'B']\n",
            "51 ['B', 'B', 'B', 'B', 'B', 'B', 'B']\n",
            "51 ['B', 'B', 'B', 'B', 'B', 'B', 'B', 'B', 'B', 'B', 'B']\n",
            "51 ['B', 'B', 'B', 'B', 'B']\n",
            "51 ['B', 'B', 'B', 'B', 'B']\n",
            "51 ['B', 'B', 'B', 'B', 'B']\n",
            "51 ['B', 'B', 'B', 'B', 'B', 'B', 'B']\n",
            "51 ['B', 'B', 'B', 'B', 'B']\n",
            "51 ['B', 'B', 'B', 'B', 'B', 'B', 'B', 'B', 'B']\n",
            "51 ['B', 'B', 'B']\n",
            "51 ['B', 'B', 'I', 'B', 'B', 'B', 'I']\n",
            "51 ['B', 'B', 'I', 'B', 'B', 'B', 'B', 'B']\n",
            "51 ['B', 'B', 'B', 'B', 'B']\n",
            "51 ['B', 'B', 'B', 'B', 'B', 'B', 'B', 'B']\n",
            "51 ['B', 'B', 'I', 'B', 'B', 'I']\n",
            "51 ['B', 'B', 'B', 'B', 'B', 'B', 'B']\n",
            "51 ['B', 'B', 'B', 'B', 'B', 'B', 'B', 'B']\n",
            "51 ['B', 'B', 'B', 'I', 'B']\n",
            "51 ['B', 'B', 'B', 'B', 'B']\n",
            "51 ['B', 'B', 'B', 'B']\n",
            "51 ['B', 'B', 'B', 'B', 'B', 'B', 'B']\n",
            "51 ['B', 'B', 'I', 'B', 'B', 'B', 'B', 'B']\n",
            "51 ['B', 'B', 'I', 'B', 'B', 'B']\n",
            "51 ['B', 'B', 'B', 'B']\n",
            "51 ['B', 'I', 'B', 'B', 'B']\n",
            "51 ['B', 'B', 'B', 'B']\n",
            "51 ['B', 'B', 'B', 'B', 'B', 'B']\n",
            "51 ['B', 'B', 'I', 'B', 'B', 'B', 'B', 'B', 'B', 'B', 'B', 'I']\n",
            "51 ['B', 'B', 'B', 'B', 'B', 'B']\n",
            "51 ['B', 'B', 'B', 'B', 'B', 'B']\n",
            "51 ['B', 'B', 'B', 'B', 'I', 'B', 'B', 'I', 'B']\n",
            "51 ['B', 'B', 'I', 'B', 'B', 'I']\n",
            "51 ['B', 'B', 'B', 'B', 'B', 'I', 'B', 'B']\n",
            "51 ['B', 'I', 'B', 'B', 'B', 'B', 'B', 'B', 'B', 'B', 'B']\n",
            "51 ['B', 'B', 'B', 'B']\n",
            "51 ['B', 'B', 'B', 'B', 'I']\n",
            "51 ['B', 'B', 'I', 'B', 'B', 'B']\n",
            "51 ['B', 'B', 'B', 'B', 'B', 'I']\n",
            "51 ['B', 'I', 'B', 'B', 'B']\n",
            "51 ['B', 'B', 'B', 'B', 'B', 'B', 'B', 'B', 'B', 'I']\n",
            "51 ['B', 'B', 'B', 'B', 'B', 'B', 'B', 'B', 'B', 'B', 'B', 'B', 'I']\n",
            "51 ['B', 'B', 'B', 'B', 'B', 'B']\n",
            "51 ['B', 'B', 'B', 'B', 'B']\n",
            "51 ['B', 'B', 'B', 'B', 'B', 'B', 'B', 'B', 'B', 'I']\n",
            "51 ['B', 'B', 'B', 'B']\n",
            "51 ['B', 'B', 'B', 'B', 'B', 'B']\n",
            "51 ['B', 'B', 'B', 'B', 'I']\n",
            "51 ['B', 'B', 'B', 'B', 'B']\n",
            "51 ['B', 'B', 'B', 'B', 'B', 'B', 'B', 'B']\n",
            "51 ['B', 'B', 'B', 'B']\n",
            "51 ['B', 'B', 'B']\n",
            "51 ['B', 'B', 'I', 'B', 'B', 'B', 'B', 'B', 'B', 'B']\n",
            "51 ['B', 'B', 'B', 'B', 'I', 'B', 'B', 'B']\n",
            "51 ['B', 'I', 'B', 'B', 'B', 'B']\n",
            "51 ['B', 'B', 'I', 'B', 'B', 'B', 'B', 'B']\n",
            "51 ['B', 'B', 'B', 'B', 'B', 'B']\n",
            "51 ['B', 'I', 'B', 'B']\n",
            "51 ['B', 'B', 'B', 'B', 'B', 'B', 'B']\n",
            "51 ['B', 'B', 'B', 'B', 'B', 'B', 'I', 'B', 'B', 'B', 'B', 'I']\n",
            "51 ['B', 'B', 'I', 'B', 'B', 'I']\n",
            "51 ['B', 'B', 'B', 'B', 'I']\n",
            "51 ['B', 'B', 'B', 'B', 'B', 'B']\n",
            "51 ['B', 'B', 'B', 'B']\n",
            "51 ['B', 'B', 'B', 'B', 'B', 'B']\n",
            "51 ['B', 'B', 'B', 'B']\n",
            "51 ['B', 'B', 'I', 'B', 'B', 'I', 'B', 'B']\n",
            "51 ['B', 'B', 'B', 'B', 'B']\n",
            "51 ['B', 'B', 'B', 'B', 'B']\n",
            "51 ['B', 'B', 'B', 'B', 'B', 'B', 'B', 'B']\n",
            "51 ['B', 'B', 'B', 'B', 'B', 'B', 'B', 'B', 'B', 'I']\n",
            "51 ['B', 'B', 'B', 'B', 'B', 'B']\n",
            "51 ['B', 'B', 'B', 'B', 'I']\n",
            "51 ['B', 'B', 'I', 'B', 'B', 'B']\n",
            "51 ['B', 'B', 'I', 'B', 'B', 'B', 'B', 'B']\n",
            "51 ['B', 'B', 'B', 'B', 'B', 'B', 'B', 'B', 'I']\n",
            "51 ['B', 'B', 'B']\n",
            "51 ['B', 'B', 'B', 'B', 'B', 'B', 'B', 'B', 'B']\n",
            "51 ['B', 'B', 'B']\n",
            "51 ['B', 'B', 'B', 'B', 'B', 'B', 'I']\n",
            "51 ['B', 'B', 'B', 'B', 'B']\n",
            "51 ['B', 'B', 'B', 'B', 'B', 'B', 'B']\n",
            "51 ['B', 'B', 'B']\n",
            "51 ['B', 'B', 'I', 'B', 'B', 'B', 'B', 'B', 'B', 'B', 'B', 'B', 'B', 'I']\n",
            "51 ['B', 'B', 'B']\n",
            "51 ['B', 'B', 'B', 'B', 'B', 'B', 'B', 'B', 'B', 'B', 'B', 'B', 'B', 'B', 'I']\n",
            "51 ['B', 'B', 'I', 'B', 'B', 'I']\n",
            "51 ['B', 'B', 'B', 'I', 'B', 'B']\n",
            "51 ['B', 'B', 'I', 'B', 'B', 'B', 'B', 'B', 'B', 'B', 'I']\n",
            "51 ['B', 'B', 'I', 'B', 'B', 'B', 'B', 'I']\n",
            "51 ['B', 'B', 'I', 'B', 'B', 'B', 'B']\n",
            "51 ['B', 'B', 'B', 'B', 'B']\n",
            "51 ['B', 'B', 'B', 'B', 'B']\n",
            "51 ['B', 'B', 'B', 'B', 'B', 'I']\n",
            "51 ['B', 'B', 'B', 'B', 'B']\n",
            "51 ['B', 'B', 'B', 'B', 'B', 'B', 'B', 'B', 'B', 'B', 'B', 'B']\n",
            "51 ['B', 'B', 'B', 'B']\n",
            "51 ['B', 'B', 'B', 'B', 'B', 'B', 'B', 'B']\n",
            "51 ['B', 'B', 'B', 'B', 'B']\n",
            "51 ['B', 'B', 'B', 'B', 'B', 'I', 'B']\n",
            "51 ['B', 'B', 'I', 'B', 'B', 'B']\n",
            "51 ['B', 'B', 'B', 'B', 'B', 'B']\n",
            "51 ['B', 'B', 'B', 'B']\n",
            "51 ['B', 'B', 'B', 'B', 'I', 'B', 'B']\n",
            "51 ['B', 'B', 'B', 'B', 'I', 'B', 'B', 'B']\n",
            "51 ['B', 'B', 'B', 'B']\n",
            "51 ['B', 'B', 'B', 'B', 'B', 'B', 'B', 'B']\n",
            "51 ['B', 'B', 'B', 'B', 'B', 'I']\n",
            "51 ['B', 'B', 'I', 'B', 'B', 'I', 'B']\n",
            "51 ['B', 'I', 'B']\n",
            "51 ['B', 'B', 'B', 'B', 'B', 'B']\n",
            "51 ['B', 'B', 'B', 'B', 'B', 'B', 'I', 'B']\n",
            "51 ['B', 'B', 'B', 'B', 'B', 'B']\n",
            "51 ['B', 'B', 'B', 'B', 'B']\n",
            "51 ['B', 'I', 'B', 'B', 'B', 'B', 'B', 'B', 'B', 'B', 'B', 'B', 'B', 'B', 'B']\n",
            "51 ['B', 'B', 'I', 'B', 'B', 'B', 'B', 'B']\n",
            "51 ['B', 'B', 'B', 'B', 'B', 'B']\n",
            "51 ['B', 'B', 'B', 'B']\n",
            "51 ['B', 'B', 'B', 'B', 'B', 'B', 'B']\n",
            "51 ['B', 'B', 'B', 'B', 'B']\n",
            "51 ['B', 'B', 'B']\n",
            "51 ['B', 'I', 'B', 'B']\n",
            "51 ['B', 'B', 'B', 'B', 'B']\n",
            "51 ['B', 'B', 'I', 'B', 'B', 'B']\n",
            "51 ['B', 'B', 'B', 'B', 'B', 'B', 'I']\n",
            "51 ['B', 'I', 'B', 'B', 'I', 'B', 'B']\n",
            "51 ['B', 'I', 'B', 'B', 'B', 'B', 'B', 'B', 'B', 'B', 'B']\n",
            "51 ['B', 'B', 'B', 'B', 'I', 'B', 'B', 'B', 'B']\n",
            "51 ['B', 'B', 'B', 'B', 'B']\n",
            "51 ['B', 'B', 'B', 'B', 'B']\n",
            "51 ['B', 'B', 'B', 'B', 'B', 'B', 'B', 'I']\n",
            "51 ['B', 'B', 'I', 'B', 'B', 'B', 'I']\n",
            "51 ['B', 'B', 'B', 'B', 'B', 'B', 'I', 'B', 'B']\n",
            "51 ['B', 'B', 'B', 'B', 'B', 'B', 'B', 'B']\n",
            "51 ['B', 'B', 'B', 'B', 'B']\n",
            "51 ['B', 'B', 'B', 'B', 'B']\n",
            "51 ['B', 'B', 'I', 'B', 'B', 'B', 'B']\n",
            "51 ['B', 'B', 'I', 'B', 'B']\n",
            "51 ['B', 'B', 'B', 'B', 'B', 'B', 'B']\n",
            "51 ['B', 'B', 'B', 'I', 'B', 'B']\n",
            "51 ['B', 'B', 'B', 'B', 'I']\n",
            "51 ['B', 'B', 'B', 'B', 'B', 'B', 'B']\n",
            "51 ['B', 'B', 'B', 'I']\n",
            "51 ['B', 'B', 'B', 'B', 'B', 'B']\n",
            "51 ['B', 'B', 'B', 'B', 'B', 'B', 'B', 'B', 'I']\n",
            "51 ['B', 'B', 'B', 'B', 'B', 'B', 'B', 'B', 'I']\n",
            "51 ['B', 'B', 'B', 'B', 'B']\n",
            "51 ['B', 'B', 'I', 'B', 'B', 'B', 'B', 'B', 'B']\n",
            "51 ['B', 'I', 'B', 'B', 'B', 'B', 'B', 'B', 'B', 'B']\n",
            "51 ['B', 'B', 'B', 'B', 'B', 'B']\n",
            "51 ['B', 'B', 'B', 'B', 'B', 'B', 'B', 'B', 'B', 'B']\n",
            "51 ['B', 'B', 'B', 'B', 'B', 'I']\n",
            "51 ['B', 'B', 'B', 'B', 'B', 'B']\n",
            "51 ['B', 'I', 'B', 'B', 'B', 'B', 'I', 'B', 'B', 'I']\n",
            "51 ['B', 'B', 'B', 'B', 'B', 'B', 'B', 'B', 'B', 'B']\n",
            "51 ['B', 'B', 'B']\n",
            "51 ['B', 'B', 'I', 'B', 'B']\n",
            "51 ['B', 'I', 'B', 'I', 'B', 'B', 'I', 'B', 'I', 'B']\n",
            "51 ['B', 'B', 'B', 'B', 'B', 'B', 'B', 'B', 'B']\n",
            "51 ['B', 'B', 'B', 'B', 'B']\n",
            "51 ['B', 'I', 'B', 'B', 'I', 'B']\n",
            "51 ['B', 'I', 'B', 'B', 'B', 'B', 'B', 'B']\n",
            "51 ['B', 'B', 'B', 'B', 'B', 'B', 'B', 'B']\n",
            "51 ['B', 'B', 'B', 'B', 'B', 'B', 'B']\n",
            "51 ['B', 'I', 'B', 'B', 'B', 'B']\n",
            "51 ['B', 'B', 'B', 'B']\n",
            "51 ['B', 'B', 'B', 'B', 'B', 'B', 'B', 'B']\n",
            "51 ['B', 'B', 'B', 'B', 'B', 'B']\n",
            "51 ['B', 'B', 'B', 'B', 'B', 'B', 'B', 'B', 'B', 'I']\n",
            "51 ['B', 'I', 'B', 'B', 'I', 'B', 'B', 'I']\n",
            "51 ['B', 'B', 'B', 'B', 'B', 'B']\n",
            "51 ['B', 'B', 'B', 'B', 'B', 'B', 'B', 'B', 'B', 'I']\n",
            "51 ['B', 'B', 'B', 'B']\n",
            "51 ['B', 'B', 'B', 'I', 'B', 'B', 'B']\n",
            "51 ['B', 'B', 'B', 'B', 'B', 'I']\n",
            "51 ['B', 'B', 'I', 'B', 'B']\n",
            "51 ['B', 'B', 'B', 'B', 'B', 'I']\n",
            "51 ['B', 'B', 'B', 'B', 'B']\n",
            "51 ['B', 'B', 'B', 'B', 'B', 'B', 'B', 'B', 'B']\n",
            "51 ['B', 'B', 'B', 'B', 'B', 'B', 'B']\n",
            "51 ['B', 'B', 'B']\n",
            "51 ['B', 'B', 'B']\n",
            "51 ['B', 'B', 'I', 'B', 'B']\n",
            "51 ['B', 'B', 'B', 'B', 'B', 'B', 'B', 'B', 'B', 'B', 'B', 'I']\n",
            "51 ['B', 'B', 'I', 'B', 'B']\n",
            "51 ['B', 'B', 'B', 'B']\n",
            "51 ['B', 'B', 'B', 'B', 'I', 'B']\n",
            "51 ['B', 'B', 'B', 'B', 'B', 'B', 'B', 'I']\n",
            "51 ['B', 'B', 'B', 'B', 'B', 'B', 'B']\n",
            "51 ['B', 'B', 'B', 'B', 'B', 'B', 'B']\n",
            "51 ['B', 'B', 'B', 'B', 'B', 'B', 'B']\n",
            "51 ['B', 'B', 'I', 'B', 'B', 'B', 'B', 'B', 'B', 'B', 'B']\n",
            "51 ['B', 'B', 'B', 'B', 'B', 'B', 'I', 'B']\n",
            "51 ['B', 'B', 'B', 'B', 'B', 'B', 'B', 'B', 'B']\n",
            "51 ['B', 'B', 'B', 'I', 'B', 'B', 'B']\n",
            "51 ['B', 'B', 'B', 'B', 'B']\n",
            "51 ['B', 'B', 'B']\n",
            "51 ['B', 'B', 'B', 'B', 'B']\n",
            "51 ['B', 'B', 'B', 'B', 'B', 'B', 'B']\n",
            "51 ['B', 'B', 'B', 'B', 'B', 'B', 'B']\n",
            "51 ['B', 'B', 'B', 'B', 'B', 'B', 'B']\n",
            "51 ['B', 'I', 'B', 'B', 'B', 'B', 'B']\n",
            "51 ['B', 'B', 'I', 'B', 'B']\n",
            "51 ['B', 'I', 'B', 'B', 'B', 'B', 'B', 'B', 'B', 'B', 'B', 'B', 'B', 'B']\n",
            "51 ['B', 'B', 'B', 'B', 'B']\n",
            "51 ['B', 'B', 'B', 'B', 'B', 'B', 'B', 'B']\n",
            "51 ['B', 'I', 'B', 'B', 'B', 'B', 'B']\n",
            "51 ['B', 'B', 'B', 'B', 'B', 'B', 'I', 'B']\n",
            "51 ['B', 'B', 'I', 'B', 'B', 'B', 'B', 'B', 'B', 'B']\n",
            "51 ['B', 'B', 'I', 'B']\n",
            "51 ['B', 'B', 'B', 'I', 'B']\n",
            "51 ['B', 'B', 'B', 'B', 'B', 'B', 'B', 'B', 'B', 'B']\n",
            "51 ['B', 'B', 'B', 'B', 'B', 'B', 'B', 'I']\n",
            "51 ['B', 'B', 'B', 'B', 'B', 'B', 'B', 'B', 'B', 'I']\n",
            "51 ['B', 'I', 'B', 'B']\n",
            "51 ['B', 'B']\n",
            "51 ['B', 'B', 'B', 'B', 'B', 'B', 'B', 'B']\n",
            "51 ['B', 'B', 'B', 'B', 'B', 'B', 'B']\n",
            "51 ['B', 'B', 'B', 'B', 'B', 'B', 'B', 'B']\n",
            "51 ['B', 'B', 'I', 'B', 'B', 'B']\n",
            "51 ['B', 'B', 'B', 'B', 'B', 'B', 'B', 'B']\n",
            "51 ['B', 'B', 'B', 'I', 'B', 'B', 'B', 'B', 'B']\n",
            "51 ['B', 'B', 'B', 'B', 'B', 'B', 'I', 'B', 'B', 'B']\n",
            "51 ['B', 'B', 'I', 'B']\n",
            "51 ['B', 'B', 'B', 'B', 'B']\n",
            "51 ['B', 'B', 'B', 'B', 'B', 'B']\n",
            "51 ['B', 'B', 'B']\n",
            "51 ['B', 'B', 'B', 'I', 'B', 'B', 'B', 'I']\n",
            "51 ['B', 'B', 'B', 'B', 'B', 'B', 'B', 'B']\n",
            "51 ['B', 'B', 'B', 'B', 'B', 'B', 'B', 'B', 'B']\n",
            "51 ['B', 'B', 'B', 'B', 'I']\n",
            "51 ['B', 'B', 'B', 'B', 'I']\n",
            "51 ['B', 'B', 'B', 'B', 'B', 'B']\n",
            "51 ['B', 'B', 'B', 'B', 'B', 'B', 'B']\n",
            "51 ['B', 'B', 'I', 'B', 'B', 'B', 'B', 'B']\n",
            "51 ['B', 'B', 'B', 'B', 'B', 'B', 'B']\n",
            "51 ['B', 'B', 'B', 'B', 'B']\n",
            "51 ['B', 'B', 'B', 'B', 'B']\n",
            "51 ['B', 'B', 'B', 'B', 'B', 'B']\n",
            "51 ['B', 'B', 'B', 'B', 'B', 'B']\n",
            "51 ['B', 'B', 'B', 'B', 'B']\n",
            "51 ['B', 'B', 'B', 'I', 'B']\n",
            "51 ['B', 'B', 'B', 'B', 'B']\n",
            "51 ['B', 'B', 'B', 'B']\n",
            "51 ['B', 'B', 'B', 'B', 'B']\n",
            "51 ['B', 'I', 'B', 'B', 'B', 'B', 'B', 'B', 'B', 'B', 'I']\n",
            "51 ['B', 'B', 'B', 'B', 'B', 'B', 'B']\n",
            "51 ['B', 'B', 'I', 'B', 'B', 'B', 'B', 'B', 'B']\n",
            "51 ['B', 'B', 'B', 'I']\n",
            "51 ['B', 'B', 'I', 'B', 'B', 'B', 'I', 'B']\n",
            "51 ['B', 'B', 'B', 'B', 'B', 'B', 'B', 'B', 'B']\n",
            "51 ['B', 'B', 'B', 'B']\n",
            "51 ['B', 'B', 'B', 'B', 'I', 'B', 'B', 'B', 'B', 'B', 'B', 'B', 'B', 'B', 'I']\n",
            "51 ['B', 'B', 'I', 'B', 'B', 'B', 'B', 'B', 'B']\n",
            "51 ['B', 'B', 'B', 'I', 'B', 'B', 'B', 'B']\n",
            "51 ['B', 'B', 'B', 'B', 'I', 'B', 'B', 'B', 'B']\n",
            "51 ['B', 'B', 'B', 'B', 'B']\n",
            "51 ['B', 'B', 'B', 'B', 'B', 'B', 'I', 'B']\n",
            "51 ['B', 'B', 'B', 'B', 'B', 'B', 'B', 'B', 'B', 'I']\n",
            "51 ['B', 'B', 'B', 'B', 'B', 'B', 'B', 'B', 'B', 'B', 'I']\n",
            "51 ['B', 'B', 'B', 'I']\n",
            "51 ['B', 'B', 'B', 'B', 'B', 'B', 'B']\n",
            "51 ['B', 'B', 'I', 'B', 'B', 'B', 'B', 'B']\n",
            "51 ['B', 'B', 'B', 'I', 'B', 'B', 'B', 'B']\n",
            "51 ['B', 'B', 'B', 'B', 'B', 'B']\n",
            "51 ['B', 'B', 'B', 'B', 'B', 'B']\n",
            "51 ['B', 'B', 'B', 'B', 'I', 'B']\n",
            "51 ['B', 'B', 'B', 'B', 'B', 'B', 'B', 'B']\n",
            "51 ['B', 'B', 'B', 'B', 'B']\n",
            "51 ['B', 'B', 'B', 'B', 'B']\n",
            "51 ['B', 'B', 'B', 'B', 'B', 'B', 'B', 'B', 'I']\n",
            "51 ['B', 'B', 'B', 'B', 'B', 'B', 'B']\n",
            "51 ['B', 'B', 'B', 'B', 'B', 'B', 'B', 'B', 'B']\n",
            "51 ['B', 'B', 'B', 'B', 'B']\n",
            "51 ['B', 'B', 'B', 'B', 'B', 'B']\n",
            "51 ['B', 'B', 'B', 'B']\n",
            "51 ['B', 'B', 'B', 'B', 'B', 'I', 'B', 'I', 'B']\n",
            "51 ['B', 'B', 'B', 'B', 'B']\n",
            "51 ['B', 'B', 'B', 'B']\n",
            "51 ['B', 'B', 'B', 'B', 'B']\n",
            "51 ['B', 'B', 'B']\n",
            "51 ['B', 'B', 'B', 'B', 'B', 'B', 'B']\n",
            "51 ['B', 'B', 'B', 'B', 'B', 'B', 'B', 'B', 'I']\n",
            "51 ['B', 'B', 'B', 'B', 'B', 'B', 'B', 'B']\n",
            "51 ['B', 'B', 'B', 'I', 'B', 'I', 'B', 'B', 'I']\n",
            "51 ['B', 'B', 'B', 'B', 'B', 'B', 'B', 'B']\n",
            "51 ['B', 'B', 'B', 'I', 'B', 'B']\n",
            "51 ['B', 'B', 'B', 'B', 'B', 'B', 'B']\n",
            "51 ['B', 'B', 'B', 'B', 'B', 'B', 'B', 'B']\n",
            "51 ['B', 'B', 'B', 'B', 'B', 'B', 'B', 'B']\n",
            "51 ['B', 'B', 'B', 'B', 'B']\n",
            "51 ['B', 'B', 'B', 'B', 'B', 'B', 'B', 'B']\n",
            "51 ['B', 'B', 'B', 'B', 'B', 'B', 'B', 'I']\n",
            "51 ['B', 'I', 'B', 'B', 'B', 'B']\n",
            "51 ['B', 'B', 'I', 'B', 'B', 'B']\n",
            "51 ['B', 'B', 'I', 'B']\n",
            "51 ['B', 'B', 'B']\n",
            "51 ['B', 'B', 'B', 'B']\n",
            "51 ['B', 'I', 'B', 'B', 'B', 'B', 'B', 'B']\n",
            "51 ['B', 'B', 'B', 'B', 'B', 'B']\n",
            "51 ['B', 'B', 'B', 'I', 'B', 'B', 'B']\n",
            "51 ['B', 'B', 'B', 'B', 'B', 'B', 'I']\n",
            "51 ['B', 'B', 'B', 'B', 'B', 'B', 'I', 'B']\n",
            "51 ['B', 'B', 'B', 'B', 'B', 'B', 'B', 'B', 'B', 'I', 'B', 'B', 'B', 'B', 'B', 'B']\n",
            "51 ['B', 'B', 'B', 'B']\n",
            "51 ['B', 'B', 'B', 'B', 'B', 'B', 'B']\n",
            "51 ['B', 'B', 'B', 'B', 'B', 'B', 'B']\n",
            "51 ['B', 'I', 'B', 'B', 'B', 'B', 'B', 'B']\n",
            "51 ['B', 'B', 'B', 'B', 'B']\n",
            "51 ['B', 'B', 'B', 'B', 'B', 'B', 'B', 'I', 'B', 'B']\n",
            "51 ['B', 'B', 'B', 'B', 'B', 'B', 'B']\n",
            "51 ['B', 'B', 'B', 'B', 'B', 'B', 'B', 'B', 'B', 'B']\n",
            "51 ['B', 'B', 'I', 'B']\n",
            "51 ['B', 'B', 'B', 'B', 'B']\n",
            "51 ['B', 'B', 'B', 'B', 'B', 'B', 'B']\n",
            "51 ['B', 'B', 'B']\n",
            "51 ['B', 'B', 'B', 'I', 'B']\n",
            "51 ['B', 'B', 'B', 'B', 'B']\n",
            "51 ['B', 'B', 'B', 'B', 'B', 'B', 'B', 'B', 'B', 'B', 'I']\n",
            "51 ['B', 'B', 'B', 'B', 'B', 'B']\n",
            "51 ['B', 'B', 'B']\n",
            "51 ['B', 'I', 'B', 'B', 'B', 'I', 'B']\n",
            "51 ['B', 'B', 'B', 'I', 'B', 'B', 'I']\n",
            "51 ['B', 'B', 'B', 'B', 'I']\n",
            "51 ['B', 'B', 'B', 'B', 'I', 'B', 'B', 'B', 'B', 'B']\n",
            "51 ['B', 'I', 'B', 'I', 'B', 'I', 'B', 'I', 'B', 'B']\n",
            "51 ['B', 'B', 'B', 'B', 'B']\n",
            "51 ['B', 'B', 'B']\n",
            "51 ['B', 'B', 'B', 'B', 'B', 'B', 'B', 'B', 'B', 'B']\n",
            "51 ['B', 'B', 'B', 'B', 'B', 'B', 'B', 'B', 'B', 'I']\n",
            "51 ['B', 'B', 'B', 'I', 'B', 'B', 'B', 'B', 'B', 'B']\n",
            "51 ['B', 'B', 'B', 'B']\n",
            "51 ['B', 'B', 'B', 'B', 'B', 'B', 'B', 'B', 'B', 'B', 'B', 'B', 'B', 'B', 'I']\n",
            "51 ['B', 'B', 'B', 'B', 'B', 'B', 'B', 'B', 'B']\n",
            "51 ['B', 'B', 'B', 'B', 'B', 'B']\n",
            "51 ['B', 'B', 'B', 'B', 'B']\n",
            "51 ['B', 'B', 'B', 'B', 'B', 'B']\n",
            "51 ['B', 'B', 'I', 'B', 'I']\n",
            "51 ['B', 'B', 'I', 'B', 'B', 'I', 'B']\n",
            "51 ['B', 'B', 'B', 'I', 'B', 'B', 'B', 'I']\n",
            "51 ['B', 'I', 'B', 'B', 'B', 'B', 'B', 'B']\n",
            "51 ['B', 'B', 'B', 'B', 'B', 'B', 'B', 'I']\n",
            "51 ['B', 'B', 'B', 'B', 'B', 'B', 'B', 'B']\n",
            "51 ['B', 'B', 'B', 'B']\n",
            "51 ['B', 'B', 'B', 'B', 'B', 'B', 'B', 'B', 'I']\n",
            "51 ['B', 'I', 'B']\n",
            "51 ['B', 'B', 'B', 'B', 'B', 'B', 'B']\n",
            "51 ['B', 'B', 'B', 'I']\n",
            "51 ['B', 'B', 'I', 'B', 'B']\n",
            "51 ['B', 'B', 'B', 'B', 'B', 'B']\n",
            "51 ['B', 'B', 'B', 'I', 'B', 'I', 'B', 'B', 'B']\n",
            "51 ['B', 'B', 'B', 'B', 'B', 'B', 'B', 'B', 'B', 'I']\n",
            "51 ['B', 'B', 'B', 'B', 'B', 'B', 'B']\n",
            "51 ['B', 'I', 'B', 'I', 'B', 'B', 'B', 'B', 'I']\n",
            "51 ['B', 'B', 'B', 'I', 'B', 'B', 'B', 'B']\n",
            "51 ['B', 'B', 'B', 'B', 'B']\n",
            "51 ['B', 'B', 'B', 'B', 'B', 'B', 'B']\n",
            "51 ['B', 'B', 'B', 'I', 'B', 'B']\n",
            "51 ['B', 'B', 'B', 'B', 'B', 'B', 'B', 'B']\n",
            "51 ['B', 'B', 'B', 'B']\n",
            "51 ['B', 'B', 'B', 'B', 'B', 'B']\n",
            "51 ['B', 'B', 'B', 'B', 'B']\n",
            "51 ['B', 'B', 'B', 'I', 'B', 'B', 'B', 'I']\n",
            "51 ['B', 'B', 'I', 'B', 'B']\n",
            "51 ['B', 'B', 'B', 'B', 'B', 'B', 'B']\n",
            "51 ['B', 'B', 'B', 'B', 'I']\n",
            "51 ['B', 'B', 'I', 'B', 'B', 'B', 'B', 'I']\n",
            "51 ['B', 'B', 'I', 'B', 'B']\n",
            "51 ['B', 'B', 'B', 'I', 'B', 'B']\n",
            "51 ['B', 'B', 'B', 'B', 'B', 'B']\n",
            "51 ['B', 'B', 'B', 'B', 'B', 'B', 'B']\n",
            "51 ['B', 'B', 'B', 'B', 'B', 'B', 'B', 'B', 'B', 'B']\n",
            "51 ['B', 'B', 'I', 'B', 'B', 'B', 'B', 'I']\n",
            "51 ['B', 'B', 'I', 'B', 'B']\n",
            "51 ['B', 'B', 'B', 'B']\n",
            "51 ['B', 'B', 'B', 'B']\n",
            "51 ['B', 'B', 'B', 'B', 'B', 'B', 'B']\n",
            "51 ['B', 'B', 'B', 'B', 'B', 'B', 'B', 'I']\n",
            "51 ['B', 'B', 'B', 'I', 'B', 'B']\n",
            "51 ['B', 'B', 'B']\n",
            "51 ['B', 'B', 'B']\n",
            "51 ['B', 'B', 'B', 'B', 'I']\n",
            "51 ['B', 'B', 'B', 'B', 'B']\n",
            "51 ['B', 'B', 'B', 'B', 'B', 'B', 'B']\n",
            "51 ['B', 'B', 'B', 'B', 'I', 'B', 'B']\n",
            "51 ['B', 'B', 'B', 'B', 'B', 'B', 'B']\n",
            "51 ['B', 'B', 'B', 'B', 'B']\n",
            "51 ['B', 'B', 'I', 'B', 'B', 'B', 'B', 'B']\n",
            "51 ['B', 'B', 'B', 'B', 'B', 'B', 'I', 'B', 'B', 'B']\n",
            "51 ['B', 'I', 'B', 'B', 'I', 'B', 'B']\n",
            "51 ['B', 'B', 'B', 'B', 'B', 'B', 'B', 'B', 'B', 'B', 'B', 'B', 'B']\n",
            "51 ['B', 'B', 'B', 'B', 'B', 'B', 'B', 'I']\n",
            "51 ['B', 'B', 'B']\n",
            "51 ['B', 'B', 'B', 'B', 'B', 'B', 'B', 'B', 'I', 'B']\n",
            "51 ['B', 'B', 'B', 'B']\n",
            "51 ['B', 'B', 'B', 'B', 'B', 'B', 'B', 'B', 'B']\n",
            "51 ['B', 'B', 'B', 'B', 'B', 'B', 'B', 'B', 'B', 'I', 'B', 'B']\n",
            "51 ['B', 'B', 'B', 'B', 'B']\n",
            "51 ['B', 'B', 'B', 'B', 'B']\n",
            "51 ['B', 'B', 'B', 'B', 'B', 'B', 'B', 'B', 'B', 'B', 'I']\n",
            "51 ['B', 'B', 'B', 'B', 'B', 'B', 'B', 'B', 'B', 'B', 'B', 'B', 'B', 'I']\n",
            "51 ['B', 'B', 'I', 'B', 'B', 'I']\n",
            "51 ['B', 'I', 'B', 'B', 'B', 'B']\n",
            "51 ['B', 'B', 'I', 'B', 'B', 'B']\n",
            "51 ['B', 'B', 'B', 'B', 'B']\n",
            "51 ['B', 'B', 'B', 'B', 'B']\n",
            "51 ['B', 'B', 'B', 'B', 'B', 'B', 'B', 'B']\n",
            "51 ['B', 'B', 'B', 'B', 'B', 'B', 'B', 'B', 'I']\n",
            "51 ['B', 'I', 'B', 'B', 'B', 'I']\n",
            "51 ['B', 'B', 'B', 'B', 'B', 'B', 'B']\n",
            "51 ['B', 'B', 'I', 'B', 'B', 'B', 'B']\n",
            "51 ['B', 'B', 'I', 'B', 'B', 'B', 'B', 'B', 'B', 'B', 'B']\n",
            "51 ['B', 'B', 'B', 'B', 'B', 'B']\n",
            "51 ['B', 'B', 'B', 'B', 'B']\n",
            "51 ['B', 'B', 'B', 'B', 'B', 'B']\n",
            "51 ['B', 'B', 'B', 'B', 'B', 'B', 'B', 'B', 'B', 'B']\n",
            "51 ['B', 'B', 'B', 'B', 'B', 'B', 'B']\n",
            "51 ['B', 'B', 'B']\n",
            "51 ['B', 'B', 'B', 'B', 'B', 'B', 'B']\n",
            "51 ['B', 'B', 'B', 'B', 'B', 'B', 'B']\n",
            "51 ['B', 'B', 'I', 'B', 'B', 'B', 'B']\n",
            "51 ['B', 'B', 'B', 'B', 'B', 'B', 'B']\n",
            "51 ['B', 'B', 'I', 'B', 'B', 'I', 'B', 'B']\n",
            "51 ['B', 'B', 'B', 'B', 'B', 'B', 'B']\n",
            "51 ['B', 'B', 'B', 'B', 'B']\n",
            "51 ['B', 'B', 'B', 'B', 'B', 'I']\n",
            "51 ['B', 'B', 'B', 'B', 'B', 'B', 'B', 'B']\n",
            "51 ['B', 'B', 'I', 'B', 'B', 'B', 'B', 'B']\n",
            "51 ['B', 'B', 'B', 'B', 'B']\n",
            "51 ['B', 'B', 'B', 'B', 'B']\n",
            "51 ['B', 'B', 'B', 'B', 'B', 'B']\n",
            "51 ['B', 'B', 'B', 'B', 'B']\n",
            "51 ['B', 'B', 'B', 'B']\n",
            "51 ['B', 'B', 'B', 'B', 'B', 'B', 'B', 'B', 'I']\n",
            "51 ['B', 'B', 'B', 'B', 'B', 'B']\n",
            "51 ['B', 'B', 'I', 'B', 'B', 'B', 'B']\n",
            "51 ['B', 'B', 'B', 'B', 'B', 'B', 'I', 'B', 'B', 'B']\n",
            "51 ['B', 'B', 'B', 'B', 'B', 'B']\n",
            "51 ['B', 'B', 'B']\n",
            "51 ['B', 'B', 'I', 'B', 'B', 'B', 'B', 'B', 'B', 'I']\n",
            "51 ['B', 'B', 'B', 'B', 'B', 'B', 'B']\n",
            "51 ['B', 'B', 'I', 'B', 'B', 'I', 'B']\n",
            "51 ['B', 'B', 'I', 'B', 'B', 'I']\n",
            "51 ['B', 'B', 'I', 'B', 'B', 'B', 'B', 'B', 'B', 'B', 'I']\n",
            "51 ['B', 'B', 'B', 'B', 'B']\n",
            "51 ['B', 'B', 'B', 'I']\n",
            "51 ['B', 'B', 'B', 'I', 'B', 'B', 'B']\n",
            "51 ['B', 'B', 'B', 'B', 'B', 'B', 'I', 'B', 'B', 'I', 'B']\n",
            "51 ['B', 'B', 'B', 'B', 'B']\n",
            "51 ['B', 'B', 'B', 'B', 'B', 'B']\n",
            "51 ['B', 'B', 'B', 'B', 'B', 'B']\n",
            "51 ['B', 'B', 'B', 'B']\n",
            "51 ['B', 'B', 'B', 'B', 'B', 'B']\n",
            "51 ['B', 'I', 'B', 'B', 'B', 'B', 'I', 'B', 'B', 'B', 'B', 'B', 'I', 'B', 'B', 'B']\n",
            "51 ['B', 'B', 'I', 'B', 'B']\n",
            "51 ['B', 'B', 'B', 'B']\n",
            "51 ['B', 'B', 'B', 'B', 'B', 'B', 'B', 'I']\n",
            "51 ['B', 'B', 'B', 'B', 'B', 'B']\n",
            "51 ['B', 'B', 'I', 'B', 'B', 'B']\n",
            "51 ['B', 'B', 'B', 'B', 'B', 'I']\n",
            "51 ['B', 'B', 'B', 'B', 'B', 'I', 'B']\n",
            "51 ['B', 'B', 'B', 'B', 'B', 'B']\n",
            "51 ['B', 'B', 'B', 'B', 'B', 'B', 'B']\n",
            "51 ['B', 'B', 'B', 'I', 'B', 'B']\n",
            "51 ['B', 'B', 'I', 'B', 'B', 'B', 'B', 'B']\n",
            "51 ['B', 'B', 'B', 'B', 'B', 'B', 'I']\n",
            "51 ['B', 'B', 'B', 'B', 'B']\n",
            "51 ['B', 'B', 'B', 'B', 'B', 'B', 'B']\n",
            "51 ['B', 'B', 'B', 'B', 'B', 'I']\n",
            "51 ['B', 'B', 'B', 'B', 'B', 'B', 'B', 'B']\n",
            "51 ['B', 'B', 'B', 'B']\n",
            "51 ['B', 'B', 'I', 'B', 'B']\n",
            "51 ['B', 'B', 'B', 'B', 'B', 'B', 'B', 'B']\n"
          ]
        }
      ]
    },
    {
      "cell_type": "code",
      "source": [
        "temp=[]\n",
        "pred = model.predict(np.array([X_test[72]]))\n",
        "p = np.argmax(pred, axis=-1)\n",
        "for i,ix in enumerate(X_test[72]):\n",
        "  if ix==len(test_letters)-1:\n",
        "      break\n",
        "  temp.append(tags_value[p[0][i]])\n",
        "  predicted.append(tags_value[p[0][i]])\n",
        "print(temp)\n"
      ],
      "metadata": {
        "id": "RBbB9qIdKsAI",
        "outputId": "4a9d7708-5655-4cb8-da54-1ee7dca4c196",
        "colab": {
          "base_uri": "https://localhost:8080/"
        }
      },
      "execution_count": 38,
      "outputs": [
        {
          "output_type": "stream",
          "name": "stdout",
          "text": [
            "['B', 'B', 'B', 'B', 'B', 'B', '<PAD>', '<PAD>', '<PAD>', '<PAD>', '<PAD>', '<PAD>', '<PAD>', '<PAD>', '<PAD>', '<PAD>', '<PAD>', '<PAD>', '<PAD>', '<PAD>']\n"
          ]
        }
      ]
    },
    {
      "cell_type": "code",
      "source": [
        "end_testoutput[72]"
      ],
      "metadata": {
        "id": "91zfMC8nDvzI",
        "outputId": "738182b3-8342-4bb6-fd3e-4ae100221b03",
        "colab": {
          "base_uri": "https://localhost:8080/"
        }
      },
      "execution_count": 39,
      "outputs": [
        {
          "output_type": "execute_result",
          "data": {
            "text/plain": [
              "['B', 'B', 'B', 'B', 'B', 'B']"
            ]
          },
          "metadata": {},
          "execution_count": 39
        }
      ]
    },
    {
      "cell_type": "code",
      "source": [
        "string_output=[]\n",
        "count=0\n",
        "for i,j in zip(test_data,end_testoutput):\n",
        "  count=count+1\n",
        "  empyt_string=[]\n",
        "  for index in range(0,len(i)):\n",
        "    if index <len(i)-1:\n",
        "      if j[index]== \"B\" and j[index+1] == \"B\":\n",
        "        empyt_string.append(i[index])\n",
        "      elif j[index]== \"B\" and j[index+1] == \"I\"and index<len(i)-1:\n",
        "        value=i[index]+i[index+1]\n",
        "        empyt_string.append(value)\n",
        "    elif j[index] == \"B\":\n",
        "      empyt_string.append(i[index])\n",
        "  string_output.append(empyt_string)\n",
        "\n"
      ],
      "metadata": {
        "id": "kjxlG1xw4PId"
      },
      "execution_count": 66,
      "outputs": []
    },
    {
      "cell_type": "code",
      "source": [
        "string_output1=[]"
      ],
      "metadata": {
        "id": "x_IVb-jid_JW"
      },
      "execution_count": 73,
      "outputs": []
    },
    {
      "cell_type": "code",
      "source": [
        "for i in string_output:\n",
        "  string_value=\"\"\n",
        "  for j in range(len(i)):\n",
        "    if j!=len(i)-1:\n",
        "      string_value=string_value+i[j]+\"-\"\n",
        "    else:\n",
        "      string_value=string_value+i[j]\n",
        "  string_output1.append(string_value)\n",
        "\n"
      ],
      "metadata": {
        "id": "ndHcpGUcb_wH"
      },
      "execution_count": 74,
      "outputs": []
    },
    {
      "cell_type": "code",
      "source": [
        "df=pd.DataFrame(predicted)"
      ],
      "metadata": {
        "id": "bPld6geqlw47"
      },
      "execution_count": null,
      "outputs": []
    },
    {
      "cell_type": "code",
      "source": [
        "len(string_output)"
      ],
      "metadata": {
        "id": "POIIrq597I0i"
      },
      "execution_count": null,
      "outputs": []
    },
    {
      "cell_type": "code",
      "source": [
        "string_output"
      ],
      "metadata": {
        "id": "7Y0Ivvnu7LnK"
      },
      "execution_count": null,
      "outputs": []
    },
    {
      "cell_type": "code",
      "source": [
        "df.value_counts()"
      ],
      "metadata": {
        "id": "Ra1tZUUVl6T_"
      },
      "execution_count": null,
      "outputs": []
    },
    {
      "cell_type": "code",
      "source": [
        "df1=pd.DataFrame(acutal)"
      ],
      "metadata": {
        "id": "aCZGKS1VmBfu"
      },
      "execution_count": null,
      "outputs": []
    },
    {
      "cell_type": "code",
      "source": [
        "df1.value_counts()"
      ],
      "metadata": {
        "id": "JMg63hLUmHhP"
      },
      "execution_count": null,
      "outputs": []
    },
    {
      "cell_type": "code",
      "source": [
        "count=0"
      ],
      "metadata": {
        "id": "5MjNPl__lfpZ"
      },
      "execution_count": null,
      "outputs": []
    },
    {
      "cell_type": "code",
      "source": [
        "total_value=list(zip(predicted,acutal))"
      ],
      "metadata": {
        "id": "0rAkIbE-mqbu"
      },
      "execution_count": null,
      "outputs": []
    },
    {
      "cell_type": "code",
      "source": [
        "from sklearn.metrics import accuracy_score\n"
      ],
      "metadata": {
        "id": "N5Keq9gDgIgX"
      },
      "execution_count": null,
      "outputs": []
    },
    {
      "cell_type": "code",
      "source": [
        "accuracy_score(predicted,acutal)"
      ],
      "metadata": {
        "id": "iNBqNI_ljyaj"
      },
      "execution_count": null,
      "outputs": []
    },
    {
      "cell_type": "code",
      "source": [
        "true_pos=0\n",
        "false_neg=0"
      ],
      "metadata": {
        "id": "8POpgNpM5crY"
      },
      "execution_count": null,
      "outputs": []
    },
    {
      "cell_type": "code",
      "source": [
        "for i,j in zip(predicted,acutal):\n",
        "   if i == 'I' and j == 'I':\n",
        "     true_pos += 1\n",
        "   if i == 'B' and j == 'I':\n",
        "      false_neg += 1\n"
      ],
      "metadata": {
        "id": "AkPa6H7tgexJ"
      },
      "execution_count": null,
      "outputs": []
    },
    {
      "cell_type": "code",
      "source": [
        "recall = 100 * (true_pos / (true_pos + false_neg))"
      ],
      "metadata": {
        "id": "zD4vGA8b5rV3"
      },
      "execution_count": null,
      "outputs": []
    },
    {
      "cell_type": "code",
      "source": [
        "true_pos1 = 0\n",
        "false_pos1 = 0\n",
        "for i,j in zip(predicted,acutal):\n",
        "   if i == 'I' and j == 'I':\n",
        "     true_pos1 += 1\n",
        "   if i == 'I' and j == 'B':\n",
        "      false_pos1 += 1\n",
        "precision = 100 * (true_pos1 / (true_pos1 + false_pos1))"
      ],
      "metadata": {
        "id": "iGPX4qSy5yc_"
      },
      "execution_count": null,
      "outputs": []
    },
    {
      "cell_type": "code",
      "source": [
        "precision"
      ],
      "metadata": {
        "id": "p6ctoHoC5zbW"
      },
      "execution_count": null,
      "outputs": []
    },
    {
      "cell_type": "code",
      "source": [
        "fscore = (2 * (precision * recall)) / (precision + recall)\n",
        "print(\"Fscore: \", fscore)"
      ],
      "metadata": {
        "id": "K85Xgg7M6QoI"
      },
      "execution_count": null,
      "outputs": []
    },
    {
      "cell_type": "code",
      "source": [
        "f = open(\"output.txt\", \"a\")\n",
        "for i,j in zip(validation_data,string_output1):\n",
        "  f.write(i)\n",
        "  f.write(\"\\t\")\n",
        "  f.write(j)\n",
        "  f.write('\\n')\n",
        "f.close()"
      ],
      "metadata": {
        "id": "lZJ_VoM0G2SO"
      },
      "execution_count": 75,
      "outputs": []
    },
    {
      "cell_type": "code",
      "source": [],
      "metadata": {
        "id": "FXnpu851-vVs"
      },
      "execution_count": 71,
      "outputs": []
    }
  ]
}